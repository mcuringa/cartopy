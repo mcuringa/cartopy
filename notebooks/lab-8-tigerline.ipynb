{
  "cells": [
    {
      "cell_type": "markdown",
      "metadata": {
        "id": "3R0XoyYDrMVg"
      },
      "source": [
        "Tiger/line: census geospatial data\n",
        "==================================\n",
        "The  US Census Beureau provides geospatial \"shapefiles\"\n",
        "that correspond to the statistical data the collect\n",
        "and make available through the API.\n",
        "\n",
        "In this notebook we will demonstrate how to connect to these shapefiles\n",
        "using `geopandas` and how to **merge** them with the statistical data\n",
        "to create interative `folium` maps.\n",
        "\n",
        "\n",
        "**Goals:**\n",
        "\n",
        "- set up and test out your own Census API key\n",
        "- understand some key geographic levels in the Census API\n",
        "- work with Census fields and geographies to query data\n",
        "\n",
        "**To follow this lab, you will have to [sign up for a Census API key](https://api.census.gov/data/key_signup.html).** You will need your key to run the code in this notebook. Students in CSC 602 can put **Adelphi University** as the organization.\n",
        "\n",
        "[Watch the video walkthrough](https://youtu.be/AwyhtIcpeLw) [35:11]\n",
        "\n",
        "Setup\n",
        "=====\n",
        "- loading libraries\n",
        "- initializing your API key\n",
        "\n"
      ]
    },
    {
      "cell_type": "markdown",
      "metadata": {},
      "source": [
        "Census API Data\n",
        "===============\n",
        "We will load basic demographic data from the Census API.\n",
        "See [lab 7](https://drive.google.com/file/d/1SxMqPCqJvNwL4U40bWYWDWF8u5rqAVfF/view?usp=sharing) for more details on how to use the Census API.\n",
        "\n",
        "The US States\n",
        "=============\n",
        "\n"
      ]
    },
    {
      "cell_type": "code",
      "execution_count": 1,
      "metadata": {
        "id": "duSEQ8sNrMVj"
      },
      "outputs": [],
      "source": [
        "# install libraries that are not part of Colab by default\n",
        "!pip install census us mapclassify -q\n",
        "\n",
        "\n",
        "%load_ext autoreload\n",
        "from maptools import tiger, census_vars\n",
        "\n",
        "# load the libraries we need\n",
        "from census import Census\n",
        "import us\n",
        "import pandas as pd\n",
        "import geopandas as gpd\n",
        "\n",
        "# replace this with your own Census API key (this is a fake key)\n",
        "api_key = \"796f9e16b6e3f73329d0d36de60d226d53215cc5\"\n",
        "root = \"/home/mxc/Projects/cartopy/tiger\""
      ]
    },
    {
      "cell_type": "code",
      "execution_count": 2,
      "metadata": {
        "id": "1Zvz-z1PrMVk"
      },
      "outputs": [
        {
          "data": {
            "text/plain": [
              "<module 'geopandas' from '/home/mxc/.virtualenvs/cartopy/lib/python3.10/site-packages/geopandas/__init__.py'>"
            ]
          },
          "execution_count": 2,
          "metadata": {},
          "output_type": "execute_result"
        }
      ],
      "source": [
        "import os\n",
        "api_key = os.getenv('CENSUS_API_KEY')\n",
        "\n",
        "\n",
        "# from google.colab import userdata\n",
        "# api_key = userdata.get('CENSUS_API_KEY')\n",
        "\n",
        "api_key\n",
        "gpd"
      ]
    },
    {
      "cell_type": "code",
      "execution_count": 8,
      "metadata": {},
      "outputs": [],
      "source": [
        "# places\n",
        "places = \"https://www2.census.gov/geo/tiger/TIGER2024/PLACE/\"\n",
        "t = tiger.load_tiger_dir(url=places, root=root)\n",
        "\n",
        "path = os.path.join(root,\"PLACE\")\n",
        "print(path)\n",
        "out = os.path.join(root,\"places\")\n",
        "# walk path and move all .geojson files to out\n",
        "for r, dirs, files in os.walk(path):\n",
        "    for f in files:\n",
        "        if f.endswith(\".geojson\"):\n",
        "            # tl_2024_01_place.geojson\n",
        "            state = f.split(\"_\")[2]\n",
        "            newname = census_vars.lookup_state(state).lower() + \".geojson\"\n",
        "            og = os.path.join(r, f)\n",
        "            os.rename(og, os.path.join(out, newname))\n",
        "\n",
        "t = [os.path.join(out, f) for f in os.listdir(out) if f.endswith(\".geojson\")]\n",
        "\n",
        "df = pd.concat([gpd.read_file(f) for f in t])\n",
        "df.to_file(os.path.join(root, \"places/places.geojson\"), driver=\"GeoJSON\")\n"
      ]
    },
    {
      "cell_type": "code",
      "execution_count": 26,
      "metadata": {},
      "outputs": [],
      "source": [
        "# landmarks\n",
        "landmarks = \"https://www2.census.gov/geo/tiger/TIGER2024/POINTLM/\"\n",
        "t = tiger.load_tiger_dir(url=landmarks, root=root)\n",
        "\n",
        "path = os.path.join(root, \"POINTLM\")\n",
        "print(path)\n",
        "out = os.path.join(root,\"landmarks\")\n",
        "# walk path and move all .geojson files to out\n",
        "for r, dirs, files in os.walk(path):\n",
        "    for f in files:\n",
        "        if f.endswith(\".geojson\"):\n",
        "            # tl_2024_01_place.geojson\n",
        "            state = f.split(\"_\")[2]\n",
        "            newname = census_vars.lookup_state(state).lower() + \".geojson\"\n",
        "            og = os.path.join(r, f)\n",
        "            os.rename(og, os.path.join(out, newname))\n",
        "\n",
        "t = [os.path.join(out, f) for f in os.listdir(out) if f.endswith(\".geojson\")]\n",
        "\n",
        "df = pd.concat([gpd.read_file(f) for f in t])\n",
        "df.to_file(os.path.join(root, \"landmarks/landmarks.geojson\"), driver=\"GeoJSON\")\n"
      ]
    },
    {
      "cell_type": "code",
      "execution_count": 33,
      "metadata": {},
      "outputs": [],
      "source": [
        "# tracts\n",
        "url = \"https://www2.census.gov/geo/tiger/TIGER2024/TRACT/\"\n",
        "t = tiger.load_tiger_dir(url=url, root=root)\n",
        "out = os.path.join(root, \"tracts\")\n",
        "os.makedirs(out, exist_ok=True)\n",
        "df = pd.concat([gpd.read_file(f) for f in t])\n",
        "df.to_file(os.path.join(out, \"tracts.geojson\"), driver=\"GeoJSON\")\n",
        "\n",
        "for og in t:\n",
        "    f = os.path.basename(og)\n",
        "    state = f.split(\"_\")[2]\n",
        "    newname = census_vars.lookup_state(state).lower() + \".geojson\"\n",
        "    os.rename(og, os.path.join(out, newname))"
      ]
    },
    {
      "cell_type": "code",
      "execution_count": 34,
      "metadata": {},
      "outputs": [],
      "source": [
        "# school districts\n",
        "url = \"https://www2.census.gov/geo/tiger/TIGER2024/UNSD/\"\n",
        "t = tiger.load_tiger_dir(url=url, root=root)\n",
        "out = os.path.join(root, \"schools\")\n",
        "os.makedirs(out, exist_ok=True)\n",
        "df = pd.concat([gpd.read_file(f) for f in t])\n",
        "df.to_file(os.path.join(out, \"schools.geojson\"), driver=\"GeoJSON\")\n",
        "\n",
        "for og in t:\n",
        "    f = os.path.basename(og)\n",
        "    state = f.split(\"_\")[2]\n",
        "    newname = census_vars.lookup_state(state).lower() + \".geojson\"\n",
        "    os.rename(og, os.path.join(out, newname))\n"
      ]
    },
    {
      "cell_type": "code",
      "execution_count": 35,
      "metadata": {},
      "outputs": [
        {
          "data": {
            "text/plain": [
              "['/home/mxc/Projects/cartopy/tiger/ZCTA520/tl_2024_us_zcta520/tl_2024_us_zcta520.geojson']"
            ]
          },
          "execution_count": 35,
          "metadata": {},
          "output_type": "execute_result"
        }
      ],
      "source": [
        "# zip codes\n",
        "url = \"https://www2.census.gov/geo/tiger/TIGER2024/ZCTA520/\"\n",
        "t = tiger.load_tiger_dir(url=url, root=root)\n",
        "df = gpd.read_file( \"/home/mxc/Projects/cartopy/tiger/ZCTA520/tl_2024_us_zcta520/tl_2024_us_zcta520.geojson\")\n",
        "df\n",
        "out = os.path.join(root, \"zipcodes\")\n",
        "os.makedirs(out, exist_ok=True)\n",
        "\n",
        "states = gpd.read_file(os.path.join(root, \"states.geojson\"))\n",
        "\n",
        "def state_zips(state):\n",
        "    x = df[df.geometry.intersects(state.geometry)]\n",
        "    x.to_file(os.path.join( out, f\"{state.STATE.lower()}.geojson\"), driver=\"GeoJSON\")\n",
        "\n",
        "\n",
        "states[\"STATE\"] = states.STATEFP.apply(census_vars.lookup_state)\n",
        "_ = states.apply(state_zips, axis=1)\n",
        "os.rename(\"/home/mxc/Projects/cartopy/tiger/ZCTA520/tl_2024_us_zcta520/tl_2024_us_zcta520.geojson\", os.path.join(out, \"zipcodes.geojson\"))"
      ]
    },
    {
      "cell_type": "code",
      "execution_count": null,
      "metadata": {},
      "outputs": [],
      "source": [
        "\n",
        "# consolidated cities\n",
        "concity = \"https://www2.census.gov/geo/tiger/TIGER2024/CONCITY/\"\n",
        "t = tiger.load_tiger_dir(concity, root=root)\n",
        "df = pd.concat([gpd.read_file(f) for f in t])\n",
        "df.to_file(root + \"/concity.shp\")"
      ]
    },
    {
      "cell_type": "code",
      "execution_count": 3,
      "metadata": {},
      "outputs": [],
      "source": [
        "# counties\n",
        "counties = gpd.read_file( \"/home/mxc/Projects/cartopy/tiger/tmp/tl_2024_us_county/tl_2024_us_county.shp\")\n"
      ]
    },
    {
      "cell_type": "code",
      "execution_count": 6,
      "metadata": {},
      "outputs": [],
      "source": [
        "\n",
        "# counties by state\n",
        "counties[\"STATE\"] = counties[\"STATEFP\"].apply(census_vars.lookup_state)\n",
        "def state_shapes(state):\n",
        "    x = counties[counties[\"STATE\"] == state]\n",
        "    x.to_file(os.path.join(root, f\"counties/{state.lower()}.geojson\"), driver=\"GeoJSON\")\n",
        "\n",
        "counties.STATE.apply(state_shapes)\n",
        "counties.to_file(os.path.join(root, \"counties/counties.geojson\"), driver=\"GeoJSON\")"
      ]
    },
    {
      "cell_type": "code",
      "execution_count": null,
      "metadata": {},
      "outputs": [],
      "source": [
        "\n",
        "# coastline\n",
        "coast = gpd.read_file( \"/home/mxc/Projects/cartopy/tiger/tmp/tl_2024_us_coastline/tl_2024_us_coastline.shp\")\n",
        "coast.to_file(os.path.join(root, \"coastline.geojson\"), driver=\"GeoJSON\")"
      ]
    }
  ],
  "metadata": {
    "colab": {
      "provenance": [],
      "toc_visible": true
    },
    "kernelspec": {
      "display_name": "cartopy",
      "language": "python",
      "name": "python3"
    },
    "language_info": {
      "codemirror_mode": {
        "name": "ipython",
        "version": 3
      },
      "file_extension": ".py",
      "mimetype": "text/x-python",
      "name": "python",
      "nbconvert_exporter": "python",
      "pygments_lexer": "ipython3",
      "version": "3.10.12"
    }
  },
  "nbformat": 4,
  "nbformat_minor": 0
}
