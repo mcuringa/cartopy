{
  "cells": [
    {
      "cell_type": "markdown",
      "metadata": {
        "id": "3R0XoyYDrMVg"
      },
      "source": [
        "Tiger/line: census geospatial data\n",
        "==================================\n",
        "The  US Census Beureau provides geospatial \"shapefiles\"\n",
        "that correspond to the statistical data the collect\n",
        "and make available through the API.\n",
        "\n",
        "In this notebook we will demonstrate how to connect to these shapefiles\n",
        "using `geopandas` and how to **merge** them with the statistical data\n",
        "to create interactive `folium` maps.\n",
        "\n",
        "\n",
        "This lab assumes that you have an API key and \n",
        "understand the basics of querying the US Census API.\n"
      ]
    },
    {
      "cell_type": "markdown",
      "metadata": {},
      "source": [
        "Setup\n",
        "===============\n",
        "We will load basic demographic data from the Census API.\n",
        "See [lab 7](https://drive.google.com/file/d/1SxMqPCqJvNwL4U40bWYWDWF8u5rqAVfF/view?usp=sharing) for more details on how to use the Census API.\n",
        "\n",
        "The US States\n",
        "=============\n",
        "\n"
      ]
    },
    {
      "cell_type": "code",
      "execution_count": 1,
      "metadata": {
        "id": "duSEQ8sNrMVj"
      },
      "outputs": [],
      "source": [
        "%load_ext autoreload\n",
        "%autoreload 2\n",
        "\n",
        "\n",
        "# install libraries that are not part of Colab by default\n",
        "!pip install census us mapclassify -q\n",
        "\n",
        "\n",
        "\n",
        "from maptools import tiger, census_vars\n",
        "\n",
        "# load the libraries we need\n",
        "from census import Census\n",
        "import us\n",
        "import pandas as pd\n",
        "import geopandas as gpd\n",
        "\n",
        "# replace this with your own Census API key (this is a fake key)\n",
        "api_key = \"796f9e16b6e3f73329d0d36de60d226d53215cc5\"\n",
        "root = \"/home/mxc/Projects/cartopy/tiger\""
      ]
    },
    {
      "cell_type": "code",
      "execution_count": 2,
      "metadata": {
        "id": "1Zvz-z1PrMVk"
      },
      "outputs": [
        {
          "data": {
            "text/plain": [
              "<module 'geopandas' from '/home/mxc/.virtualenvs/cartopy/lib/python3.10/site-packages/geopandas/__init__.py'>"
            ]
          },
          "execution_count": 2,
          "metadata": {},
          "output_type": "execute_result"
        }
      ],
      "source": [
        "import os\n",
        "api_key = os.getenv('CENSUS_API_KEY')\n",
        "\n",
        "\n",
        "# from google.colab import userdata\n",
        "# api_key = userdata.get('CENSUS_API_KEY')\n",
        "\n",
        "api_key\n",
        "gpd"
      ]
    },
    {
      "cell_type": "code",
      "execution_count": 4,
      "metadata": {},
      "outputs": [
        {
          "name": "stdout",
          "output_type": "stream",
          "text": [
            "dropped foo\n",
            "a\n",
            "Number of rows in tables: 27851\n",
            "Number of rows in tfidf_matrix: 27851\n"
          ]
        }
      ],
      "source": [
        "\n",
        "\n",
        "cv, ct = census_vars._init_vars()\n",
        "census_vars.search(\"foo\")"
      ]
    }
  ],
  "metadata": {
    "colab": {
      "provenance": [],
      "toc_visible": true
    },
    "kernelspec": {
      "display_name": "cartopy",
      "language": "python",
      "name": "python3"
    },
    "language_info": {
      "codemirror_mode": {
        "name": "ipython",
        "version": 3
      },
      "file_extension": ".py",
      "mimetype": "text/x-python",
      "name": "python",
      "nbconvert_exporter": "python",
      "pygments_lexer": "ipython3",
      "version": "3.10.12"
    }
  },
  "nbformat": 4,
  "nbformat_minor": 0
}
