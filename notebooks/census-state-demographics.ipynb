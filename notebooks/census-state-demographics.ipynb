{
 "cells": [
  {
   "cell_type": "markdown",
   "metadata": {},
   "source": [
    "Basic Population Data at State Level\n",
    "====================================\n",
    "This notebook gathers US census data from the American Community Survey (ACS)\n",
    "related to car ownership, commuting time, distance, and mode of transportation.\n",
    "\n"
   ]
  },
  {
   "cell_type": "code",
   "execution_count": 6,
   "metadata": {},
   "outputs": [],
   "source": [
    "from census import Census\n",
    "import us\n",
    "from us import states\n",
    "import os\n",
    "import pandas as pd\n",
    "import geopandas as gpd\n",
    "import requests\n",
    "\n",
    "api_key = os.environ[\"CENSUS_API_KEY\"]"
   ]
  },
  {
   "cell_type": "code",
   "execution_count": 25,
   "metadata": {},
   "outputs": [],
   "source": [
    "c = Census(api_key, year=2022)\n",
    "\n",
    "pop_vars = {\n",
    "    'NAME': 'state_name',\n",
    "    'B01003_001E': 'total_pop',\n",
    "    'B03002_006E': 'asian',\n",
    "    'B03002_004E': 'black',\n",
    "    'B03002_005E': 'indian',\n",
    "    'B03002_012E': 'latino',\n",
    "    'B03002_009E': 'mixed',\n",
    "    'B03002_008E': 'other',\n",
    "    'B03002_007E': 'pacific',\n",
    "    'B03002_003E': 'white',\n",
    "    'B19013_001E': 'median_inc',\n",
    "    'B17001_002E': 'poverty',\n",
    "    'GEO_ID': 'geoid'\n",
    " }\n",
    "\n",
    "c = Census(api_key, year=2022)\n",
    "data = c.acs5.get( list(pop_vars.keys()), {'for': 'state:*'})\n",
    "\n",
    "\n",
    "df = pd.DataFrame(data)\n",
    "\n",
    "df.rename(columns=pop_vars | {\"state\":\"statefp\", \"name\":\"state_name\"}, inplace=True)\n",
    "df[\"state\"] = df[\"statefp\"].apply( lambda x: \"DC\" if x == \"11\" else us.states.lookup(x).abbr)\n",
    "df = df[['state', 'total_pop', 'asian', 'black', 'indian', 'latino',\n",
    "        'mixed', 'other', 'pacific', 'white', 'median_inc', 'poverty', 'state_name', 'geoid', 'statefp'] ]\n"
   ]
  },
  {
   "cell_type": "code",
   "execution_count": 27,
   "metadata": {},
   "outputs": [],
   "source": [
    "df.to_csv(\"data/state_demographics.csv\", index=False)"
   ]
  },
  {
   "cell_type": "code",
   "execution_count": null,
   "metadata": {},
   "outputs": [],
   "source": []
  }
 ],
 "metadata": {
  "kernelspec": {
   "display_name": "school-data",
   "language": "python",
   "name": "python3"
  },
  "language_info": {
   "codemirror_mode": {
    "name": "ipython",
    "version": 3
   },
   "file_extension": ".py",
   "mimetype": "text/x-python",
   "name": "python",
   "nbconvert_exporter": "python",
   "pygments_lexer": "ipython3",
   "version": "3.10.12"
  },
  "orig_nbformat": 4
 },
 "nbformat": 4,
 "nbformat_minor": 2
}
