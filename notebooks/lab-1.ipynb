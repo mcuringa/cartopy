{
 "cells": [
  {
   "cell_type": "markdown",
   "metadata": {},
   "source": [
    "Lab 1: Data(frames) & Variables\n",
    "===============================\n",
    "Our goals this week are to get familiar with working Python, Jupyter Notebook (and Colab), and pandas DataFrame objects. We're going to look at US Census data that describes cities in the United States.\n",
    "\n",
    "\n",
    "Basic Python\n",
    "------------\n",
    "- statements\n",
    "- keywords\n",
    "- variables\n",
    "  - variable names\n",
    "- assignment operator\n",
    "- built-in functions\n",
    "  - arguments\n",
    "  - print()\n",
    "  - round()\n",
    "  - len()\n",
    "- comments\n",
    "- math operators\n",
    "\n",
    "A list of Python keywords:\n",
    "\n",
    "```\n",
    "False      await      else       import     pass\n",
    "None       break      except     in         raise\n",
    "True       class      finally    is         return\n",
    "and        continue   for        lambda     try\n",
    "as         def        from       nonlocal   while\n",
    "assert     del        global     not        with\n",
    "async      elif       if         or         yield\n",
    "```\n",
    "\n",
    "A list of Python math operators:\n",
    "\n",
    "```\n",
    "+       addition\n",
    "-       subtraction\n",
    "*       multiplication\n",
    "/       division\n",
    "\n",
    "**      exponentiation\n",
    "\n",
    "//      floor division\n",
    "%       modulus\n",
    "```\n",
    "\n"
   ]
  },
  {
   "cell_type": "markdown",
   "metadata": {},
   "source": [
    "\n",
    "Case Study: City Populations\n",
    "----------------------------\n",
    "The table below shows the 10 most populous cities in the United States in 2023. \n",
    "The data comes from [Wikipedia](https://en.wikipedia.org/wiki/List_of_United_States_cities_by_population).\n",
    "Area is shown in square miles.\n",
    "\n",
    "|City            |  State  |  2023 Pop. Est  |  Area (sq mi)  |  \n",
    "|----------------|---------|-----------------|----------------|\n",
    "|New York        |  NY     |  8,258,035      |  300.5         |  \n",
    "|Los Angeles     |  CA     |  3,820,914      |  469.5         |  \n",
    "|Chicago         |  IL     |  2,664,452      |  227.7         |  \n",
    "|Houston         |  TX     |  2,314,157      |  640.4         |  \n",
    "|Phoenix         |  AZ     |  1,650,070      |  518.0         |  \n",
    "|Philadelphia    |  PA     |  1,550,542      |  134.4         |  \n",
    "|San Antonio     |  TX     |  1,495,295      |  498.8         |  \n",
    "|San Diego       |  CA     |  1,388,320      |  325.9         |  \n",
    "|Dallas          |  TX     |  1,302,868      |  339.6         |  \n",
    "|Jacksonville    |  FL     |  985,843        |  747.3         |  \n",
    "\n",
    "\n"
   ]
  },
  {
   "cell_type": "code",
   "execution_count": 8,
   "metadata": {},
   "outputs": [
    {
     "data": {
      "text/plain": [
       "27480.98169717138"
      ]
     },
     "execution_count": 8,
     "metadata": {},
     "output_type": "execute_result"
    }
   ],
   "source": [
    "# create a variable for the population of NYC\n",
    "# create a variable for the population of LA\n",
    "# calculate how many more people live in NYC than in LA\n",
    "# show the result\n",
    "# print() the result\n",
    "\n"
   ]
  },
  {
   "cell_type": "code",
   "execution_count": null,
   "metadata": {},
   "outputs": [],
   "source": [
    "# calculate population density of NYC\n",
    "# use round() to round the result to the nearest whole number\n",
    "# print a nice message with the result"
   ]
  },
  {
   "cell_type": "markdown",
   "metadata": {},
   "source": [
    "Loading external data\n",
    "---------------------\n",
    "\n",
    "In this section:\n",
    "\n",
    "- `import`: load a **library**, a collection of functions and objects that you can use in your code\n",
    "- `DataFrame`: a table of data that you can manipulate in Python (kinda like spreadsheet that you can program with)\n",
    "- reading data from a file\n",
    "- columns and rows\n",
    "- length\n",
    "- \"dot\" notation\n",
    "- `.head()` and `.tail()`\n",
    "- `.sort_values()`\n",
    "\n"
   ]
  },
  {
   "cell_type": "code",
   "execution_count": 3,
   "metadata": {},
   "outputs": [
    {
     "data": {
      "text/html": [
       "<div>\n",
       "<style scoped>\n",
       "    .dataframe tbody tr th:only-of-type {\n",
       "        vertical-align: middle;\n",
       "    }\n",
       "\n",
       "    .dataframe tbody tr th {\n",
       "        vertical-align: top;\n",
       "    }\n",
       "\n",
       "    .dataframe thead th {\n",
       "        text-align: right;\n",
       "    }\n",
       "</style>\n",
       "<table border=\"1\" class=\"dataframe\">\n",
       "  <thead>\n",
       "    <tr style=\"text-align: right;\">\n",
       "      <th></th>\n",
       "      <th>city</th>\n",
       "      <th>state</th>\n",
       "      <th>population</th>\n",
       "    </tr>\n",
       "  </thead>\n",
       "  <tbody>\n",
       "    <tr>\n",
       "      <th>0</th>\n",
       "      <td>New York</td>\n",
       "      <td>NY</td>\n",
       "      <td>8622467</td>\n",
       "    </tr>\n",
       "    <tr>\n",
       "      <th>1</th>\n",
       "      <td>Los Angeles</td>\n",
       "      <td>CA</td>\n",
       "      <td>3881041</td>\n",
       "    </tr>\n",
       "    <tr>\n",
       "      <th>2</th>\n",
       "      <td>Chicago</td>\n",
       "      <td>IL</td>\n",
       "      <td>2721914</td>\n",
       "    </tr>\n",
       "    <tr>\n",
       "      <th>3</th>\n",
       "      <td>Houston</td>\n",
       "      <td>TX</td>\n",
       "      <td>2296253</td>\n",
       "    </tr>\n",
       "    <tr>\n",
       "      <th>4</th>\n",
       "      <td>Phoenix</td>\n",
       "      <td>AZ</td>\n",
       "      <td>1609456</td>\n",
       "    </tr>\n",
       "    <tr>\n",
       "      <th>5</th>\n",
       "      <td>Philadelphia</td>\n",
       "      <td>PA</td>\n",
       "      <td>1593208</td>\n",
       "    </tr>\n",
       "    <tr>\n",
       "      <th>6</th>\n",
       "      <td>San Antonio</td>\n",
       "      <td>TX</td>\n",
       "      <td>1445662</td>\n",
       "    </tr>\n",
       "    <tr>\n",
       "      <th>7</th>\n",
       "      <td>San Diego</td>\n",
       "      <td>CA</td>\n",
       "      <td>1383987</td>\n",
       "    </tr>\n",
       "    <tr>\n",
       "      <th>8</th>\n",
       "      <td>Dallas</td>\n",
       "      <td>TX</td>\n",
       "      <td>1300642</td>\n",
       "    </tr>\n",
       "    <tr>\n",
       "      <th>9</th>\n",
       "      <td>San Jose</td>\n",
       "      <td>CA</td>\n",
       "      <td>1001176</td>\n",
       "    </tr>\n",
       "  </tbody>\n",
       "</table>\n",
       "</div>"
      ],
      "text/plain": [
       "           city state  population\n",
       "0      New York    NY     8622467\n",
       "1   Los Angeles    CA     3881041\n",
       "2       Chicago    IL     2721914\n",
       "3       Houston    TX     2296253\n",
       "4       Phoenix    AZ     1609456\n",
       "5  Philadelphia    PA     1593208\n",
       "6   San Antonio    TX     1445662\n",
       "7     San Diego    CA     1383987\n",
       "8        Dallas    TX     1300642\n",
       "9      San Jose    CA     1001176"
      ]
     },
     "execution_count": 3,
     "metadata": {},
     "output_type": "execute_result"
    }
   ],
   "source": [
    "import pandas as pd\n",
    "cities = pd.read_csv(\"data/us-cities.csv\")\n",
    "cities.head(10)"
   ]
  },
  {
   "cell_type": "markdown",
   "metadata": {},
   "source": [
    "\n",
    "\n",
    "Exercises\n",
    "---------\n",
    "\n",
    "Use the US Cities data (above) to answer these questions. Use the DataFrame\n",
    "functions head() tail() and sort_values() to help you.\n",
    "\n",
    "1. **Difference in area.** What's the difference in area between the largest and smallest cities in the table?\n",
    "2. **Urban population.** [According to the US Census](), the total US population in 2023 is 335,888,625. What percentage of the US population lives in these 10 cities?\n",
    "\n"
   ]
  },
  {
   "cell_type": "code",
   "execution_count": 1,
   "metadata": {},
   "outputs": [
    {
     "data": {
      "text/plain": [
       "'Adelphi University/National Science Foundation/Robert Noyce Foundation Track 1: Developing Responsive Urban Learning Environments Through Steam Teacher Cohorts: Phase Iii'"
      ]
     },
     "execution_count": 1,
     "metadata": {},
     "output_type": "execute_result"
    }
   ],
   "source": [
    "\n"
   ]
  }
 ],
 "metadata": {
  "kernelspec": {
   "display_name": "cartopy",
   "language": "python",
   "name": "python3"
  },
  "language_info": {
   "codemirror_mode": {
    "name": "ipython",
    "version": 3
   },
   "file_extension": ".py",
   "mimetype": "text/x-python",
   "name": "python",
   "nbconvert_exporter": "python",
   "pygments_lexer": "ipython3",
   "version": "3.10.12"
  }
 },
 "nbformat": 4,
 "nbformat_minor": 2
}
