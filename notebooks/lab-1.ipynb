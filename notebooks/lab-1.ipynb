{
 "cells": [
  {
   "cell_type": "markdown",
   "metadata": {},
   "source": [
    "Lab 1: Data(frames) & Variables\n",
    "===============================\n",
    "Our goals this week are to get familiar with working Python, Jupyter Notebook (and Colab), and pandas DataFrame objects. We're going to look at US Census data that describes cities in the United States.\n",
    "\n",
    "\n",
    "Basic Python Commands\n",
    "---------------------\n",
    "- statements\n",
    "- keywords\n",
    "- assignment operator\n",
    "- built-in functions\n",
    "  - print()\n",
    "  - round()\n",
    "  - len()\n",
    "- comments\n",
    "- math operators\n",
    "\n",
    "A list of Python keywords:\n",
    "\n",
    "```\n",
    "False      await      else       import     pass\n",
    "None       break      except     in         raise\n",
    "True       class      finally    is         return\n",
    "and        continue   for        lambda     try\n",
    "as         def        from       nonlocal   while\n",
    "assert     del        global     not        with\n",
    "async      elif       if         or         yield\n",
    "```\n",
    "\n",
    "A list of Python math operators:\n",
    "\n",
    "```\n",
    "+       addition\n",
    "-       subtraction\n",
    "*       multiplication\n",
    "/       division\n",
    "\n",
    "**      exponentiation\n",
    "\n",
    "//      floor division\n",
    "%       modulus\n",
    "```\n",
    "\n"
   ]
  },
  {
   "cell_type": "markdown",
   "metadata": {},
   "source": [
    "\n",
    "Case Study: City Populations\n",
    "----------------------------\n",
    "\n",
    "The table below shows the 10 most populous cities in the United States in 2023. \n",
    "The data comes from [Wikipedia](https://en.wikipedia.org/wiki/List_of_United_States_cities_by_population).\n",
    "Area is shown in square miles.\n",
    "\n",
    "|City            |  State  |  2023 Pop. Est  |  Area (sq m\n",
    "i)  |  \n",
    "|----------------|---------|-----------------|----------------|\n",
    "|New York        |  NY     |  8,258,035      |  300.5         |  \n",
    "|Los Angeles     |  CA     |  3,820,914      |  469.5         |  \n",
    "|Chicago         |  IL     |  2,664,452      |  227.7         |  \n",
    "|Houston         |  TX     |  2,314,157      |  640.4         |  \n",
    "|Phoenix         |  AZ     |  1,650,070      |  518.0         |  \n",
    "|Philadelphia    |  PA     |  1,550,542      |  134.4         |  \n",
    "|San Antonio     |  TX     |  1,495,295      |  498.8         |  \n",
    "|San Diego       |  CA     |  1,388,320      |  325.9         |  \n",
    "|Dallas          |  TX     |  1,302,868      |  339.6         |  \n",
    "|Jacksonville    |  FL     |  985,843        |  747.3         |  \n",
    "\n",
    "\n",
    "\n",
    "`import`\n",
    "-------\n",
    "\n",
    "`DataFrame`\n",
    "----------\n",
    "- reading data from a file\n",
    "- columns and rows\n",
    "- length\n",
    "- \"dot\" notation\n",
    "- `.head()` and `.tail()`\n",
    "- descriptive statistics (`.describe()`)\n",
    "\n",
    "Exercises\n",
    "---------\n",
    "\n",
    "1. **Difference in area.**\n",
    "2. **Urban population.** [According to the US Census](), the total US population in 2023 is 335,888,625. What percentage of the US population lives in these 10 cities?\n",
    "\n",
    "\n",
    "1) Enhance and broaden strong partnerships between K12 school partners, university faculty and administration, and community-based learning; \n",
    "2) Increase number of STEM teaching applicants who come from underrepresented groups; \n",
    "3) Increase the number of highly qualified candidates from underrepresented groups that graduate with a STEM teaching degree; \n",
    "4) Increase the number of candidates from typically underrepresented groups for STEM teaching positions in high-needs school districts; \n",
    "5) Increase the retention rate of the number of STEM teachers from underrepresented groups in high-needs school districts through professional development and leadership support during candidates’ induction years, and; \n",
    "6) Increase the use of STEAM practices in science classrooms in high-needs school districts to augment and enhance a standards-based, engaging and effective curriculum.\n",
    "\n"
   ]
  },
  {
   "cell_type": "code",
   "execution_count": 1,
   "metadata": {},
   "outputs": [
    {
     "data": {
      "text/plain": [
       "'Adelphi University/National Science Foundation/Robert Noyce Foundation Track 1: Developing Responsive Urban Learning Environments Through Steam Teacher Cohorts: Phase Iii'"
      ]
     },
     "execution_count": 1,
     "metadata": {},
     "output_type": "execute_result"
    }
   ],
   "source": [
    "\"ADELPHI UNIVERSITY/NATIONAL SCIENCE FOUNDATION/ROBERT NOYCE FOUNDATION TRACK 1: DEVELOPING RESPONSIVE URBAN LEARNING ENVIRONMENTS THROUGH STEAM TEACHER COHORTS: PHASE III\".title()\n",
    "\n"
   ]
  }
 ],
 "metadata": {
  "kernelspec": {
   "display_name": "cartopy",
   "language": "python",
   "name": "python3"
  },
  "language_info": {
   "codemirror_mode": {
    "name": "ipython",
    "version": 3
   },
   "file_extension": ".py",
   "mimetype": "text/x-python",
   "name": "python",
   "nbconvert_exporter": "python",
   "pygments_lexer": "ipython3",
   "version": "3.10.12"
  }
 },
 "nbformat": 4,
 "nbformat_minor": 2
}
