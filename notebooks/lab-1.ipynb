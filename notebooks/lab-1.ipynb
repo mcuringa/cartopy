{
 "cells": [
  {
   "cell_type": "markdown",
   "metadata": {},
   "source": [
    "Lab 1: Data(frames) & Variables\n",
    "===============================\n",
    "Our goals this week are to get familiar with working Python, Jupyter Notebook (and Colab), and pandas DataFrame objects. We're going to look at US Census data that describes cities in the United States.\n",
    "\n",
    "\n",
    "Basic Python Commands\n",
    "---------------------\n",
    "- statements\n",
    "- keywords\n",
    "- assignment operator\n",
    "- built-in functions\n",
    "  - print()\n",
    "  - round()\n",
    "  - len()\n",
    "- comments\n",
    "- math operators\n",
    "\n",
    "A list of Python keywords:\n",
    "\n",
    "```\n",
    "False      await      else       import     pass\n",
    "None       break      except     in         raise\n",
    "True       class      finally    is         return\n",
    "and        continue   for        lambda     try\n",
    "as         def        from       nonlocal   while\n",
    "assert     del        global     not        with\n",
    "async      elif       if         or         yield\n",
    "```\n",
    "\n",
    "A list of Python math operators:\n",
    "\n",
    "```\n",
    "+       addition\n",
    "-       subtraction\n",
    "*       multiplication\n",
    "/       division\n",
    "\n",
    "**      exponentiation\n",
    "\n",
    "//      floor division\n",
    "%       modulus\n",
    "```\n",
    "\n"
   ]
  },
  {
   "cell_type": "markdown",
   "metadata": {},
   "source": [
    "\n",
    "Case Study: City Populations\n",
    "----------------------------\n",
    "\n",
    "The table below shows the 10 most populous cities in the United States in 2023. \n",
    "The data comes from [Wikipedia](https://en.wikipedia.org/wiki/List_of_United_States_cities_by_population).\n",
    "Area is shown in square miles.\n",
    "\n",
    "|City            |  State  |  2023 Pop. Est  |  Area (sq mi)  |  \n",
    "|----------------|---------|-----------------|----------------|\n",
    "|New York        |  NY     |  8,258,035      |  300.5         |  \n",
    "|Los Angeles     |  CA     |  3,820,914      |  469.5         |  \n",
    "|Chicago         |  IL     |  2,664,452      |  227.7         |  \n",
    "|Houston         |  TX     |  2,314,157      |  640.4         |  \n",
    "|Phoenix         |  AZ     |  1,650,070      |  518.0         |  \n",
    "|Philadelphia    |  PA     |  1,550,542      |  134.4         |  \n",
    "|San Antonio     |  TX     |  1,495,295      |  498.8         |  \n",
    "|San Diego       |  CA     |  1,388,320      |  325.9         |  \n",
    "|Dallas          |  TX     |  1,302,868      |  339.6         |  \n",
    "|Jacksonville    |  FL     |  985,843        |  747.3         |  \n",
    "\n",
    "\n",
    "\n",
    "`import`\n",
    "-------\n",
    "\n",
    "`DataFrame`\n",
    "----------\n",
    "- reading data from a file\n",
    "- columns and rows\n",
    "- length\n",
    "- \"dot\" notation\n",
    "- `.head()` and `.tail()`\n",
    "- descriptive statistics (`.describe()`)\n",
    "\n",
    "Exercises\n",
    "---------\n",
    "\n",
    "1. **Difference in area.**\n",
    "2. **Urban population.** "
   ]
  },
  {
   "cell_type": "code",
   "execution_count": null,
   "metadata": {
    "vscode": {
     "languageId": "plaintext"
    }
   },
   "outputs": [],
   "source": []
  }
 ],
 "metadata": {
  "language_info": {
   "name": "python"
  }
 },
 "nbformat": 4,
 "nbformat_minor": 2
}
