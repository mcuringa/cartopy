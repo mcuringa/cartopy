{
 "cells": [
  {
   "cell_type": "markdown",
   "metadata": {},
   "source": [
    "Lab 1: Data(frames) & Variables\n",
    "===============================\n",
    "Our goals this week are to get familiar with working Python, Jupyter Notebook (and Colab), and pandas DataFrame objects. We're going to look at US Census data that describes cities in the United States.\n",
    "\n",
    "\n",
    "Basic Python\n",
    "------------\n",
    "- statements\n",
    "- keywords\n",
    "- variables\n",
    "  - variable names\n",
    "- assignment operator\n",
    "- built-in functions\n",
    "  - arguments\n",
    "  - print()\n",
    "  - round()\n",
    "  - len()\n",
    "- comments\n",
    "- math operators\n",
    "\n",
    "A list of Python keywords:\n",
    "\n",
    "```\n",
    "False      await      else       import     pass\n",
    "None       break      except     in         raise\n",
    "True       class      finally    is         return\n",
    "and        continue   for        lambda     try\n",
    "as         def        from       nonlocal   while\n",
    "assert     del        global     not        with\n",
    "async      elif       if         or         yield\n",
    "```\n",
    "\n",
    "A list of Python math operators:\n",
    "\n",
    "```\n",
    "+       addition\n",
    "-       subtraction\n",
    "*       multiplication\n",
    "/       division\n",
    "\n",
    "**      exponentiation\n",
    "\n",
    "//      floor division\n",
    "%       modulus\n",
    "```\n",
    "\n"
   ]
  },
  {
   "cell_type": "markdown",
   "metadata": {},
   "source": [
    "\n",
    "Case Study: City Populations\n",
    "----------------------------\n",
    "The table below shows the 10 most populous cities in the United States in 2023. \n",
    "The data comes from [Wikipedia](https://en.wikipedia.org/wiki/List_of_United_States_cities_by_population).\n",
    "Area is shown in square miles.\n",
    "\n",
    "|City            |  State  |  2023 Pop. Est  |  Area (sq mi)  |  \n",
    "|----------------|---------|-----------------|----------------|\n",
    "|New York        |  NY     |  8,258,035      |  300.5         |  \n",
    "|Los Angeles     |  CA     |  3,820,914      |  469.5         |  \n",
    "|Chicago         |  IL     |  2,664,452      |  227.7         |  \n",
    "|Houston         |  TX     |  2,314,157      |  640.4         |  \n",
    "|Phoenix         |  AZ     |  1,650,070      |  518.0         |  \n",
    "|Philadelphia    |  PA     |  1,550,542      |  134.4         |  \n",
    "|San Antonio     |  TX     |  1,495,295      |  498.8         |  \n",
    "|San Diego       |  CA     |  1,388,320      |  325.9         |  \n",
    "|Dallas          |  TX     |  1,302,868      |  339.6         |  \n",
    "|Jacksonville    |  FL     |  985,843        |  747.3         |  \n",
    "\n",
    "\n"
   ]
  },
  {
   "cell_type": "code",
   "execution_count": 8,
   "metadata": {},
   "outputs": [
    {
     "data": {
      "text/plain": [
       "27480.98169717138"
      ]
     },
     "execution_count": 8,
     "metadata": {},
     "output_type": "execute_result"
    }
   ],
   "source": [
    "# create a variable for the population of NYC\n",
    "# create a variable for the population of LA\n",
    "# calculate how many more people live in NYC than in LA\n",
    "# show the result\n",
    "# print() the result\n",
    "\n"
   ]
  },
  {
   "cell_type": "code",
   "execution_count": null,
   "metadata": {},
   "outputs": [],
   "source": [
    "# calculate population density of NYC\n",
    "# use round() to round the result to the nearest whole number\n",
    "# print a nice message with the result"
   ]
  },
  {
   "cell_type": "markdown",
   "metadata": {},
   "source": [
    "Loading external data\n",
    "---------------------\n",
    "\n",
    "In this section:\n",
    "\n",
    "- `import`: load a **library**, a collection of functions and objects that you can use in your code\n",
    "- `DataFrame`: a table of data that you can manipulate in Python (kinda like spreadsheet that you can program with)\n",
    "- reading data from a file\n",
    "- columns and rows\n",
    "- length\n",
    "- \"dot\" notation\n",
    "- `.head()` and `.tail()`\n",
    "- `.sort_values()`\n",
    "\n"
   ]
  },
  {
   "cell_type": "code",
   "execution_count": 13,
   "metadata": {},
   "outputs": [
    {
     "data": {
      "text/html": [
       "<div>\n",
       "<style scoped>\n",
       "    .dataframe tbody tr th:only-of-type {\n",
       "        vertical-align: middle;\n",
       "    }\n",
       "\n",
       "    .dataframe tbody tr th {\n",
       "        vertical-align: top;\n",
       "    }\n",
       "\n",
       "    .dataframe thead th {\n",
       "        text-align: right;\n",
       "    }\n",
       "</style>\n",
       "<table border=\"1\" class=\"dataframe\">\n",
       "  <thead>\n",
       "    <tr style=\"text-align: right;\">\n",
       "      <th></th>\n",
       "      <th>city</th>\n",
       "      <th>state</th>\n",
       "      <th>population</th>\n",
       "    </tr>\n",
       "  </thead>\n",
       "  <tbody>\n",
       "    <tr>\n",
       "      <th>0</th>\n",
       "      <td>New York</td>\n",
       "      <td>NY</td>\n",
       "      <td>8622467</td>\n",
       "    </tr>\n",
       "    <tr>\n",
       "      <th>1</th>\n",
       "      <td>Los Angeles</td>\n",
       "      <td>CA</td>\n",
       "      <td>3881041</td>\n",
       "    </tr>\n",
       "    <tr>\n",
       "      <th>2</th>\n",
       "      <td>Chicago</td>\n",
       "      <td>IL</td>\n",
       "      <td>2721914</td>\n",
       "    </tr>\n",
       "    <tr>\n",
       "      <th>3</th>\n",
       "      <td>Houston</td>\n",
       "      <td>TX</td>\n",
       "      <td>2296253</td>\n",
       "    </tr>\n",
       "    <tr>\n",
       "      <th>4</th>\n",
       "      <td>Phoenix</td>\n",
       "      <td>AZ</td>\n",
       "      <td>1609456</td>\n",
       "    </tr>\n",
       "    <tr>\n",
       "      <th>...</th>\n",
       "      <td>...</td>\n",
       "      <td>...</td>\n",
       "      <td>...</td>\n",
       "    </tr>\n",
       "    <tr>\n",
       "      <th>335</th>\n",
       "      <td>San Tan Valley CDP</td>\n",
       "      <td>AZ</td>\n",
       "      <td>101207</td>\n",
       "    </tr>\n",
       "    <tr>\n",
       "      <th>336</th>\n",
       "      <td>Quincy</td>\n",
       "      <td>MA</td>\n",
       "      <td>100981</td>\n",
       "    </tr>\n",
       "    <tr>\n",
       "      <th>337</th>\n",
       "      <td>Edinburg</td>\n",
       "      <td>TX</td>\n",
       "      <td>100964</td>\n",
       "    </tr>\n",
       "    <tr>\n",
       "      <th>338</th>\n",
       "      <td>Lynn</td>\n",
       "      <td>MA</td>\n",
       "      <td>100653</td>\n",
       "    </tr>\n",
       "    <tr>\n",
       "      <th>339</th>\n",
       "      <td>New Bedford</td>\n",
       "      <td>MA</td>\n",
       "      <td>100620</td>\n",
       "    </tr>\n",
       "  </tbody>\n",
       "</table>\n",
       "<p>340 rows × 3 columns</p>\n",
       "</div>"
      ],
      "text/plain": [
       "                   city state  population\n",
       "0              New York    NY     8622467\n",
       "1           Los Angeles    CA     3881041\n",
       "2               Chicago    IL     2721914\n",
       "3               Houston    TX     2296253\n",
       "4               Phoenix    AZ     1609456\n",
       "..                  ...   ...         ...\n",
       "335  San Tan Valley CDP    AZ      101207\n",
       "336              Quincy    MA      100981\n",
       "337            Edinburg    TX      100964\n",
       "338                Lynn    MA      100653\n",
       "339         New Bedford    MA      100620\n",
       "\n",
       "[340 rows x 3 columns]"
      ]
     },
     "execution_count": 13,
     "metadata": {},
     "output_type": "execute_result"
    }
   ],
   "source": [
    "# import the pandas library and call it pd\n",
    "import pandas as pd\n",
    "\n",
    "# load the data for the US cities with more than 100,000 people\n",
    "# based on the 2022 US Census data\n",
    "cities = pd.read_csv(\"https://raw.githubusercontent.com/mcuringa/cartopy/main/notebooks/data/us-cities.csv\")\n",
    "cities"
   ]
  },
  {
   "cell_type": "markdown",
   "metadata": {},
   "source": [
    "\n",
    "\n",
    "Exercises\n",
    "---------\n",
    "\n",
    "Use the US Cities data (above) to answer these questions. Use the DataFrame\n",
    "functions head() tail() and sort_values() to help you. Use variables\n",
    "for your answers. Use the print() function to display\n",
    "a descriptive message with your answer.\n",
    "\n",
    "1. **Difference in area.** What's the difference in area between the largest and smallest cities in the table?\n",
    "2. **Urban population.** [According to the US Census](), the total US population in 2023 is 335,888,625. \n",
    "   What percentage of the US population lives in these 10 cities?\n",
    "\n",
    "\n"
   ]
  },
  {
   "cell_type": "code",
   "execution_count": 1,
   "metadata": {},
   "outputs": [
    {
     "data": {
      "text/plain": [
       "'Adelphi University/National Science Foundation/Robert Noyce Foundation Track 1: Developing Responsive Urban Learning Environments Through Steam Teacher Cohorts: Phase Iii'"
      ]
     },
     "execution_count": 1,
     "metadata": {},
     "output_type": "execute_result"
    }
   ],
   "source": [
    "# write your code for the exercise here use print() to show your results\n"
   ]
  },
  {
   "cell_type": "markdown",
   "metadata": {},
   "source": [
    "Bonus Exercise\n",
    "--------------\n",
    "The built-in `round()` function rounds a number to a \n",
    "specified number of decimal places. For example, `round(3.14159, 2)` \n",
    "returns `3.14`. For our \"ten largest cities\" data, what if we want\n",
    "to round to the nearest thousand? Write the code to do this."
   ]
  }
 ],
 "metadata": {
  "kernelspec": {
   "display_name": "cartopy",
   "language": "python",
   "name": "python3"
  },
  "language_info": {
   "codemirror_mode": {
    "name": "ipython",
    "version": 3
   },
   "file_extension": ".py",
   "mimetype": "text/x-python",
   "name": "python",
   "nbconvert_exporter": "python",
   "pygments_lexer": "ipython3",
   "version": "3.10.12"
  }
 },
 "nbformat": 4,
 "nbformat_minor": 2
}
