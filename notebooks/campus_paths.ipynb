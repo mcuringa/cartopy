{
 "cells": [
  {
   "cell_type": "markdown",
   "metadata": {},
   "source": [
    "Adelphi Campus Map\n",
    "===================\n",
    "\n",
    "Load initial data\n",
    "-----------------\n",
    "This section loads the required python libraries\n",
    "that we need and loads the data from our files.\n",
    "\n",
    "It also declares some helper **functions** that\n",
    "will make it easier to work with your maps\n",
    "and the data."
   ]
  },
  {
   "cell_type": "code",
   "execution_count": 3,
   "metadata": {},
   "outputs": [
    {
     "name": "stdout",
     "output_type": "stream",
     "text": [
      "\n",
      "\u001b[1m[\u001b[0m\u001b[34;49mnotice\u001b[0m\u001b[1;39;49m]\u001b[0m\u001b[39;49m A new release of pip is available: \u001b[0m\u001b[31;49m24.0\u001b[0m\u001b[39;49m -> \u001b[0m\u001b[32;49m24.2\u001b[0m\n",
      "\u001b[1m[\u001b[0m\u001b[34;49mnotice\u001b[0m\u001b[1;39;49m]\u001b[0m\u001b[39;49m To update, run: \u001b[0m\u001b[32;49mpip install --upgrade pip\u001b[0m\n"
     ]
    }
   ],
   "source": [
    "# install and load libraries we will be using\n",
    "!pip install mapclassify -q\n",
    "\n",
    "import geopandas as gpd\n",
    "import folium\n",
    "import xyzservices.providers as xyz\n",
    "from IPython.display import display, HTML\n",
    "\n",
    "# load the campus map data\n",
    "campus_cols = [\"key\", \"building\", \"title\", \"description\", \"color\"]\n",
    "campus = gpd.read_file(\"data/campus.geojson\")\n",
    "campus = campus.to_crs(epsg=4326)\n",
    "\n",
    "# create the campus base map\n",
    "campus_map = campus.explore(tooltip=False)\n"
   ]
  },
  {
   "cell_type": "markdown",
   "metadata": {},
   "source": [
    "Load the running data\n",
    "---------------------\n",
    "\n",
    "For this, you will need to download the running data from Discord\n",
    "and then upload it to your Colab.\n",
    "\n",
    "Here we're going to load the running data.\n",
    "We will show the table which holds the colored\n",
    "keys for each person."
   ]
  },
  {
   "cell_type": "code",
   "execution_count": 13,
   "metadata": {},
   "outputs": [
    {
     "name": "stderr",
     "output_type": "stream",
     "text": [
      "/tmp/ipykernel_17474/1118600780.py:13: ShapelyDeprecationWarning: The 'type' attribute is deprecated, and will be removed in the future. You can use the 'geom_type' attribute instead.\n",
      "  if row.geometry.type == \"Point\":\n",
      "/tmp/ipykernel_17474/1118600780.py:18: ShapelyDeprecationWarning: The 'type' attribute is deprecated, and will be removed in the future. You can use the 'geom_type' attribute instead.\n",
      "  elif row.geometry.type == \"LineString\":\n"
     ]
    },
    {
     "ename": "ValueError",
     "evalue": "Expected two (lat, lon) values for location, instead got: (-73.65112853, 40.72206387, 0.0).",
     "output_type": "error",
     "traceback": [
      "\u001b[0;31m---------------------------------------------------------------------------\u001b[0m",
      "\u001b[0;31mTypeError\u001b[0m                                 Traceback (most recent call last)",
      "File \u001b[0;32m~/.virtualenvs/cartopy/lib/python3.10/site-packages/folium/utilities.py:134\u001b[0m, in \u001b[0;36mvalidate_multi_locations\u001b[0;34m(locations)\u001b[0m\n\u001b[1;32m    133\u001b[0m \u001b[38;5;28;01mtry\u001b[39;00m:\n\u001b[0;32m--> 134\u001b[0m     \u001b[38;5;28mfloat\u001b[39m(\u001b[38;5;28mnext\u001b[39m(\u001b[38;5;28;43miter\u001b[39;49m\u001b[43m(\u001b[49m\u001b[38;5;28;43mnext\u001b[39;49m\u001b[43m(\u001b[49m\u001b[38;5;28;43miter\u001b[39;49m\u001b[43m(\u001b[49m\u001b[38;5;28;43mnext\u001b[39;49m\u001b[43m(\u001b[49m\u001b[38;5;28;43miter\u001b[39;49m\u001b[43m(\u001b[49m\u001b[43mlocations\u001b[49m\u001b[43m)\u001b[49m\u001b[43m)\u001b[49m\u001b[43m)\u001b[49m\u001b[43m)\u001b[49m\u001b[43m)\u001b[49m))  \u001b[38;5;66;03m# type: ignore\u001b[39;00m\n\u001b[1;32m    135\u001b[0m \u001b[38;5;28;01mexcept\u001b[39;00m (\u001b[38;5;167;01mTypeError\u001b[39;00m, \u001b[38;5;167;01mStopIteration\u001b[39;00m):\n\u001b[1;32m    136\u001b[0m     \u001b[38;5;66;03m# locations is a list of coordinate pairs\u001b[39;00m\n",
      "\u001b[0;31mTypeError\u001b[0m: 'float' object is not iterable",
      "\nDuring handling of the above exception, another exception occurred:\n",
      "\u001b[0;31mValueError\u001b[0m                                Traceback (most recent call last)",
      "Cell \u001b[0;32mIn[13], line 19\u001b[0m\n\u001b[1;32m     14\u001b[0m         folium\u001b[38;5;241m.\u001b[39mMarker(\n\u001b[1;32m     15\u001b[0m             location\u001b[38;5;241m=\u001b[39m[row\u001b[38;5;241m.\u001b[39mgeometry\u001b[38;5;241m.\u001b[39my, row\u001b[38;5;241m.\u001b[39mgeometry\u001b[38;5;241m.\u001b[39mx],\n\u001b[1;32m     16\u001b[0m             icon\u001b[38;5;241m=\u001b[39mfolium\u001b[38;5;241m.\u001b[39mIcon(color\u001b[38;5;241m=\u001b[39mrow\u001b[38;5;241m.\u001b[39mcolor),\n\u001b[1;32m     17\u001b[0m         )\u001b[38;5;241m.\u001b[39madd_to(layer)\n\u001b[1;32m     18\u001b[0m     \u001b[38;5;28;01melif\u001b[39;00m row\u001b[38;5;241m.\u001b[39mgeometry\u001b[38;5;241m.\u001b[39mtype \u001b[38;5;241m==\u001b[39m \u001b[38;5;124m\"\u001b[39m\u001b[38;5;124mLineString\u001b[39m\u001b[38;5;124m\"\u001b[39m:\n\u001b[0;32m---> 19\u001b[0m         \u001b[43mfolium\u001b[49m\u001b[38;5;241;43m.\u001b[39;49m\u001b[43mPolyLine\u001b[49m\u001b[43m(\u001b[49m\n\u001b[1;32m     20\u001b[0m \u001b[43m            \u001b[49m\u001b[43mlocations\u001b[49m\u001b[38;5;241;43m=\u001b[39;49m\u001b[43mrow\u001b[49m\u001b[43m[\u001b[49m\u001b[38;5;124;43m\"\u001b[39;49m\u001b[38;5;124;43mgeometry\u001b[39;49m\u001b[38;5;124;43m\"\u001b[39;49m\u001b[43m]\u001b[49m\u001b[38;5;241;43m.\u001b[39;49m\u001b[43mcoords\u001b[49m\u001b[43m,\u001b[49m\n\u001b[1;32m     21\u001b[0m \u001b[43m            \u001b[49m\u001b[43mcolor\u001b[49m\u001b[38;5;241;43m=\u001b[39;49m\u001b[43mrow\u001b[49m\u001b[43m[\u001b[49m\u001b[38;5;124;43m\"\u001b[39;49m\u001b[38;5;124;43mcolor\u001b[39;49m\u001b[38;5;124;43m\"\u001b[39;49m\u001b[43m]\u001b[49m\u001b[43m,\u001b[49m\n\u001b[1;32m     22\u001b[0m \u001b[43m            \u001b[49m\u001b[43mweight\u001b[49m\u001b[38;5;241;43m=\u001b[39;49m\u001b[38;5;241;43m5\u001b[39;49m\u001b[43m,\u001b[49m\n\u001b[1;32m     23\u001b[0m \u001b[43m            \u001b[49m\u001b[43mopacity\u001b[49m\u001b[38;5;241;43m=\u001b[39;49m\u001b[38;5;241;43m0.7\u001b[39;49m\u001b[43m,\u001b[49m\n\u001b[1;32m     24\u001b[0m \u001b[43m        \u001b[49m\u001b[43m)\u001b[49m\u001b[38;5;241m.\u001b[39madd_to(layer)\n\u001b[1;32m     25\u001b[0m \u001b[38;5;66;03m# geojson = folium.GeoJson(path, name=path.runner)\u001b[39;00m\n\u001b[1;32m     26\u001b[0m \u001b[38;5;66;03m# layer.add_child(geojson)\u001b[39;00m\n\u001b[1;32m     27\u001b[0m layer\u001b[38;5;241m.\u001b[39madd_to(campus_map)\n",
      "File \u001b[0;32m~/.virtualenvs/cartopy/lib/python3.10/site-packages/folium/vector_layers.py:190\u001b[0m, in \u001b[0;36mPolyLine.__init__\u001b[0;34m(self, locations, popup, tooltip, **kwargs)\u001b[0m\n\u001b[1;32m    189\u001b[0m \u001b[38;5;28;01mdef\u001b[39;00m \u001b[38;5;21m__init__\u001b[39m(\u001b[38;5;28mself\u001b[39m, locations, popup\u001b[38;5;241m=\u001b[39m\u001b[38;5;28;01mNone\u001b[39;00m, tooltip\u001b[38;5;241m=\u001b[39m\u001b[38;5;28;01mNone\u001b[39;00m, \u001b[38;5;241m*\u001b[39m\u001b[38;5;241m*\u001b[39mkwargs):\n\u001b[0;32m--> 190\u001b[0m     \u001b[38;5;28;43msuper\u001b[39;49m\u001b[43m(\u001b[49m\u001b[43m)\u001b[49m\u001b[38;5;241;43m.\u001b[39;49m\u001b[38;5;21;43m__init__\u001b[39;49m\u001b[43m(\u001b[49m\u001b[43mlocations\u001b[49m\u001b[43m,\u001b[49m\u001b[43m \u001b[49m\u001b[43mpopup\u001b[49m\u001b[38;5;241;43m=\u001b[39;49m\u001b[43mpopup\u001b[49m\u001b[43m,\u001b[49m\u001b[43m \u001b[49m\u001b[43mtooltip\u001b[49m\u001b[38;5;241;43m=\u001b[39;49m\u001b[43mtooltip\u001b[49m\u001b[43m)\u001b[49m\n\u001b[1;32m    191\u001b[0m     \u001b[38;5;28mself\u001b[39m\u001b[38;5;241m.\u001b[39m_name \u001b[38;5;241m=\u001b[39m \u001b[38;5;124m\"\u001b[39m\u001b[38;5;124mPolyLine\u001b[39m\u001b[38;5;124m\"\u001b[39m\n\u001b[1;32m    192\u001b[0m     \u001b[38;5;28mself\u001b[39m\u001b[38;5;241m.\u001b[39moptions \u001b[38;5;241m=\u001b[39m path_options(line\u001b[38;5;241m=\u001b[39m\u001b[38;5;28;01mTrue\u001b[39;00m, \u001b[38;5;241m*\u001b[39m\u001b[38;5;241m*\u001b[39mkwargs)\n",
      "File \u001b[0;32m~/.virtualenvs/cartopy/lib/python3.10/site-packages/folium/vector_layers.py:139\u001b[0m, in \u001b[0;36mBaseMultiLocation.__init__\u001b[0;34m(self, locations, popup, tooltip)\u001b[0m\n\u001b[1;32m    132\u001b[0m \u001b[38;5;28;01mdef\u001b[39;00m \u001b[38;5;21m__init__\u001b[39m(\n\u001b[1;32m    133\u001b[0m     \u001b[38;5;28mself\u001b[39m,\n\u001b[1;32m    134\u001b[0m     locations: TypeMultiLine,\n\u001b[1;32m    135\u001b[0m     popup: Union[Popup, \u001b[38;5;28mstr\u001b[39m, \u001b[38;5;28;01mNone\u001b[39;00m] \u001b[38;5;241m=\u001b[39m \u001b[38;5;28;01mNone\u001b[39;00m,\n\u001b[1;32m    136\u001b[0m     tooltip: Union[Tooltip, \u001b[38;5;28mstr\u001b[39m, \u001b[38;5;28;01mNone\u001b[39;00m] \u001b[38;5;241m=\u001b[39m \u001b[38;5;28;01mNone\u001b[39;00m,\n\u001b[1;32m    137\u001b[0m ):\n\u001b[1;32m    138\u001b[0m     \u001b[38;5;28msuper\u001b[39m()\u001b[38;5;241m.\u001b[39m\u001b[38;5;21m__init__\u001b[39m()\n\u001b[0;32m--> 139\u001b[0m     \u001b[38;5;28mself\u001b[39m\u001b[38;5;241m.\u001b[39mlocations \u001b[38;5;241m=\u001b[39m \u001b[43mvalidate_multi_locations\u001b[49m\u001b[43m(\u001b[49m\u001b[43mlocations\u001b[49m\u001b[43m)\u001b[49m\n\u001b[1;32m    140\u001b[0m     \u001b[38;5;28;01mif\u001b[39;00m popup \u001b[38;5;129;01mis\u001b[39;00m \u001b[38;5;129;01mnot\u001b[39;00m \u001b[38;5;28;01mNone\u001b[39;00m:\n\u001b[1;32m    141\u001b[0m         \u001b[38;5;28mself\u001b[39m\u001b[38;5;241m.\u001b[39madd_child(popup \u001b[38;5;28;01mif\u001b[39;00m \u001b[38;5;28misinstance\u001b[39m(popup, Popup) \u001b[38;5;28;01melse\u001b[39;00m Popup(\u001b[38;5;28mstr\u001b[39m(popup)))\n",
      "File \u001b[0;32m~/.virtualenvs/cartopy/lib/python3.10/site-packages/folium/utilities.py:137\u001b[0m, in \u001b[0;36mvalidate_multi_locations\u001b[0;34m(locations)\u001b[0m\n\u001b[1;32m    134\u001b[0m     \u001b[38;5;28mfloat\u001b[39m(\u001b[38;5;28mnext\u001b[39m(\u001b[38;5;28miter\u001b[39m(\u001b[38;5;28mnext\u001b[39m(\u001b[38;5;28miter\u001b[39m(\u001b[38;5;28mnext\u001b[39m(\u001b[38;5;28miter\u001b[39m(locations)))))))  \u001b[38;5;66;03m# type: ignore\u001b[39;00m\n\u001b[1;32m    135\u001b[0m \u001b[38;5;28;01mexcept\u001b[39;00m (\u001b[38;5;167;01mTypeError\u001b[39;00m, \u001b[38;5;167;01mStopIteration\u001b[39;00m):\n\u001b[1;32m    136\u001b[0m     \u001b[38;5;66;03m# locations is a list of coordinate pairs\u001b[39;00m\n\u001b[0;32m--> 137\u001b[0m     \u001b[38;5;28;01mreturn\u001b[39;00m [validate_location(coord_pair) \u001b[38;5;28;01mfor\u001b[39;00m coord_pair \u001b[38;5;129;01min\u001b[39;00m locations]  \u001b[38;5;66;03m# type: ignore\u001b[39;00m\n\u001b[1;32m    138\u001b[0m \u001b[38;5;28;01melse\u001b[39;00m:\n\u001b[1;32m    139\u001b[0m     \u001b[38;5;66;03m# locations is a list of a list of coordinate pairs, recurse\u001b[39;00m\n\u001b[1;32m    140\u001b[0m     \u001b[38;5;28;01mreturn\u001b[39;00m [validate_locations(lst) \u001b[38;5;28;01mfor\u001b[39;00m lst \u001b[38;5;129;01min\u001b[39;00m locations]\n",
      "File \u001b[0;32m~/.virtualenvs/cartopy/lib/python3.10/site-packages/folium/utilities.py:137\u001b[0m, in \u001b[0;36m<listcomp>\u001b[0;34m(.0)\u001b[0m\n\u001b[1;32m    134\u001b[0m     \u001b[38;5;28mfloat\u001b[39m(\u001b[38;5;28mnext\u001b[39m(\u001b[38;5;28miter\u001b[39m(\u001b[38;5;28mnext\u001b[39m(\u001b[38;5;28miter\u001b[39m(\u001b[38;5;28mnext\u001b[39m(\u001b[38;5;28miter\u001b[39m(locations)))))))  \u001b[38;5;66;03m# type: ignore\u001b[39;00m\n\u001b[1;32m    135\u001b[0m \u001b[38;5;28;01mexcept\u001b[39;00m (\u001b[38;5;167;01mTypeError\u001b[39;00m, \u001b[38;5;167;01mStopIteration\u001b[39;00m):\n\u001b[1;32m    136\u001b[0m     \u001b[38;5;66;03m# locations is a list of coordinate pairs\u001b[39;00m\n\u001b[0;32m--> 137\u001b[0m     \u001b[38;5;28;01mreturn\u001b[39;00m [\u001b[43mvalidate_location\u001b[49m\u001b[43m(\u001b[49m\u001b[43mcoord_pair\u001b[49m\u001b[43m)\u001b[49m \u001b[38;5;28;01mfor\u001b[39;00m coord_pair \u001b[38;5;129;01min\u001b[39;00m locations]  \u001b[38;5;66;03m# type: ignore\u001b[39;00m\n\u001b[1;32m    138\u001b[0m \u001b[38;5;28;01melse\u001b[39;00m:\n\u001b[1;32m    139\u001b[0m     \u001b[38;5;66;03m# locations is a list of a list of coordinate pairs, recurse\u001b[39;00m\n\u001b[1;32m    140\u001b[0m     \u001b[38;5;28;01mreturn\u001b[39;00m [validate_locations(lst) \u001b[38;5;28;01mfor\u001b[39;00m lst \u001b[38;5;129;01min\u001b[39;00m locations]\n",
      "File \u001b[0;32m~/.virtualenvs/cartopy/lib/python3.10/site-packages/folium/utilities.py:81\u001b[0m, in \u001b[0;36mvalidate_location\u001b[0;34m(location)\u001b[0m\n\u001b[1;32m     75\u001b[0m     \u001b[38;5;28;01mraise\u001b[39;00m \u001b[38;5;167;01mTypeError\u001b[39;00m(\n\u001b[1;32m     76\u001b[0m         \u001b[38;5;124m\"\u001b[39m\u001b[38;5;124mLocation should be a sized variable, \u001b[39m\u001b[38;5;124m\"\u001b[39m\n\u001b[1;32m     77\u001b[0m         \u001b[38;5;124m\"\u001b[39m\u001b[38;5;124mfor example a list or a tuple, instead got \u001b[39m\u001b[38;5;124m\"\u001b[39m\n\u001b[1;32m     78\u001b[0m         \u001b[38;5;124mf\u001b[39m\u001b[38;5;124m\"\u001b[39m\u001b[38;5;132;01m{\u001b[39;00mlocation\u001b[38;5;132;01m!r}\u001b[39;00m\u001b[38;5;124m of type \u001b[39m\u001b[38;5;132;01m{\u001b[39;00m\u001b[38;5;28mtype\u001b[39m(location)\u001b[38;5;132;01m}\u001b[39;00m\u001b[38;5;124m.\u001b[39m\u001b[38;5;124m\"\u001b[39m\n\u001b[1;32m     79\u001b[0m     )\n\u001b[1;32m     80\u001b[0m \u001b[38;5;28;01mif\u001b[39;00m \u001b[38;5;28mlen\u001b[39m(location) \u001b[38;5;241m!=\u001b[39m \u001b[38;5;241m2\u001b[39m:\n\u001b[0;32m---> 81\u001b[0m     \u001b[38;5;28;01mraise\u001b[39;00m \u001b[38;5;167;01mValueError\u001b[39;00m(\n\u001b[1;32m     82\u001b[0m         \u001b[38;5;124m\"\u001b[39m\u001b[38;5;124mExpected two (lat, lon) values for location, \u001b[39m\u001b[38;5;124m\"\u001b[39m\n\u001b[1;32m     83\u001b[0m         \u001b[38;5;124mf\u001b[39m\u001b[38;5;124m\"\u001b[39m\u001b[38;5;124minstead got: \u001b[39m\u001b[38;5;132;01m{\u001b[39;00mlocation\u001b[38;5;132;01m!r}\u001b[39;00m\u001b[38;5;124m.\u001b[39m\u001b[38;5;124m\"\u001b[39m\n\u001b[1;32m     84\u001b[0m     )\n\u001b[1;32m     85\u001b[0m \u001b[38;5;28;01mtry\u001b[39;00m:\n\u001b[1;32m     86\u001b[0m     coords \u001b[38;5;241m=\u001b[39m (location[\u001b[38;5;241m0\u001b[39m], location[\u001b[38;5;241m1\u001b[39m])\n",
      "\u001b[0;31mValueError\u001b[0m: Expected two (lat, lon) values for location, instead got: (-73.65112853, 40.72206387, 0.0)."
     ]
    }
   ],
   "source": [
    "# read in the running map data\n",
    "data = gpd.read_file(\"../_data/runs.geojson\")\n",
    "\n",
    "# show the running table\n",
    "table = data[[\"runner\", \"color\"]].drop_duplicates().style.apply(lambda x: [f'background-color: {v}' if x.name == 'color' else '' for v in x], axis=0)\n",
    "# display(table)\n",
    "\n",
    "runners = data.runner.unique()\n",
    "for runner in runners:\n",
    "    path = data[data.runner == runner]\n",
    "    layer = folium.FeatureGroup(name=runner)\n",
    "    for i, row in path.iterrows():\n",
    "        if row.geometry.type == \"Point\":\n",
    "            folium.Marker(\n",
    "                location=[row.geometry.y, row.geometry.x],\n",
    "                icon=folium.Icon(color=row.color),\n",
    "            ).add_to(layer)\n",
    "        elif row.geometry.type == \"LineString\":\n",
    "            folium.PolyLine(\n",
    "                locations=row[\"geometry\"].coords,\n",
    "                color=row[\"color\"],\n",
    "                weight=5,\n",
    "                opacity=0.7,\n",
    "            ).add_to(layer)\n",
    "    # geojson = folium.GeoJson(path, name=path.runner)\n",
    "    # layer.add_child(geojson)\n",
    "    layer.add_to(campus_map)\n",
    "\n",
    "# add layer control to campus map\n",
    "# folium.LayerControl().add_to(campus_map)\n",
    "# campus_map"
   ]
  }
 ],
 "metadata": {
  "kernelspec": {
   "display_name": "cartopy",
   "language": "python",
   "name": "python3"
  },
  "language_info": {
   "codemirror_mode": {
    "name": "ipython",
    "version": 3
   },
   "file_extension": ".py",
   "mimetype": "text/x-python",
   "name": "python",
   "nbconvert_exporter": "python",
   "pygments_lexer": "ipython3",
   "version": "3.10.12"
  }
 },
 "nbformat": 4,
 "nbformat_minor": 2
}
