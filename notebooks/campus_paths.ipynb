{
 "cells": [
  {
   "cell_type": "markdown",
   "metadata": {},
   "source": [
    "Adelphi Campus Map\n",
    "===================\n",
    "\n",
    "Load initial data\n",
    "-----------------\n",
    "This section loads the required python libraries\n",
    "that we need and loads the data from our files.\n",
    "\n",
    "It also declares some helper **functions** that\n",
    "will make it easier to work with your maps\n",
    "and the data."
   ]
  },
  {
   "cell_type": "code",
   "execution_count": 2,
   "metadata": {},
   "outputs": [],
   "source": [
    "!pip install mapclassify -q\n",
    "\n",
    "import geopandas as gpd\n",
    "import folium\n",
    "import xyzservices.providers as xyz\n",
    "from IPython.display import display, HTML\n",
    "\n",
    "campus_cols = [\"key\", \"building\", \"title\", \"description\", \"color\"]\n",
    "campus = gpd.read_file(\"data/campus.geojson\")\n",
    "campus = campus.to_crs(epsg=4326)\n",
    "\n",
    "\n"
   ]
  },
  {
   "cell_type": "code",
   "execution_count": 5,
   "metadata": {},
   "outputs": [],
   "source": [
    "# show the campus map with labels\n",
    "campus_map = campus.explore(tooltip=False)\n"
   ]
  },
  {
   "cell_type": "markdown",
   "metadata": {},
   "source": [
    "Load the running data\n",
    "---------------------\n",
    "\n",
    "For this, you will need to download the running data from Discord\n",
    "and then upload it to your Colab.\n",
    "\n",
    "Here we're going to load the running data.\n",
    "We will show the table which holds the colored\n",
    "keys for each person."
   ]
  },
  {
   "cell_type": "code",
   "execution_count": 12,
   "metadata": {},
   "outputs": [],
   "source": [
    "# read in the running map data\n",
    "data = gpd.read_file(\"./runs.geojson\")\n",
    "\n",
    "# show the running table\n",
    "table = data[[\"runner\", \"color\"]].drop_duplicates().style.apply(lambda x: [f'background-color: {v}' if x.name == 'color' else '' for v in x], axis=0)\n",
    "# display(table)\n",
    "\n",
    "runners = data.runner.unique()\n",
    "for runner in runners:\n",
    "    path = data[data.runner == runner]\n",
    "    # add path as a folium later to campus_map\n",
    "\n",
    "\n",
    "# plot the running map on top of our campus map\n",
    "# running_map = data.explore(m=campus_map, color=data.color, tooltip=\"runner\")\n",
    "# running_map\n"
   ]
  }
 ],
 "metadata": {
  "kernelspec": {
   "display_name": "cartopy",
   "language": "python",
   "name": "python3"
  },
  "language_info": {
   "codemirror_mode": {
    "name": "ipython",
    "version": 3
   },
   "file_extension": ".py",
   "mimetype": "text/x-python",
   "name": "python",
   "nbconvert_exporter": "python",
   "pygments_lexer": "ipython3",
   "version": "3.10.12"
  }
 },
 "nbformat": 4,
 "nbformat_minor": 2
}
