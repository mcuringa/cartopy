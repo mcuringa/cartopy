{
 "cells": [
  {
   "cell_type": "markdown",
   "metadata": {},
   "source": [
    "Lab 9: Tables & Charts\n",
    "======================\n",
    "This notebook reviews some ways to make nicely\n",
    "formatted tables, and then looks at making\n",
    "interactive bar charts with the\n",
    "`plotly` library.\n",
    "\n",
    "00:40 Load Census Data\n",
    "03:42 Merge Tiger Shapes\n",
    "05:21 Formatting Tables\n",
    "10:58 Simple Bar Chart\n",
    "12:40 Grouped Bar Chart\n"
   ]
  },
  {
   "cell_type": "code",
   "execution_count": 1,
   "metadata": {},
   "outputs": [],
   "source": [
    "# install this very alpha library directly from github\n",
    "!pip install https://github.com/mcuringa/cartopy/raw/refs/heads/main/dist/maptools-latest.tar.gz -q\n",
    "\n",
    "!pip install census us plotly nbformat -q\n",
    "\n",
    "from maptools import census_vars\n",
    "import pandas as pd\n",
    "import geopandas as gpd\n",
    "import plotly.express as px\n",
    "import us\n",
    "from census import Census\n",
    "\n",
    "# from google.colab import userdata\n",
    "# api_key = userdata.get('CENSUS_API_KEY')\n",
    "import os\n",
    "api_key = os.getenv('CENSUS_API_KEY')\n",
    "\n",
    "# creaate one census object we will reuse\n",
    "c = Census(api_key)\n"
   ]
  },
  {
   "cell_type": "code",
   "execution_count": 2,
   "metadata": {},
   "outputs": [
    {
     "data": {
      "text/html": [
       "<style type=\"text/css\">\n",
       "#T_1c4cb_row0_col1, #T_1c4cb_row1_col1, #T_1c4cb_row2_col1, #T_1c4cb_row3_col1, #T_1c4cb_row4_col1, #T_1c4cb_row5_col1, #T_1c4cb_row6_col1, #T_1c4cb_row7_col1, #T_1c4cb_row8_col1, #T_1c4cb_row9_col1, #T_1c4cb_row10_col1, #T_1c4cb_row11_col1, #T_1c4cb_row12_col1, #T_1c4cb_row13_col1, #T_1c4cb_row14_col1, #T_1c4cb_row15_col1, #T_1c4cb_row16_col1, #T_1c4cb_row17_col1, #T_1c4cb_row18_col1, #T_1c4cb_row19_col1 {\n",
       "  white-space: pre-wrap;\n",
       "  word-wrap: break-word;\n",
       "}\n",
       "</style>\n",
       "<table id=\"T_1c4cb\">\n",
       "  <thead>\n",
       "    <tr>\n",
       "      <th class=\"blank level0\" >&nbsp;</th>\n",
       "      <th id=\"T_1c4cb_level0_col0\" class=\"col_heading level0 col0\" >group</th>\n",
       "      <th id=\"T_1c4cb_level0_col1\" class=\"col_heading level0 col1\" >concept</th>\n",
       "      <th id=\"T_1c4cb_level0_col2\" class=\"col_heading level0 col2\" >match</th>\n",
       "    </tr>\n",
       "  </thead>\n",
       "  <tbody>\n",
       "    <tr>\n",
       "      <th id=\"T_1c4cb_level0_row0\" class=\"row_heading level0 row0\" >17397</th>\n",
       "      <td id=\"T_1c4cb_row0_col0\" class=\"data row0 col0\" >B25044</td>\n",
       "      <td id=\"T_1c4cb_row0_col1\" class=\"data row0 col1\" >Tenure By Vehicles Available</td>\n",
       "      <td id=\"T_1c4cb_row0_col2\" class=\"data row0 col2\" >62.01%</td>\n",
       "    </tr>\n",
       "    <tr>\n",
       "      <th id=\"T_1c4cb_level0_row1\" class=\"row_heading level0 row1\" >13675</th>\n",
       "      <td id=\"T_1c4cb_row1_col0\" class=\"data row1 col0\" >B08014</td>\n",
       "      <td id=\"T_1c4cb_row1_col1\" class=\"data row1 col1\" >Sex Of Workers By Vehicles Available</td>\n",
       "      <td id=\"T_1c4cb_row1_col2\" class=\"data row1 col2\" >56.17%</td>\n",
       "    </tr>\n",
       "    <tr>\n",
       "      <th id=\"T_1c4cb_level0_row2\" class=\"row_heading level0 row2\" >2282</th>\n",
       "      <td id=\"T_1c4cb_row2_col0\" class=\"data row2 col0\" >B99085</td>\n",
       "      <td id=\"T_1c4cb_row2_col1\" class=\"data row2 col1\" >Allocation Of Vehicles Available For Workers</td>\n",
       "      <td id=\"T_1c4cb_row2_col2\" class=\"data row2 col2\" >54.95%</td>\n",
       "    </tr>\n",
       "    <tr>\n",
       "      <th id=\"T_1c4cb_level0_row3\" class=\"row_heading level0 row3\" >1015</th>\n",
       "      <td id=\"T_1c4cb_row3_col0\" class=\"data row3 col0\" >B08201</td>\n",
       "      <td id=\"T_1c4cb_row3_col1\" class=\"data row3 col1\" >Household Size By Vehicles Available</td>\n",
       "      <td id=\"T_1c4cb_row3_col2\" class=\"data row3 col2\" >53.75%</td>\n",
       "    </tr>\n",
       "    <tr>\n",
       "      <th id=\"T_1c4cb_level0_row4\" class=\"row_heading level0 row4\" >27120</th>\n",
       "      <td id=\"T_1c4cb_row4_col0\" class=\"data row4 col0\" >B25045</td>\n",
       "      <td id=\"T_1c4cb_row4_col1\" class=\"data row4 col1\" >Tenure By Vehicles Available By Age Of Householder</td>\n",
       "      <td id=\"T_1c4cb_row4_col2\" class=\"data row4 col2\" >51.11%</td>\n",
       "    </tr>\n",
       "    <tr>\n",
       "      <th id=\"T_1c4cb_level0_row5\" class=\"row_heading level0 row5\" >6073</th>\n",
       "      <td id=\"T_1c4cb_row5_col0\" class=\"data row5 col0\" >B25046</td>\n",
       "      <td id=\"T_1c4cb_row5_col1\" class=\"data row5 col1\" >Aggregate Number Of Vehicles Available By Tenure</td>\n",
       "      <td id=\"T_1c4cb_row5_col2\" class=\"data row5 col2\" >49.91%</td>\n",
       "    </tr>\n",
       "    <tr>\n",
       "      <th id=\"T_1c4cb_level0_row6\" class=\"row_heading level0 row6\" >24015</th>\n",
       "      <td id=\"T_1c4cb_row6_col0\" class=\"data row6 col0\" >B08141</td>\n",
       "      <td id=\"T_1c4cb_row6_col1\" class=\"data row6 col1\" >Means Of Transportation To Work By Vehicles Available</td>\n",
       "      <td id=\"T_1c4cb_row6_col2\" class=\"data row6 col2\" >49.15%</td>\n",
       "    </tr>\n",
       "    <tr>\n",
       "      <th id=\"T_1c4cb_level0_row7\" class=\"row_heading level0 row7\" >12548</th>\n",
       "      <td id=\"T_1c4cb_row7_col0\" class=\"data row7 col0\" >B08203</td>\n",
       "      <td id=\"T_1c4cb_row7_col1\" class=\"data row7 col1\" >Number Of Workers In Household By Vehicles Available</td>\n",
       "      <td id=\"T_1c4cb_row7_col2\" class=\"data row7 col2\" >49.05%</td>\n",
       "    </tr>\n",
       "    <tr>\n",
       "      <th id=\"T_1c4cb_level0_row8\" class=\"row_heading level0 row8\" >27270</th>\n",
       "      <td id=\"T_1c4cb_row8_col0\" class=\"data row8 col0\" >B99089</td>\n",
       "      <td id=\"T_1c4cb_row8_col1\" class=\"data row8 col1\" >Allocation Of Vehicles Available For Workers For Workplace Geography</td>\n",
       "      <td id=\"T_1c4cb_row8_col2\" class=\"data row8 col2\" >43.77%</td>\n",
       "    </tr>\n",
       "    <tr>\n",
       "      <th id=\"T_1c4cb_level0_row9\" class=\"row_heading level0 row9\" >4296</th>\n",
       "      <td id=\"T_1c4cb_row9_col0\" class=\"data row9 col0\" >B08541</td>\n",
       "      <td id=\"T_1c4cb_row9_col1\" class=\"data row9 col1\" >Means Of Transportation To Work By Vehicles Available For Workplace Geography</td>\n",
       "      <td id=\"T_1c4cb_row9_col2\" class=\"data row9 col2\" >41.78%</td>\n",
       "    </tr>\n",
       "    <tr>\n",
       "      <th id=\"T_1c4cb_level0_row10\" class=\"row_heading level0 row10\" >27505</th>\n",
       "      <td id=\"T_1c4cb_row10_col0\" class=\"data row10 col0\" >B08015</td>\n",
       "      <td id=\"T_1c4cb_row10_col1\" class=\"data row10 col1\" >Aggregate Number Of Vehicles (Car, Truck, Or Van) Used In Commuting By Workers 16 Years And Over By Sex</td>\n",
       "      <td id=\"T_1c4cb_row10_col2\" class=\"data row10 col2\" >25.95%</td>\n",
       "    </tr>\n",
       "    <tr>\n",
       "      <th id=\"T_1c4cb_level0_row11\" class=\"row_heading level0 row11\" >5644</th>\n",
       "      <td id=\"T_1c4cb_row11_col0\" class=\"data row11 col0\" >B25097</td>\n",
       "      <td id=\"T_1c4cb_row11_col1\" class=\"data row11 col1\" >Mortgage Status By Median Value (Dollars)</td>\n",
       "      <td id=\"T_1c4cb_row11_col2\" class=\"data row11 col2\" >0.00%</td>\n",
       "    </tr>\n",
       "    <tr>\n",
       "      <th id=\"T_1c4cb_level0_row12\" class=\"row_heading level0 row12\" >7145</th>\n",
       "      <td id=\"T_1c4cb_row12_col0\" class=\"data row12 col0\" >B25098</td>\n",
       "      <td id=\"T_1c4cb_row12_col1\" class=\"data row12 col1\" >Mortgage Status By Household Income In The Past 12 Months (In 2022 Inflation-Adjusted Dollars)</td>\n",
       "      <td id=\"T_1c4cb_row12_col2\" class=\"data row12 col2\" >0.00%</td>\n",
       "    </tr>\n",
       "    <tr>\n",
       "      <th id=\"T_1c4cb_level0_row13\" class=\"row_heading level0 row13\" >15030</th>\n",
       "      <td id=\"T_1c4cb_row13_col0\" class=\"data row13 col0\" >B25099</td>\n",
       "      <td id=\"T_1c4cb_row13_col1\" class=\"data row13 col1\" >Mortgage Status By Median Household Income In The Past 12 Months (In 2022 Inflation-Adjusted Dollars)</td>\n",
       "      <td id=\"T_1c4cb_row13_col2\" class=\"data row13 col2\" >0.00%</td>\n",
       "    </tr>\n",
       "    <tr>\n",
       "      <th id=\"T_1c4cb_level0_row14\" class=\"row_heading level0 row14\" >23203</th>\n",
       "      <td id=\"T_1c4cb_row14_col0\" class=\"data row14 col0\" >B25100</td>\n",
       "      <td id=\"T_1c4cb_row14_col1\" class=\"data row14 col1\" >Mortgage Status By Ratio Of Value To Household Income In The Past 12 Months</td>\n",
       "      <td id=\"T_1c4cb_row14_col2\" class=\"data row14 col2\" >0.00%</td>\n",
       "    </tr>\n",
       "    <tr>\n",
       "      <th id=\"T_1c4cb_level0_row15\" class=\"row_heading level0 row15\" >3232</th>\n",
       "      <td id=\"T_1c4cb_row15_col0\" class=\"data row15 col0\" >B25101</td>\n",
       "      <td id=\"T_1c4cb_row15_col1\" class=\"data row15 col1\" >Mortgage Status By Monthly Housing Costs As A Percentage Of Household Income In The Past 12 Months</td>\n",
       "      <td id=\"T_1c4cb_row15_col2\" class=\"data row15 col2\" >0.00%</td>\n",
       "    </tr>\n",
       "    <tr>\n",
       "      <th id=\"T_1c4cb_level0_row16\" class=\"row_heading level0 row16\" >26867</th>\n",
       "      <td id=\"T_1c4cb_row16_col0\" class=\"data row16 col0\" >B25096</td>\n",
       "      <td id=\"T_1c4cb_row16_col1\" class=\"data row16 col1\" >Mortgage Status By Value</td>\n",
       "      <td id=\"T_1c4cb_row16_col2\" class=\"data row16 col2\" >0.00%</td>\n",
       "    </tr>\n",
       "    <tr>\n",
       "      <th id=\"T_1c4cb_level0_row17\" class=\"row_heading level0 row17\" >19367</th>\n",
       "      <td id=\"T_1c4cb_row17_col0\" class=\"data row17 col0\" >B25103</td>\n",
       "      <td id=\"T_1c4cb_row17_col1\" class=\"data row17 col1\" >Mortgage Status By Median Real Estate Taxes Paid (Dollars)</td>\n",
       "      <td id=\"T_1c4cb_row17_col2\" class=\"data row17 col2\" >0.00%</td>\n",
       "    </tr>\n",
       "    <tr>\n",
       "      <th id=\"T_1c4cb_level0_row18\" class=\"row_heading level0 row18\" >26937</th>\n",
       "      <td id=\"T_1c4cb_row18_col0\" class=\"data row18 col0\" >B25104</td>\n",
       "      <td id=\"T_1c4cb_row18_col1\" class=\"data row18 col1\" >Monthly Housing Costs</td>\n",
       "      <td id=\"T_1c4cb_row18_col2\" class=\"data row18 col2\" >0.00%</td>\n",
       "    </tr>\n",
       "    <tr>\n",
       "      <th id=\"T_1c4cb_level0_row19\" class=\"row_heading level0 row19\" >21281</th>\n",
       "      <td id=\"T_1c4cb_row19_col0\" class=\"data row19 col0\" >B25105</td>\n",
       "      <td id=\"T_1c4cb_row19_col1\" class=\"data row19 col1\" >Median Monthly Housing Costs (Dollars)</td>\n",
       "      <td id=\"T_1c4cb_row19_col2\" class=\"data row19 col2\" >0.00%</td>\n",
       "    </tr>\n",
       "  </tbody>\n",
       "</table>\n"
      ],
      "text/plain": [
       "<pandas.io.formats.style.Styler at 0x7d187a407d30>"
      ]
     },
     "execution_count": 2,
     "metadata": {},
     "output_type": "execute_result"
    }
   ],
   "source": [
    "census_vars.search(\"vehicles\")"
   ]
  },
  {
   "cell_type": "markdown",
   "metadata": {},
   "source": [
    "Tenure by Vehicle\n",
    "=================\n",
    "\n",
    "For our example, we're going to look at Census table **B25044**\n",
    "_Tenure By Vehicles Available_. The data in this table\n",
    "looks at the number of vehicles available by household,\n",
    "and breaks households down by \"tenure\": whether\n",
    "the home is owned by the occupants or rented.\n",
    "\n",
    "In the next few blocks we:\n",
    "- look up the field names for the table\n",
    "- copy them into a dict\n",
    "- rename some fields\n",
    "- load the data at the county level for NYS\n",
    "- rename the columns\n",
    "\n"
   ]
  },
  {
   "cell_type": "code",
   "execution_count": 3,
   "metadata": {},
   "outputs": [
    {
     "data": {
      "text/plain": [
       "{'B25044_001E': 'total',\n",
       " 'B25044_002E': 'owner_occupied',\n",
       " 'B25044_003E': 'owner_occupied_no_vehicle_available',\n",
       " 'B25044_004E': 'owner_occupied_1_vehicle_available',\n",
       " 'B25044_005E': 'owner_occupied_2_vehicles_available',\n",
       " 'B25044_006E': 'owner_occupied_3_vehicles_available',\n",
       " 'B25044_007E': 'owner_occupied_4_vehicles_available',\n",
       " 'B25044_008E': 'owner_occupied_5_or_more_vehicles_available',\n",
       " 'B25044_009E': 'renter_occupied',\n",
       " 'B25044_010E': 'renter_occupied_no_vehicle_available',\n",
       " 'B25044_011E': 'renter_occupied_1_vehicle_available',\n",
       " 'B25044_012E': 'renter_occupied_2_vehicles_available',\n",
       " 'B25044_013E': 'renter_occupied_3_vehicles_available',\n",
       " 'B25044_014E': 'renter_occupied_4_vehicles_available',\n",
       " 'B25044_015E': 'renter_occupied_5_or_more_vehicles_available'}"
      ]
     },
     "metadata": {},
     "output_type": "display_data"
    }
   ],
   "source": [
    "field_names = census_vars.get_table(\"B25044\")\n",
    "display(field_names)\n",
    "field_names = {\n",
    "    'B25044_001E': 'total_households',\n",
    "    'B25044_002E': 'owner_occupied',\n",
    "    'B25044_009E': 'renter_occupied',\n",
    "    'B25044_003E': 'owner_no_vehicle',\n",
    "    'B25044_004E': 'owner_1_vehicle',\n",
    "    'B25044_005E': 'owner_2_vehicles',\n",
    "    'B25044_006E': 'owner_3_vehicles',\n",
    "    'B25044_007E': 'owner_4_vehicles',\n",
    "    'B25044_008E': 'owner_5_or_more_vehicles',\n",
    "    'B25044_010E': 'renter_no_vehicle',\n",
    "    'B25044_011E': 'renter_1_vehicle',\n",
    "    'B25044_012E': 'renter_2_vehicles',\n",
    "    'B25044_013E': 'renter_3_vehicles',\n",
    "    'B25044_014E': 'renter_4_vehicles',\n",
    "    'B25044_015E': 'renter_5_or_more_vehicles'\n",
    "}"
   ]
  },
  {
   "cell_type": "code",
   "execution_count": 4,
   "metadata": {},
   "outputs": [
    {
     "data": {
      "text/html": [
       "<div>\n",
       "<style scoped>\n",
       "    .dataframe tbody tr th:only-of-type {\n",
       "        vertical-align: middle;\n",
       "    }\n",
       "\n",
       "    .dataframe tbody tr th {\n",
       "        vertical-align: top;\n",
       "    }\n",
       "\n",
       "    .dataframe thead th {\n",
       "        text-align: right;\n",
       "    }\n",
       "</style>\n",
       "<table border=\"1\" class=\"dataframe\">\n",
       "  <thead>\n",
       "    <tr style=\"text-align: right;\">\n",
       "      <th></th>\n",
       "      <th>total_households</th>\n",
       "      <th>owner_occupied</th>\n",
       "      <th>renter_occupied</th>\n",
       "      <th>owner_no_vehicle</th>\n",
       "      <th>owner_1_vehicle</th>\n",
       "      <th>owner_2_vehicles</th>\n",
       "      <th>owner_3_vehicles</th>\n",
       "      <th>owner_4_vehicles</th>\n",
       "      <th>owner_5_or_more_vehicles</th>\n",
       "      <th>renter_no_vehicle</th>\n",
       "      <th>renter_1_vehicle</th>\n",
       "      <th>renter_2_vehicles</th>\n",
       "      <th>renter_3_vehicles</th>\n",
       "      <th>renter_4_vehicles</th>\n",
       "      <th>renter_5_or_more_vehicles</th>\n",
       "      <th>state</th>\n",
       "      <th>county</th>\n",
       "      <th>statefp</th>\n",
       "    </tr>\n",
       "  </thead>\n",
       "  <tbody>\n",
       "    <tr>\n",
       "      <th>0</th>\n",
       "      <td>132175.0</td>\n",
       "      <td>74707.0</td>\n",
       "      <td>57468.0</td>\n",
       "      <td>2656.0</td>\n",
       "      <td>22386.0</td>\n",
       "      <td>34782.0</td>\n",
       "      <td>10655.0</td>\n",
       "      <td>3132.0</td>\n",
       "      <td>1096.0</td>\n",
       "      <td>13821.0</td>\n",
       "      <td>28432.0</td>\n",
       "      <td>12509.0</td>\n",
       "      <td>2113.0</td>\n",
       "      <td>459.0</td>\n",
       "      <td>134.0</td>\n",
       "      <td>NY</td>\n",
       "      <td>001</td>\n",
       "      <td>36</td>\n",
       "    </tr>\n",
       "    <tr>\n",
       "      <th>1</th>\n",
       "      <td>16813.0</td>\n",
       "      <td>13584.0</td>\n",
       "      <td>3229.0</td>\n",
       "      <td>605.0</td>\n",
       "      <td>4275.0</td>\n",
       "      <td>5956.0</td>\n",
       "      <td>1929.0</td>\n",
       "      <td>517.0</td>\n",
       "      <td>302.0</td>\n",
       "      <td>620.0</td>\n",
       "      <td>1439.0</td>\n",
       "      <td>917.0</td>\n",
       "      <td>232.0</td>\n",
       "      <td>19.0</td>\n",
       "      <td>2.0</td>\n",
       "      <td>NY</td>\n",
       "      <td>003</td>\n",
       "      <td>36</td>\n",
       "    </tr>\n",
       "    <tr>\n",
       "      <th>2</th>\n",
       "      <td>525387.0</td>\n",
       "      <td>104887.0</td>\n",
       "      <td>420500.0</td>\n",
       "      <td>25658.0</td>\n",
       "      <td>46873.0</td>\n",
       "      <td>23467.0</td>\n",
       "      <td>6870.0</td>\n",
       "      <td>1498.0</td>\n",
       "      <td>521.0</td>\n",
       "      <td>290507.0</td>\n",
       "      <td>108030.0</td>\n",
       "      <td>19120.0</td>\n",
       "      <td>2217.0</td>\n",
       "      <td>457.0</td>\n",
       "      <td>169.0</td>\n",
       "      <td>NY</td>\n",
       "      <td>005</td>\n",
       "      <td>36</td>\n",
       "    </tr>\n",
       "    <tr>\n",
       "      <th>3</th>\n",
       "      <td>81339.0</td>\n",
       "      <td>52748.0</td>\n",
       "      <td>28591.0</td>\n",
       "      <td>2205.0</td>\n",
       "      <td>17227.0</td>\n",
       "      <td>22700.0</td>\n",
       "      <td>7460.0</td>\n",
       "      <td>2441.0</td>\n",
       "      <td>715.0</td>\n",
       "      <td>7999.0</td>\n",
       "      <td>13802.0</td>\n",
       "      <td>5086.0</td>\n",
       "      <td>1022.0</td>\n",
       "      <td>365.0</td>\n",
       "      <td>317.0</td>\n",
       "      <td>NY</td>\n",
       "      <td>007</td>\n",
       "      <td>36</td>\n",
       "    </tr>\n",
       "    <tr>\n",
       "      <th>4</th>\n",
       "      <td>31491.0</td>\n",
       "      <td>23220.0</td>\n",
       "      <td>8271.0</td>\n",
       "      <td>1240.0</td>\n",
       "      <td>7111.0</td>\n",
       "      <td>9961.0</td>\n",
       "      <td>3594.0</td>\n",
       "      <td>987.0</td>\n",
       "      <td>327.0</td>\n",
       "      <td>2049.0</td>\n",
       "      <td>3913.0</td>\n",
       "      <td>1939.0</td>\n",
       "      <td>231.0</td>\n",
       "      <td>63.0</td>\n",
       "      <td>76.0</td>\n",
       "      <td>NY</td>\n",
       "      <td>009</td>\n",
       "      <td>36</td>\n",
       "    </tr>\n",
       "    <tr>\n",
       "      <th>5</th>\n",
       "      <td>30910.0</td>\n",
       "      <td>21643.0</td>\n",
       "      <td>9267.0</td>\n",
       "      <td>781.0</td>\n",
       "      <td>6290.0</td>\n",
       "      <td>9816.0</td>\n",
       "      <td>3184.0</td>\n",
       "      <td>1117.0</td>\n",
       "      <td>455.0</td>\n",
       "      <td>2311.0</td>\n",
       "      <td>4727.0</td>\n",
       "      <td>1774.0</td>\n",
       "      <td>281.0</td>\n",
       "      <td>82.0</td>\n",
       "      <td>92.0</td>\n",
       "      <td>NY</td>\n",
       "      <td>011</td>\n",
       "      <td>36</td>\n",
       "    </tr>\n",
       "    <tr>\n",
       "      <th>6</th>\n",
       "      <td>53405.0</td>\n",
       "      <td>36891.0</td>\n",
       "      <td>16514.0</td>\n",
       "      <td>1727.0</td>\n",
       "      <td>11617.0</td>\n",
       "      <td>15672.0</td>\n",
       "      <td>5826.0</td>\n",
       "      <td>1321.0</td>\n",
       "      <td>728.0</td>\n",
       "      <td>4575.0</td>\n",
       "      <td>8121.0</td>\n",
       "      <td>3271.0</td>\n",
       "      <td>453.0</td>\n",
       "      <td>57.0</td>\n",
       "      <td>37.0</td>\n",
       "      <td>NY</td>\n",
       "      <td>013</td>\n",
       "      <td>36</td>\n",
       "    </tr>\n",
       "    <tr>\n",
       "      <th>7</th>\n",
       "      <td>34779.0</td>\n",
       "      <td>23801.0</td>\n",
       "      <td>10978.0</td>\n",
       "      <td>808.0</td>\n",
       "      <td>7617.0</td>\n",
       "      <td>10423.0</td>\n",
       "      <td>3593.0</td>\n",
       "      <td>1019.0</td>\n",
       "      <td>341.0</td>\n",
       "      <td>2730.0</td>\n",
       "      <td>5356.0</td>\n",
       "      <td>2324.0</td>\n",
       "      <td>501.0</td>\n",
       "      <td>52.0</td>\n",
       "      <td>15.0</td>\n",
       "      <td>NY</td>\n",
       "      <td>015</td>\n",
       "      <td>36</td>\n",
       "    </tr>\n",
       "    <tr>\n",
       "      <th>8</th>\n",
       "      <td>19886.0</td>\n",
       "      <td>15170.0</td>\n",
       "      <td>4716.0</td>\n",
       "      <td>534.0</td>\n",
       "      <td>4164.0</td>\n",
       "      <td>6793.0</td>\n",
       "      <td>2373.0</td>\n",
       "      <td>947.0</td>\n",
       "      <td>359.0</td>\n",
       "      <td>1130.0</td>\n",
       "      <td>2219.0</td>\n",
       "      <td>1108.0</td>\n",
       "      <td>235.0</td>\n",
       "      <td>18.0</td>\n",
       "      <td>6.0</td>\n",
       "      <td>NY</td>\n",
       "      <td>017</td>\n",
       "      <td>36</td>\n",
       "    </tr>\n",
       "    <tr>\n",
       "      <th>9</th>\n",
       "      <td>32651.0</td>\n",
       "      <td>22542.0</td>\n",
       "      <td>10109.0</td>\n",
       "      <td>808.0</td>\n",
       "      <td>6284.0</td>\n",
       "      <td>10277.0</td>\n",
       "      <td>3779.0</td>\n",
       "      <td>967.0</td>\n",
       "      <td>427.0</td>\n",
       "      <td>2286.0</td>\n",
       "      <td>4558.0</td>\n",
       "      <td>2728.0</td>\n",
       "      <td>351.0</td>\n",
       "      <td>167.0</td>\n",
       "      <td>19.0</td>\n",
       "      <td>NY</td>\n",
       "      <td>019</td>\n",
       "      <td>36</td>\n",
       "    </tr>\n",
       "  </tbody>\n",
       "</table>\n",
       "</div>"
      ],
      "text/plain": [
       "   total_households  owner_occupied  renter_occupied  owner_no_vehicle  \\\n",
       "0          132175.0         74707.0          57468.0            2656.0   \n",
       "1           16813.0         13584.0           3229.0             605.0   \n",
       "2          525387.0        104887.0         420500.0           25658.0   \n",
       "3           81339.0         52748.0          28591.0            2205.0   \n",
       "4           31491.0         23220.0           8271.0            1240.0   \n",
       "5           30910.0         21643.0           9267.0             781.0   \n",
       "6           53405.0         36891.0          16514.0            1727.0   \n",
       "7           34779.0         23801.0          10978.0             808.0   \n",
       "8           19886.0         15170.0           4716.0             534.0   \n",
       "9           32651.0         22542.0          10109.0             808.0   \n",
       "\n",
       "   owner_1_vehicle  owner_2_vehicles  owner_3_vehicles  owner_4_vehicles  \\\n",
       "0          22386.0           34782.0           10655.0            3132.0   \n",
       "1           4275.0            5956.0            1929.0             517.0   \n",
       "2          46873.0           23467.0            6870.0            1498.0   \n",
       "3          17227.0           22700.0            7460.0            2441.0   \n",
       "4           7111.0            9961.0            3594.0             987.0   \n",
       "5           6290.0            9816.0            3184.0            1117.0   \n",
       "6          11617.0           15672.0            5826.0            1321.0   \n",
       "7           7617.0           10423.0            3593.0            1019.0   \n",
       "8           4164.0            6793.0            2373.0             947.0   \n",
       "9           6284.0           10277.0            3779.0             967.0   \n",
       "\n",
       "   owner_5_or_more_vehicles  renter_no_vehicle  renter_1_vehicle  \\\n",
       "0                    1096.0            13821.0           28432.0   \n",
       "1                     302.0              620.0            1439.0   \n",
       "2                     521.0           290507.0          108030.0   \n",
       "3                     715.0             7999.0           13802.0   \n",
       "4                     327.0             2049.0            3913.0   \n",
       "5                     455.0             2311.0            4727.0   \n",
       "6                     728.0             4575.0            8121.0   \n",
       "7                     341.0             2730.0            5356.0   \n",
       "8                     359.0             1130.0            2219.0   \n",
       "9                     427.0             2286.0            4558.0   \n",
       "\n",
       "   renter_2_vehicles  renter_3_vehicles  renter_4_vehicles  \\\n",
       "0            12509.0             2113.0              459.0   \n",
       "1              917.0              232.0               19.0   \n",
       "2            19120.0             2217.0              457.0   \n",
       "3             5086.0             1022.0              365.0   \n",
       "4             1939.0              231.0               63.0   \n",
       "5             1774.0              281.0               82.0   \n",
       "6             3271.0              453.0               57.0   \n",
       "7             2324.0              501.0               52.0   \n",
       "8             1108.0              235.0               18.0   \n",
       "9             2728.0              351.0              167.0   \n",
       "\n",
       "   renter_5_or_more_vehicles state county statefp  \n",
       "0                      134.0    NY    001      36  \n",
       "1                        2.0    NY    003      36  \n",
       "2                      169.0    NY    005      36  \n",
       "3                      317.0    NY    007      36  \n",
       "4                       76.0    NY    009      36  \n",
       "5                       92.0    NY    011      36  \n",
       "6                       37.0    NY    013      36  \n",
       "7                       15.0    NY    015      36  \n",
       "8                        6.0    NY    017      36  \n",
       "9                       19.0    NY    019      36  "
      ]
     },
     "execution_count": 4,
     "metadata": {},
     "output_type": "execute_result"
    }
   ],
   "source": [
    "fields = list(field_names.keys())\n",
    "\n",
    "data = c.acs5.get(fields=fields, geo={ 'for': 'county:*', 'in': f'state:{us.states.NY.fips}'}, year=2022)\n",
    "\n",
    "df = pd.DataFrame(data)\n",
    "df.rename(columns=field_names, inplace=True)\n",
    "df[\"statefp\"] = df[\"state\"]\n",
    "df[\"state\"] = df.statefp.apply(census_vars.lookup_state)\n",
    "df.head(10)"
   ]
  },
  {
   "cell_type": "markdown",
   "metadata": {},
   "source": [
    "Calculate new columns\n",
    "--------------------------\n",
    "In the next block we just calculate car-free households (regardless of tenure)\n",
    "and the percentages for car-free and car-owning households."
   ]
  },
  {
   "cell_type": "code",
   "execution_count": 5,
   "metadata": {},
   "outputs": [
    {
     "data": {
      "text/html": [
       "<div>\n",
       "<style scoped>\n",
       "    .dataframe tbody tr th:only-of-type {\n",
       "        vertical-align: middle;\n",
       "    }\n",
       "\n",
       "    .dataframe tbody tr th {\n",
       "        vertical-align: top;\n",
       "    }\n",
       "\n",
       "    .dataframe thead th {\n",
       "        text-align: right;\n",
       "    }\n",
       "</style>\n",
       "<table border=\"1\" class=\"dataframe\">\n",
       "  <thead>\n",
       "    <tr style=\"text-align: right;\">\n",
       "      <th></th>\n",
       "      <th>total_households</th>\n",
       "      <th>carfree</th>\n",
       "      <th>carfree_pct</th>\n",
       "      <th>carowner</th>\n",
       "      <th>carowner_pct</th>\n",
       "      <th>state</th>\n",
       "      <th>statefp</th>\n",
       "      <th>county</th>\n",
       "    </tr>\n",
       "  </thead>\n",
       "  <tbody>\n",
       "    <tr>\n",
       "      <th>0</th>\n",
       "      <td>132175.0</td>\n",
       "      <td>16477.0</td>\n",
       "      <td>0.124660</td>\n",
       "      <td>115698.0</td>\n",
       "      <td>0.875340</td>\n",
       "      <td>NY</td>\n",
       "      <td>36</td>\n",
       "      <td>001</td>\n",
       "    </tr>\n",
       "    <tr>\n",
       "      <th>1</th>\n",
       "      <td>16813.0</td>\n",
       "      <td>1225.0</td>\n",
       "      <td>0.072860</td>\n",
       "      <td>15588.0</td>\n",
       "      <td>0.927140</td>\n",
       "      <td>NY</td>\n",
       "      <td>36</td>\n",
       "      <td>003</td>\n",
       "    </tr>\n",
       "    <tr>\n",
       "      <th>2</th>\n",
       "      <td>525387.0</td>\n",
       "      <td>316165.0</td>\n",
       "      <td>0.601775</td>\n",
       "      <td>209222.0</td>\n",
       "      <td>0.398225</td>\n",
       "      <td>NY</td>\n",
       "      <td>36</td>\n",
       "      <td>005</td>\n",
       "    </tr>\n",
       "    <tr>\n",
       "      <th>3</th>\n",
       "      <td>81339.0</td>\n",
       "      <td>10204.0</td>\n",
       "      <td>0.125450</td>\n",
       "      <td>71135.0</td>\n",
       "      <td>0.874550</td>\n",
       "      <td>NY</td>\n",
       "      <td>36</td>\n",
       "      <td>007</td>\n",
       "    </tr>\n",
       "    <tr>\n",
       "      <th>4</th>\n",
       "      <td>31491.0</td>\n",
       "      <td>3289.0</td>\n",
       "      <td>0.104443</td>\n",
       "      <td>28202.0</td>\n",
       "      <td>0.895557</td>\n",
       "      <td>NY</td>\n",
       "      <td>36</td>\n",
       "      <td>009</td>\n",
       "    </tr>\n",
       "  </tbody>\n",
       "</table>\n",
       "</div>"
      ],
      "text/plain": [
       "   total_households   carfree  carfree_pct  carowner  carowner_pct state  \\\n",
       "0          132175.0   16477.0     0.124660  115698.0      0.875340    NY   \n",
       "1           16813.0    1225.0     0.072860   15588.0      0.927140    NY   \n",
       "2          525387.0  316165.0     0.601775  209222.0      0.398225    NY   \n",
       "3           81339.0   10204.0     0.125450   71135.0      0.874550    NY   \n",
       "4           31491.0    3289.0     0.104443   28202.0      0.895557    NY   \n",
       "\n",
       "  statefp county  \n",
       "0      36    001  \n",
       "1      36    003  \n",
       "2      36    005  \n",
       "3      36    007  \n",
       "4      36    009  "
      ]
     },
     "execution_count": 5,
     "metadata": {},
     "output_type": "execute_result"
    }
   ],
   "source": [
    "df[\"carfree\"] = df[\"owner_no_vehicle\"] + df[\"renter_no_vehicle\"]\n",
    "df[\"carfree_pct\"] = df[\"carfree\"] / df[\"total_households\"]\n",
    "\n",
    "df[\"carowner\"] = df[\"total_households\"] - df[\"carfree\"]\n",
    "df[\"carowner_pct\"] = df[\"carowner\"] / df[\"total_households\"]\n",
    "\n",
    "cars = df[[\"total_households\", \"carfree\", \"carfree_pct\", \"carowner\", \"carowner_pct\", \"state\", \"statefp\", \"county\"]].copy()\n",
    "cars.head()"
   ]
  },
  {
   "cell_type": "markdown",
   "metadata": {},
   "source": [
    "Merge in County Names\n",
    "---------------------\n",
    "We're not going to make any maps, but we can find county names in the\n",
    "tiger county files for New York State. We'll load them by URL and\n",
    "merge the county name into our data, joining on the fips code."
   ]
  },
  {
   "cell_type": "code",
   "execution_count": 6,
   "metadata": {},
   "outputs": [
    {
     "data": {
      "text/html": [
       "<div>\n",
       "<style scoped>\n",
       "    .dataframe tbody tr th:only-of-type {\n",
       "        vertical-align: middle;\n",
       "    }\n",
       "\n",
       "    .dataframe tbody tr th {\n",
       "        vertical-align: top;\n",
       "    }\n",
       "\n",
       "    .dataframe thead th {\n",
       "        text-align: right;\n",
       "    }\n",
       "</style>\n",
       "<table border=\"1\" class=\"dataframe\">\n",
       "  <thead>\n",
       "    <tr style=\"text-align: right;\">\n",
       "      <th></th>\n",
       "      <th>total_households</th>\n",
       "      <th>carfree</th>\n",
       "      <th>carfree_pct</th>\n",
       "      <th>carowner</th>\n",
       "      <th>carowner_pct</th>\n",
       "      <th>state</th>\n",
       "      <th>statefp</th>\n",
       "      <th>county</th>\n",
       "      <th>county_name</th>\n",
       "    </tr>\n",
       "  </thead>\n",
       "  <tbody>\n",
       "    <tr>\n",
       "      <th>0</th>\n",
       "      <td>132175.0</td>\n",
       "      <td>16477.0</td>\n",
       "      <td>0.124660</td>\n",
       "      <td>115698.0</td>\n",
       "      <td>0.875340</td>\n",
       "      <td>NY</td>\n",
       "      <td>36</td>\n",
       "      <td>001</td>\n",
       "      <td>Albany</td>\n",
       "    </tr>\n",
       "    <tr>\n",
       "      <th>1</th>\n",
       "      <td>16813.0</td>\n",
       "      <td>1225.0</td>\n",
       "      <td>0.072860</td>\n",
       "      <td>15588.0</td>\n",
       "      <td>0.927140</td>\n",
       "      <td>NY</td>\n",
       "      <td>36</td>\n",
       "      <td>003</td>\n",
       "      <td>Allegany</td>\n",
       "    </tr>\n",
       "    <tr>\n",
       "      <th>2</th>\n",
       "      <td>525387.0</td>\n",
       "      <td>316165.0</td>\n",
       "      <td>0.601775</td>\n",
       "      <td>209222.0</td>\n",
       "      <td>0.398225</td>\n",
       "      <td>NY</td>\n",
       "      <td>36</td>\n",
       "      <td>005</td>\n",
       "      <td>Bronx</td>\n",
       "    </tr>\n",
       "    <tr>\n",
       "      <th>3</th>\n",
       "      <td>81339.0</td>\n",
       "      <td>10204.0</td>\n",
       "      <td>0.125450</td>\n",
       "      <td>71135.0</td>\n",
       "      <td>0.874550</td>\n",
       "      <td>NY</td>\n",
       "      <td>36</td>\n",
       "      <td>007</td>\n",
       "      <td>Broome</td>\n",
       "    </tr>\n",
       "    <tr>\n",
       "      <th>4</th>\n",
       "      <td>31491.0</td>\n",
       "      <td>3289.0</td>\n",
       "      <td>0.104443</td>\n",
       "      <td>28202.0</td>\n",
       "      <td>0.895557</td>\n",
       "      <td>NY</td>\n",
       "      <td>36</td>\n",
       "      <td>009</td>\n",
       "      <td>Cattaraugus</td>\n",
       "    </tr>\n",
       "  </tbody>\n",
       "</table>\n",
       "</div>"
      ],
      "text/plain": [
       "   total_households   carfree  carfree_pct  carowner  carowner_pct state  \\\n",
       "0          132175.0   16477.0     0.124660  115698.0      0.875340    NY   \n",
       "1           16813.0    1225.0     0.072860   15588.0      0.927140    NY   \n",
       "2          525387.0  316165.0     0.601775  209222.0      0.398225    NY   \n",
       "3           81339.0   10204.0     0.125450   71135.0      0.874550    NY   \n",
       "4           31491.0    3289.0     0.104443   28202.0      0.895557    NY   \n",
       "\n",
       "  statefp county  county_name  \n",
       "0      36    001       Albany  \n",
       "1      36    003     Allegany  \n",
       "2      36    005        Bronx  \n",
       "3      36    007       Broome  \n",
       "4      36    009  Cattaraugus  "
      ]
     },
     "execution_count": 6,
     "metadata": {},
     "output_type": "execute_result"
    }
   ],
   "source": [
    "county_url = \"https://www2.census.gov/geo/tiger/TIGER2022/COUNTY/tl_2022_us_county.zip\"\n",
    "counties = gpd.read_file(county_url)\n",
    "ny_counties = counties[counties.STATEFP == us.states.NY.fips].copy()\n",
    "ny_counties.rename(columns={\"COUNTYFP\": \"county\", \"NAME\": \"county_name\"}, inplace=True)\n",
    "cars = cars.merge(ny_counties[[\"county\", \"county_name\"]], on=\"county\")\n",
    "cars.head()"
   ]
  },
  {
   "cell_type": "markdown",
   "metadata": {},
   "source": [
    "Style and Formatting\n",
    "--------------------\n",
    "Here we use the `style` object to format the table\n",
    "without altering the underlying data.\n",
    "\n",
    "`style` has a `format()` method that takes a dictionary\n",
    "of column names and format strings. This allows us to\n",
    "format multiple columns at once, without using `apply()`.\n",
    "\n",
    "We also use the `set_caption()` method to add a title to \n",
    "the table, styled with HTML.\n",
    "\n",
    "Unfortunately, some things aren't possible with `style`, \n",
    "so we refactor the code to make a `copy()` of the DataFrame \n",
    "so that we can rename columns using our aliases."
   ]
  },
  {
   "cell_type": "code",
   "execution_count": 7,
   "metadata": {},
   "outputs": [
    {
     "data": {
      "text/html": [
       "<style type=\"text/css\">\n",
       "</style>\n",
       "<table id=\"T_4d22a\">\n",
       "  <caption><h3>Car Ownership in New York State Counties</h3></caption>\n",
       "  <thead>\n",
       "    <tr>\n",
       "      <th class=\"blank level0\" >&nbsp;</th>\n",
       "      <th id=\"T_4d22a_level0_col0\" class=\"col_heading level0 col0\" >county_name</th>\n",
       "      <th id=\"T_4d22a_level0_col1\" class=\"col_heading level0 col1\" >total_households</th>\n",
       "      <th id=\"T_4d22a_level0_col2\" class=\"col_heading level0 col2\" >carfree_pct</th>\n",
       "      <th id=\"T_4d22a_level0_col3\" class=\"col_heading level0 col3\" >carowner_pct</th>\n",
       "    </tr>\n",
       "  </thead>\n",
       "  <tbody>\n",
       "    <tr>\n",
       "      <th id=\"T_4d22a_level0_row0\" class=\"row_heading level0 row0\" ><span style='display: none'>30</span></th>\n",
       "      <td id=\"T_4d22a_row0_col0\" class=\"data row0 col0\" >New York</td>\n",
       "      <td id=\"T_4d22a_row0_col1\" class=\"data row0 col1\" >772,601</td>\n",
       "      <td id=\"T_4d22a_row0_col2\" class=\"data row0 col2\" >77.9%</td>\n",
       "      <td id=\"T_4d22a_row0_col3\" class=\"data row0 col3\" >22.1%</td>\n",
       "    </tr>\n",
       "    <tr>\n",
       "      <th id=\"T_4d22a_level0_row1\" class=\"row_heading level0 row1\" ><span style='display: none'>2</span></th>\n",
       "      <td id=\"T_4d22a_row1_col0\" class=\"data row1 col0\" >Bronx</td>\n",
       "      <td id=\"T_4d22a_row1_col1\" class=\"data row1 col1\" >525,387</td>\n",
       "      <td id=\"T_4d22a_row1_col2\" class=\"data row1 col2\" >60.2%</td>\n",
       "      <td id=\"T_4d22a_row1_col3\" class=\"data row1 col3\" >39.8%</td>\n",
       "    </tr>\n",
       "    <tr>\n",
       "      <th id=\"T_4d22a_level0_row2\" class=\"row_heading level0 row2\" ><span style='display: none'>23</span></th>\n",
       "      <td id=\"T_4d22a_row2_col0\" class=\"data row2 col0\" >Kings</td>\n",
       "      <td id=\"T_4d22a_row2_col1\" class=\"data row2 col1\" >997,957</td>\n",
       "      <td id=\"T_4d22a_row2_col2\" class=\"data row2 col2\" >55.3%</td>\n",
       "      <td id=\"T_4d22a_row2_col3\" class=\"data row2 col3\" >44.7%</td>\n",
       "    </tr>\n",
       "    <tr>\n",
       "      <th id=\"T_4d22a_level0_row3\" class=\"row_heading level0 row3\" ><span style='display: none'>40</span></th>\n",
       "      <td id=\"T_4d22a_row3_col0\" class=\"data row3 col0\" >Queens</td>\n",
       "      <td id=\"T_4d22a_row3_col1\" class=\"data row3 col1\" >816,859</td>\n",
       "      <td id=\"T_4d22a_row3_col2\" class=\"data row3 col2\" >36.7%</td>\n",
       "      <td id=\"T_4d22a_row3_col3\" class=\"data row3 col3\" >63.3%</td>\n",
       "    </tr>\n",
       "    <tr>\n",
       "      <th id=\"T_4d22a_level0_row4\" class=\"row_heading level0 row4\" ><span style='display: none'>42</span></th>\n",
       "      <td id=\"T_4d22a_row4_col0\" class=\"data row4 col0\" >Richmond</td>\n",
       "      <td id=\"T_4d22a_row4_col1\" class=\"data row4 col1\" >170,000</td>\n",
       "      <td id=\"T_4d22a_row4_col2\" class=\"data row4 col2\" >15.2%</td>\n",
       "      <td id=\"T_4d22a_row4_col3\" class=\"data row4 col3\" >84.8%</td>\n",
       "    </tr>\n",
       "    <tr>\n",
       "      <th id=\"T_4d22a_level0_row5\" class=\"row_heading level0 row5\" ><span style='display: none'>59</span></th>\n",
       "      <td id=\"T_4d22a_row5_col0\" class=\"data row5 col0\" >Westchester</td>\n",
       "      <td id=\"T_4d22a_row5_col1\" class=\"data row5 col1\" >367,740</td>\n",
       "      <td id=\"T_4d22a_row5_col2\" class=\"data row5 col2\" >14.2%</td>\n",
       "      <td id=\"T_4d22a_row5_col3\" class=\"data row5 col3\" >85.8%</td>\n",
       "    </tr>\n",
       "    <tr>\n",
       "      <th id=\"T_4d22a_level0_row6\" class=\"row_heading level0 row6\" ><span style='display: none'>54</span></th>\n",
       "      <td id=\"T_4d22a_row6_col0\" class=\"data row6 col0\" >Tompkins</td>\n",
       "      <td id=\"T_4d22a_row6_col1\" class=\"data row6 col1\" >42,984</td>\n",
       "      <td id=\"T_4d22a_row6_col2\" class=\"data row6 col2\" >13.3%</td>\n",
       "      <td id=\"T_4d22a_row6_col3\" class=\"data row6 col3\" >86.7%</td>\n",
       "    </tr>\n",
       "    <tr>\n",
       "      <th id=\"T_4d22a_level0_row7\" class=\"row_heading level0 row7\" ><span style='display: none'>61</span></th>\n",
       "      <td id=\"T_4d22a_row7_col0\" class=\"data row7 col0\" >Yates</td>\n",
       "      <td id=\"T_4d22a_row7_col1\" class=\"data row7 col1\" >8,882</td>\n",
       "      <td id=\"T_4d22a_row7_col2\" class=\"data row7 col2\" >13.0%</td>\n",
       "      <td id=\"T_4d22a_row7_col3\" class=\"data row7 col3\" >87.0%</td>\n",
       "    </tr>\n",
       "    <tr>\n",
       "      <th id=\"T_4d22a_level0_row8\" class=\"row_heading level0 row8\" ><span style='display: none'>28</span></th>\n",
       "      <td id=\"T_4d22a_row8_col0\" class=\"data row8 col0\" >Montgomery</td>\n",
       "      <td id=\"T_4d22a_row8_col1\" class=\"data row8 col1\" >18,918</td>\n",
       "      <td id=\"T_4d22a_row8_col2\" class=\"data row8 col2\" >12.8%</td>\n",
       "      <td id=\"T_4d22a_row8_col3\" class=\"data row8 col3\" >87.2%</td>\n",
       "    </tr>\n",
       "    <tr>\n",
       "      <th id=\"T_4d22a_level0_row9\" class=\"row_heading level0 row9\" ><span style='display: none'>3</span></th>\n",
       "      <td id=\"T_4d22a_row9_col0\" class=\"data row9 col0\" >Broome</td>\n",
       "      <td id=\"T_4d22a_row9_col1\" class=\"data row9 col1\" >81,339</td>\n",
       "      <td id=\"T_4d22a_row9_col2\" class=\"data row9 col2\" >12.5%</td>\n",
       "      <td id=\"T_4d22a_row9_col3\" class=\"data row9 col3\" >87.5%</td>\n",
       "    </tr>\n",
       "  </tbody>\n",
       "</table>\n"
      ],
      "text/plain": [
       "<pandas.io.formats.style.Styler at 0x7d182112a260>"
      ]
     },
     "execution_count": 7,
     "metadata": {},
     "output_type": "execute_result"
    }
   ],
   "source": [
    "formats = {\n",
    "    \"total_households\": \"{:,.0f}\",\n",
    "    \"carfree_pct\": \"{:,.1%}\",\n",
    "    \"carowner_pct\": \"{:,.1%}\",\n",
    "}\n",
    "aliases = {\n",
    "    \"county_name\": \"County\",\n",
    "    \"total_households\": \"Total Households\",\n",
    "    \"carfree_pct\": \"% Car Free\",\n",
    "    \"carowner_pct\": \"% Car Owner\",\n",
    "}\n",
    "\n",
    "title = \"<h3>Car Ownership in New York State Counties</h3>\"\n",
    "cars.sort_values(by=\"carfree_pct\", ascending=False, inplace=True)\n",
    "\n",
    "cols = ['county_name', 'total_households', 'carfree_pct', 'carowner_pct']\n",
    "table = cars[cols].head(10).style.format(formats)\n",
    "# hide the index\n",
    "table.format_index(lambda x: f\"<span style='display: none'>{x}</span>\")\n",
    "table = table.set_caption(title)\n",
    "table"
   ]
  },
  {
   "cell_type": "markdown",
   "metadata": {},
   "source": [
    "Style a `copy()` of the DataFrame\n",
    "---------------------------------\n",
    "Some operations are not possible with the `style` object, \n",
    "so we make a copy of the DataFrame and then rename the columns\n",
    "before using the `style` object to format the table.\n",
    "\n",
    "Because we called copy(), the original DataFrame is not affected by the\n",
    "changes we make.\n",
    "_Note, we re-use `formats` and `title` defined in the previous cell._"
   ]
  },
  {
   "cell_type": "code",
   "execution_count": 8,
   "metadata": {},
   "outputs": [
    {
     "data": {
      "text/html": [
       "<style type=\"text/css\">\n",
       "</style>\n",
       "<table id=\"T_955fa\">\n",
       "  <caption><h3>Car Ownership in New York State Counties</h3></caption>\n",
       "  <thead>\n",
       "    <tr>\n",
       "      <th class=\"blank level0\" >&nbsp;</th>\n",
       "      <th id=\"T_955fa_level0_col0\" class=\"col_heading level0 col0\" >County</th>\n",
       "      <th id=\"T_955fa_level0_col1\" class=\"col_heading level0 col1\" >Total Households</th>\n",
       "      <th id=\"T_955fa_level0_col2\" class=\"col_heading level0 col2\" >% Car Free</th>\n",
       "      <th id=\"T_955fa_level0_col3\" class=\"col_heading level0 col3\" >% Car Owner</th>\n",
       "    </tr>\n",
       "  </thead>\n",
       "  <tbody>\n",
       "    <tr>\n",
       "      <th id=\"T_955fa_level0_row0\" class=\"row_heading level0 row0\" >30</th>\n",
       "      <td id=\"T_955fa_row0_col0\" class=\"data row0 col0\" >New York</td>\n",
       "      <td id=\"T_955fa_row0_col1\" class=\"data row0 col1\" >772,601</td>\n",
       "      <td id=\"T_955fa_row0_col2\" class=\"data row0 col2\" >77.9%</td>\n",
       "      <td id=\"T_955fa_row0_col3\" class=\"data row0 col3\" >22.1%</td>\n",
       "    </tr>\n",
       "    <tr>\n",
       "      <th id=\"T_955fa_level0_row1\" class=\"row_heading level0 row1\" >2</th>\n",
       "      <td id=\"T_955fa_row1_col0\" class=\"data row1 col0\" >Bronx</td>\n",
       "      <td id=\"T_955fa_row1_col1\" class=\"data row1 col1\" >525,387</td>\n",
       "      <td id=\"T_955fa_row1_col2\" class=\"data row1 col2\" >60.2%</td>\n",
       "      <td id=\"T_955fa_row1_col3\" class=\"data row1 col3\" >39.8%</td>\n",
       "    </tr>\n",
       "    <tr>\n",
       "      <th id=\"T_955fa_level0_row2\" class=\"row_heading level0 row2\" >23</th>\n",
       "      <td id=\"T_955fa_row2_col0\" class=\"data row2 col0\" >Kings</td>\n",
       "      <td id=\"T_955fa_row2_col1\" class=\"data row2 col1\" >997,957</td>\n",
       "      <td id=\"T_955fa_row2_col2\" class=\"data row2 col2\" >55.3%</td>\n",
       "      <td id=\"T_955fa_row2_col3\" class=\"data row2 col3\" >44.7%</td>\n",
       "    </tr>\n",
       "    <tr>\n",
       "      <th id=\"T_955fa_level0_row3\" class=\"row_heading level0 row3\" >40</th>\n",
       "      <td id=\"T_955fa_row3_col0\" class=\"data row3 col0\" >Queens</td>\n",
       "      <td id=\"T_955fa_row3_col1\" class=\"data row3 col1\" >816,859</td>\n",
       "      <td id=\"T_955fa_row3_col2\" class=\"data row3 col2\" >36.7%</td>\n",
       "      <td id=\"T_955fa_row3_col3\" class=\"data row3 col3\" >63.3%</td>\n",
       "    </tr>\n",
       "    <tr>\n",
       "      <th id=\"T_955fa_level0_row4\" class=\"row_heading level0 row4\" >42</th>\n",
       "      <td id=\"T_955fa_row4_col0\" class=\"data row4 col0\" >Richmond</td>\n",
       "      <td id=\"T_955fa_row4_col1\" class=\"data row4 col1\" >170,000</td>\n",
       "      <td id=\"T_955fa_row4_col2\" class=\"data row4 col2\" >15.2%</td>\n",
       "      <td id=\"T_955fa_row4_col3\" class=\"data row4 col3\" >84.8%</td>\n",
       "    </tr>\n",
       "    <tr>\n",
       "      <th id=\"T_955fa_level0_row5\" class=\"row_heading level0 row5\" >59</th>\n",
       "      <td id=\"T_955fa_row5_col0\" class=\"data row5 col0\" >Westchester</td>\n",
       "      <td id=\"T_955fa_row5_col1\" class=\"data row5 col1\" >367,740</td>\n",
       "      <td id=\"T_955fa_row5_col2\" class=\"data row5 col2\" >14.2%</td>\n",
       "      <td id=\"T_955fa_row5_col3\" class=\"data row5 col3\" >85.8%</td>\n",
       "    </tr>\n",
       "    <tr>\n",
       "      <th id=\"T_955fa_level0_row6\" class=\"row_heading level0 row6\" >54</th>\n",
       "      <td id=\"T_955fa_row6_col0\" class=\"data row6 col0\" >Tompkins</td>\n",
       "      <td id=\"T_955fa_row6_col1\" class=\"data row6 col1\" >42,984</td>\n",
       "      <td id=\"T_955fa_row6_col2\" class=\"data row6 col2\" >13.3%</td>\n",
       "      <td id=\"T_955fa_row6_col3\" class=\"data row6 col3\" >86.7%</td>\n",
       "    </tr>\n",
       "    <tr>\n",
       "      <th id=\"T_955fa_level0_row7\" class=\"row_heading level0 row7\" >61</th>\n",
       "      <td id=\"T_955fa_row7_col0\" class=\"data row7 col0\" >Yates</td>\n",
       "      <td id=\"T_955fa_row7_col1\" class=\"data row7 col1\" >8,882</td>\n",
       "      <td id=\"T_955fa_row7_col2\" class=\"data row7 col2\" >13.0%</td>\n",
       "      <td id=\"T_955fa_row7_col3\" class=\"data row7 col3\" >87.0%</td>\n",
       "    </tr>\n",
       "    <tr>\n",
       "      <th id=\"T_955fa_level0_row8\" class=\"row_heading level0 row8\" >28</th>\n",
       "      <td id=\"T_955fa_row8_col0\" class=\"data row8 col0\" >Montgomery</td>\n",
       "      <td id=\"T_955fa_row8_col1\" class=\"data row8 col1\" >18,918</td>\n",
       "      <td id=\"T_955fa_row8_col2\" class=\"data row8 col2\" >12.8%</td>\n",
       "      <td id=\"T_955fa_row8_col3\" class=\"data row8 col3\" >87.2%</td>\n",
       "    </tr>\n",
       "    <tr>\n",
       "      <th id=\"T_955fa_level0_row9\" class=\"row_heading level0 row9\" >3</th>\n",
       "      <td id=\"T_955fa_row9_col0\" class=\"data row9 col0\" >Broome</td>\n",
       "      <td id=\"T_955fa_row9_col1\" class=\"data row9 col1\" >81,339</td>\n",
       "      <td id=\"T_955fa_row9_col2\" class=\"data row9 col2\" >12.5%</td>\n",
       "      <td id=\"T_955fa_row9_col3\" class=\"data row9 col3\" >87.5%</td>\n",
       "    </tr>\n",
       "  </tbody>\n",
       "</table>\n"
      ],
      "text/plain": [
       "<pandas.io.formats.style.Styler at 0x7d18215aa050>"
      ]
     },
     "execution_count": 8,
     "metadata": {},
     "output_type": "execute_result"
    }
   ],
   "source": [
    "aliases = {\n",
    "    \"county_name\": \"County\",\n",
    "    \"total_households\": \"Total Households\",\n",
    "    \"carfree_pct\": \"% Car Free\",\n",
    "    \"carowner_pct\": \"% Car Owner\",\n",
    "}\n",
    "\n",
    "formats = {\n",
    "    \"Total Households\": \"{:,.0f}\",\n",
    "    \"% Car Free\": \"{:,.1%}\",\n",
    "    \"% Car Owner\": \"{:,.1%}\",\n",
    "}\n",
    "\n",
    "table = cars[aliases.keys()].head(10).copy()\n",
    "table = table.rename(columns=aliases)\n",
    "\n",
    "# switch from DataFrame to Styler\n",
    "table = table.style.format(formats)\n",
    "table = table.set_caption(title)\n",
    "table"
   ]
  },
  {
   "cell_type": "markdown",
   "metadata": {},
   "source": [
    "Making Bar Charts\n",
    "=================\n",
    "We are going to use a python library called `plotly` to make\n",
    "interactive bar charts. We will use the `px.bar()` function.\n",
    "\n",
    "A few things to note:\n",
    "\n",
    "- the x-axis labels the values going across the bottom of the chart\n",
    "- the y-axis labels the values going up the side of the chart\n",
    "- we're going to work with the `gc` variable, which is a subset of the data\n",
    "  to make these example charts\n",
    "- if we sort our data, we will get bard in a different order"
   ]
  },
  {
   "cell_type": "markdown",
   "metadata": {},
   "source": [
    "A simple horizontal bar chart\n",
    "------------------------------\n",
    "With one line of code, we can make a simple horizontal bar chart."
   ]
  },
  {
   "cell_type": "code",
   "execution_count": 9,
   "metadata": {},
   "outputs": [
    {
     "data": {
      "application/vnd.plotly.v1+json": {
       "config": {
        "plotlyServerURL": "https://plot.ly"
       },
       "data": [
        {
         "alignmentgroup": "True",
         "hovertemplate": "carfree_pct=%{x}<br>county_name=%{y}<extra></extra>",
         "legendgroup": "",
         "marker": {
          "color": "#636efa",
          "pattern": {
           "shape": ""
          }
         },
         "name": "",
         "offsetgroup": "",
         "orientation": "h",
         "showlegend": false,
         "textposition": "auto",
         "type": "bar",
         "x": [
          0.7786956009634987,
          0.60177545314216,
          0.553189165465045,
          0.3673975557593171,
          0.15225882352941175,
          0.1418094305759504,
          0.13279359761771822,
          0.1304886286872326,
          0.1283962363886246,
          0.1254502760053603
         ],
         "xaxis": "x",
         "y": [
          "New York",
          "Bronx",
          "Kings",
          "Queens",
          "Richmond",
          "Westchester",
          "Tompkins",
          "Yates",
          "Montgomery",
          "Broome"
         ],
         "yaxis": "y"
        }
       ],
       "layout": {
        "barmode": "relative",
        "legend": {
         "tracegroupgap": 0
        },
        "template": {
         "data": {
          "bar": [
           {
            "error_x": {
             "color": "#2a3f5f"
            },
            "error_y": {
             "color": "#2a3f5f"
            },
            "marker": {
             "line": {
              "color": "#E5ECF6",
              "width": 0.5
             },
             "pattern": {
              "fillmode": "overlay",
              "size": 10,
              "solidity": 0.2
             }
            },
            "type": "bar"
           }
          ],
          "barpolar": [
           {
            "marker": {
             "line": {
              "color": "#E5ECF6",
              "width": 0.5
             },
             "pattern": {
              "fillmode": "overlay",
              "size": 10,
              "solidity": 0.2
             }
            },
            "type": "barpolar"
           }
          ],
          "carpet": [
           {
            "aaxis": {
             "endlinecolor": "#2a3f5f",
             "gridcolor": "white",
             "linecolor": "white",
             "minorgridcolor": "white",
             "startlinecolor": "#2a3f5f"
            },
            "baxis": {
             "endlinecolor": "#2a3f5f",
             "gridcolor": "white",
             "linecolor": "white",
             "minorgridcolor": "white",
             "startlinecolor": "#2a3f5f"
            },
            "type": "carpet"
           }
          ],
          "choropleth": [
           {
            "colorbar": {
             "outlinewidth": 0,
             "ticks": ""
            },
            "type": "choropleth"
           }
          ],
          "contour": [
           {
            "colorbar": {
             "outlinewidth": 0,
             "ticks": ""
            },
            "colorscale": [
             [
              0,
              "#0d0887"
             ],
             [
              0.1111111111111111,
              "#46039f"
             ],
             [
              0.2222222222222222,
              "#7201a8"
             ],
             [
              0.3333333333333333,
              "#9c179e"
             ],
             [
              0.4444444444444444,
              "#bd3786"
             ],
             [
              0.5555555555555556,
              "#d8576b"
             ],
             [
              0.6666666666666666,
              "#ed7953"
             ],
             [
              0.7777777777777778,
              "#fb9f3a"
             ],
             [
              0.8888888888888888,
              "#fdca26"
             ],
             [
              1,
              "#f0f921"
             ]
            ],
            "type": "contour"
           }
          ],
          "contourcarpet": [
           {
            "colorbar": {
             "outlinewidth": 0,
             "ticks": ""
            },
            "type": "contourcarpet"
           }
          ],
          "heatmap": [
           {
            "colorbar": {
             "outlinewidth": 0,
             "ticks": ""
            },
            "colorscale": [
             [
              0,
              "#0d0887"
             ],
             [
              0.1111111111111111,
              "#46039f"
             ],
             [
              0.2222222222222222,
              "#7201a8"
             ],
             [
              0.3333333333333333,
              "#9c179e"
             ],
             [
              0.4444444444444444,
              "#bd3786"
             ],
             [
              0.5555555555555556,
              "#d8576b"
             ],
             [
              0.6666666666666666,
              "#ed7953"
             ],
             [
              0.7777777777777778,
              "#fb9f3a"
             ],
             [
              0.8888888888888888,
              "#fdca26"
             ],
             [
              1,
              "#f0f921"
             ]
            ],
            "type": "heatmap"
           }
          ],
          "heatmapgl": [
           {
            "colorbar": {
             "outlinewidth": 0,
             "ticks": ""
            },
            "colorscale": [
             [
              0,
              "#0d0887"
             ],
             [
              0.1111111111111111,
              "#46039f"
             ],
             [
              0.2222222222222222,
              "#7201a8"
             ],
             [
              0.3333333333333333,
              "#9c179e"
             ],
             [
              0.4444444444444444,
              "#bd3786"
             ],
             [
              0.5555555555555556,
              "#d8576b"
             ],
             [
              0.6666666666666666,
              "#ed7953"
             ],
             [
              0.7777777777777778,
              "#fb9f3a"
             ],
             [
              0.8888888888888888,
              "#fdca26"
             ],
             [
              1,
              "#f0f921"
             ]
            ],
            "type": "heatmapgl"
           }
          ],
          "histogram": [
           {
            "marker": {
             "pattern": {
              "fillmode": "overlay",
              "size": 10,
              "solidity": 0.2
             }
            },
            "type": "histogram"
           }
          ],
          "histogram2d": [
           {
            "colorbar": {
             "outlinewidth": 0,
             "ticks": ""
            },
            "colorscale": [
             [
              0,
              "#0d0887"
             ],
             [
              0.1111111111111111,
              "#46039f"
             ],
             [
              0.2222222222222222,
              "#7201a8"
             ],
             [
              0.3333333333333333,
              "#9c179e"
             ],
             [
              0.4444444444444444,
              "#bd3786"
             ],
             [
              0.5555555555555556,
              "#d8576b"
             ],
             [
              0.6666666666666666,
              "#ed7953"
             ],
             [
              0.7777777777777778,
              "#fb9f3a"
             ],
             [
              0.8888888888888888,
              "#fdca26"
             ],
             [
              1,
              "#f0f921"
             ]
            ],
            "type": "histogram2d"
           }
          ],
          "histogram2dcontour": [
           {
            "colorbar": {
             "outlinewidth": 0,
             "ticks": ""
            },
            "colorscale": [
             [
              0,
              "#0d0887"
             ],
             [
              0.1111111111111111,
              "#46039f"
             ],
             [
              0.2222222222222222,
              "#7201a8"
             ],
             [
              0.3333333333333333,
              "#9c179e"
             ],
             [
              0.4444444444444444,
              "#bd3786"
             ],
             [
              0.5555555555555556,
              "#d8576b"
             ],
             [
              0.6666666666666666,
              "#ed7953"
             ],
             [
              0.7777777777777778,
              "#fb9f3a"
             ],
             [
              0.8888888888888888,
              "#fdca26"
             ],
             [
              1,
              "#f0f921"
             ]
            ],
            "type": "histogram2dcontour"
           }
          ],
          "mesh3d": [
           {
            "colorbar": {
             "outlinewidth": 0,
             "ticks": ""
            },
            "type": "mesh3d"
           }
          ],
          "parcoords": [
           {
            "line": {
             "colorbar": {
              "outlinewidth": 0,
              "ticks": ""
             }
            },
            "type": "parcoords"
           }
          ],
          "pie": [
           {
            "automargin": true,
            "type": "pie"
           }
          ],
          "scatter": [
           {
            "fillpattern": {
             "fillmode": "overlay",
             "size": 10,
             "solidity": 0.2
            },
            "type": "scatter"
           }
          ],
          "scatter3d": [
           {
            "line": {
             "colorbar": {
              "outlinewidth": 0,
              "ticks": ""
             }
            },
            "marker": {
             "colorbar": {
              "outlinewidth": 0,
              "ticks": ""
             }
            },
            "type": "scatter3d"
           }
          ],
          "scattercarpet": [
           {
            "marker": {
             "colorbar": {
              "outlinewidth": 0,
              "ticks": ""
             }
            },
            "type": "scattercarpet"
           }
          ],
          "scattergeo": [
           {
            "marker": {
             "colorbar": {
              "outlinewidth": 0,
              "ticks": ""
             }
            },
            "type": "scattergeo"
           }
          ],
          "scattergl": [
           {
            "marker": {
             "colorbar": {
              "outlinewidth": 0,
              "ticks": ""
             }
            },
            "type": "scattergl"
           }
          ],
          "scattermapbox": [
           {
            "marker": {
             "colorbar": {
              "outlinewidth": 0,
              "ticks": ""
             }
            },
            "type": "scattermapbox"
           }
          ],
          "scatterpolar": [
           {
            "marker": {
             "colorbar": {
              "outlinewidth": 0,
              "ticks": ""
             }
            },
            "type": "scatterpolar"
           }
          ],
          "scatterpolargl": [
           {
            "marker": {
             "colorbar": {
              "outlinewidth": 0,
              "ticks": ""
             }
            },
            "type": "scatterpolargl"
           }
          ],
          "scatterternary": [
           {
            "marker": {
             "colorbar": {
              "outlinewidth": 0,
              "ticks": ""
             }
            },
            "type": "scatterternary"
           }
          ],
          "surface": [
           {
            "colorbar": {
             "outlinewidth": 0,
             "ticks": ""
            },
            "colorscale": [
             [
              0,
              "#0d0887"
             ],
             [
              0.1111111111111111,
              "#46039f"
             ],
             [
              0.2222222222222222,
              "#7201a8"
             ],
             [
              0.3333333333333333,
              "#9c179e"
             ],
             [
              0.4444444444444444,
              "#bd3786"
             ],
             [
              0.5555555555555556,
              "#d8576b"
             ],
             [
              0.6666666666666666,
              "#ed7953"
             ],
             [
              0.7777777777777778,
              "#fb9f3a"
             ],
             [
              0.8888888888888888,
              "#fdca26"
             ],
             [
              1,
              "#f0f921"
             ]
            ],
            "type": "surface"
           }
          ],
          "table": [
           {
            "cells": {
             "fill": {
              "color": "#EBF0F8"
             },
             "line": {
              "color": "white"
             }
            },
            "header": {
             "fill": {
              "color": "#C8D4E3"
             },
             "line": {
              "color": "white"
             }
            },
            "type": "table"
           }
          ]
         },
         "layout": {
          "annotationdefaults": {
           "arrowcolor": "#2a3f5f",
           "arrowhead": 0,
           "arrowwidth": 1
          },
          "autotypenumbers": "strict",
          "coloraxis": {
           "colorbar": {
            "outlinewidth": 0,
            "ticks": ""
           }
          },
          "colorscale": {
           "diverging": [
            [
             0,
             "#8e0152"
            ],
            [
             0.1,
             "#c51b7d"
            ],
            [
             0.2,
             "#de77ae"
            ],
            [
             0.3,
             "#f1b6da"
            ],
            [
             0.4,
             "#fde0ef"
            ],
            [
             0.5,
             "#f7f7f7"
            ],
            [
             0.6,
             "#e6f5d0"
            ],
            [
             0.7,
             "#b8e186"
            ],
            [
             0.8,
             "#7fbc41"
            ],
            [
             0.9,
             "#4d9221"
            ],
            [
             1,
             "#276419"
            ]
           ],
           "sequential": [
            [
             0,
             "#0d0887"
            ],
            [
             0.1111111111111111,
             "#46039f"
            ],
            [
             0.2222222222222222,
             "#7201a8"
            ],
            [
             0.3333333333333333,
             "#9c179e"
            ],
            [
             0.4444444444444444,
             "#bd3786"
            ],
            [
             0.5555555555555556,
             "#d8576b"
            ],
            [
             0.6666666666666666,
             "#ed7953"
            ],
            [
             0.7777777777777778,
             "#fb9f3a"
            ],
            [
             0.8888888888888888,
             "#fdca26"
            ],
            [
             1,
             "#f0f921"
            ]
           ],
           "sequentialminus": [
            [
             0,
             "#0d0887"
            ],
            [
             0.1111111111111111,
             "#46039f"
            ],
            [
             0.2222222222222222,
             "#7201a8"
            ],
            [
             0.3333333333333333,
             "#9c179e"
            ],
            [
             0.4444444444444444,
             "#bd3786"
            ],
            [
             0.5555555555555556,
             "#d8576b"
            ],
            [
             0.6666666666666666,
             "#ed7953"
            ],
            [
             0.7777777777777778,
             "#fb9f3a"
            ],
            [
             0.8888888888888888,
             "#fdca26"
            ],
            [
             1,
             "#f0f921"
            ]
           ]
          },
          "colorway": [
           "#636efa",
           "#EF553B",
           "#00cc96",
           "#ab63fa",
           "#FFA15A",
           "#19d3f3",
           "#FF6692",
           "#B6E880",
           "#FF97FF",
           "#FECB52"
          ],
          "font": {
           "color": "#2a3f5f"
          },
          "geo": {
           "bgcolor": "white",
           "lakecolor": "white",
           "landcolor": "#E5ECF6",
           "showlakes": true,
           "showland": true,
           "subunitcolor": "white"
          },
          "hoverlabel": {
           "align": "left"
          },
          "hovermode": "closest",
          "mapbox": {
           "style": "light"
          },
          "paper_bgcolor": "white",
          "plot_bgcolor": "#E5ECF6",
          "polar": {
           "angularaxis": {
            "gridcolor": "white",
            "linecolor": "white",
            "ticks": ""
           },
           "bgcolor": "#E5ECF6",
           "radialaxis": {
            "gridcolor": "white",
            "linecolor": "white",
            "ticks": ""
           }
          },
          "scene": {
           "xaxis": {
            "backgroundcolor": "#E5ECF6",
            "gridcolor": "white",
            "gridwidth": 2,
            "linecolor": "white",
            "showbackground": true,
            "ticks": "",
            "zerolinecolor": "white"
           },
           "yaxis": {
            "backgroundcolor": "#E5ECF6",
            "gridcolor": "white",
            "gridwidth": 2,
            "linecolor": "white",
            "showbackground": true,
            "ticks": "",
            "zerolinecolor": "white"
           },
           "zaxis": {
            "backgroundcolor": "#E5ECF6",
            "gridcolor": "white",
            "gridwidth": 2,
            "linecolor": "white",
            "showbackground": true,
            "ticks": "",
            "zerolinecolor": "white"
           }
          },
          "shapedefaults": {
           "line": {
            "color": "#2a3f5f"
           }
          },
          "ternary": {
           "aaxis": {
            "gridcolor": "white",
            "linecolor": "white",
            "ticks": ""
           },
           "baxis": {
            "gridcolor": "white",
            "linecolor": "white",
            "ticks": ""
           },
           "bgcolor": "#E5ECF6",
           "caxis": {
            "gridcolor": "white",
            "linecolor": "white",
            "ticks": ""
           }
          },
          "title": {
           "x": 0.05
          },
          "xaxis": {
           "automargin": true,
           "gridcolor": "white",
           "linecolor": "white",
           "ticks": "",
           "title": {
            "standoff": 15
           },
           "zerolinecolor": "white",
           "zerolinewidth": 2
          },
          "yaxis": {
           "automargin": true,
           "gridcolor": "white",
           "linecolor": "white",
           "ticks": "",
           "title": {
            "standoff": 15
           },
           "zerolinecolor": "white",
           "zerolinewidth": 2
          }
         }
        },
        "title": {
         "text": "Top 10 Car Free Counties in NYS"
        },
        "xaxis": {
         "anchor": "y",
         "domain": [
          0,
          1
         ],
         "title": {
          "text": "carfree_pct"
         }
        },
        "yaxis": {
         "anchor": "x",
         "domain": [
          0,
          1
         ],
         "title": {
          "text": "county_name"
         }
        }
       }
      }
     },
     "metadata": {},
     "output_type": "display_data"
    }
   ],
   "source": [
    "# a basic bar chart showing the number of car-free households in the top 10 counties\n",
    "fig = px.bar(cars.head(10), x='carfree_pct', y=\"county_name\", \n",
    "             title=\"Top 10 Car Free Counties in NYS\")\n",
    "fig"
   ]
  },
  {
   "cell_type": "markdown",
   "metadata": {},
   "source": [
    "A multi-column, vertical bar chart\n",
    "----------------------------------\n",
    "To create a more complex bar chart, first\n",
    "we're going to organize a table showing exactly the\n",
    "data we need for the chart. We're not going to distinguish\n",
    "renter and owner households, so we add them together\n",
    "to create new fields. In our bar chart, we want to show\n",
    "5 categories--the NYC boroughs--and six bars for each\n",
    "borough.\n",
    "\n",
    "For each borough, we're going to show the number of households\n",
    "in each category. We'll even get a little practice with\n",
    "Python `dict` and `list` objects, and using `for` loops."
   ]
  },
  {
   "cell_type": "code",
   "execution_count": 11,
   "metadata": {},
   "outputs": [
    {
     "data": {
      "text/plain": [
       "{'Zero': '{:,}',\n",
       " 'One': '{:,}',\n",
       " 'Two': '{:,}',\n",
       " 'Three': '{:,}',\n",
       " 'Four': '{:,}',\n",
       " 'Five +': '{:,}'}"
      ]
     },
     "metadata": {},
     "output_type": "display_data"
    },
    {
     "data": {
      "text/html": [
       "<style type=\"text/css\">\n",
       "</style>\n",
       "<table id=\"T_b0a53\">\n",
       "  <caption><h3>Car Ownership in NYC Boroughs</h3></caption>\n",
       "  <thead>\n",
       "    <tr>\n",
       "      <th class=\"blank level0\" >&nbsp;</th>\n",
       "      <th id=\"T_b0a53_level0_col0\" class=\"col_heading level0 col0\" >Zero</th>\n",
       "      <th id=\"T_b0a53_level0_col1\" class=\"col_heading level0 col1\" >One</th>\n",
       "      <th id=\"T_b0a53_level0_col2\" class=\"col_heading level0 col2\" >Two</th>\n",
       "      <th id=\"T_b0a53_level0_col3\" class=\"col_heading level0 col3\" >Three</th>\n",
       "      <th id=\"T_b0a53_level0_col4\" class=\"col_heading level0 col4\" >Four</th>\n",
       "      <th id=\"T_b0a53_level0_col5\" class=\"col_heading level0 col5\" >Five +</th>\n",
       "      <th id=\"T_b0a53_level0_col6\" class=\"col_heading level0 col6\" >Borough</th>\n",
       "    </tr>\n",
       "  </thead>\n",
       "  <tbody>\n",
       "    <tr>\n",
       "      <th id=\"T_b0a53_level0_row0\" class=\"row_heading level0 row0\" >0</th>\n",
       "      <td id=\"T_b0a53_row0_col0\" class=\"data row0 col0\" >316,165</td>\n",
       "      <td id=\"T_b0a53_row0_col1\" class=\"data row0 col1\" >154,903</td>\n",
       "      <td id=\"T_b0a53_row0_col2\" class=\"data row0 col2\" >42,587</td>\n",
       "      <td id=\"T_b0a53_row0_col3\" class=\"data row0 col3\" >9,087</td>\n",
       "      <td id=\"T_b0a53_row0_col4\" class=\"data row0 col4\" >1,955</td>\n",
       "      <td id=\"T_b0a53_row0_col5\" class=\"data row0 col5\" >690</td>\n",
       "      <td id=\"T_b0a53_row0_col6\" class=\"data row0 col6\" >Bronx</td>\n",
       "    </tr>\n",
       "    <tr>\n",
       "      <th id=\"T_b0a53_level0_row1\" class=\"row_heading level0 row1\" >1</th>\n",
       "      <td id=\"T_b0a53_row1_col0\" class=\"data row1 col0\" >552,059</td>\n",
       "      <td id=\"T_b0a53_row1_col1\" class=\"data row1 col1\" >350,730</td>\n",
       "      <td id=\"T_b0a53_row1_col2\" class=\"data row1 col2\" >76,825</td>\n",
       "      <td id=\"T_b0a53_row1_col3\" class=\"data row1 col3\" >14,163</td>\n",
       "      <td id=\"T_b0a53_row1_col4\" class=\"data row1 col4\" >2,793</td>\n",
       "      <td id=\"T_b0a53_row1_col5\" class=\"data row1 col5\" >1,387</td>\n",
       "      <td id=\"T_b0a53_row1_col6\" class=\"data row1 col6\" >Brooklyn</td>\n",
       "    </tr>\n",
       "    <tr>\n",
       "      <th id=\"T_b0a53_level0_row2\" class=\"row_heading level0 row2\" >2</th>\n",
       "      <td id=\"T_b0a53_row2_col0\" class=\"data row2 col0\" >601,621</td>\n",
       "      <td id=\"T_b0a53_row2_col1\" class=\"data row2 col1\" >149,874</td>\n",
       "      <td id=\"T_b0a53_row2_col2\" class=\"data row2 col2\" >16,863</td>\n",
       "      <td id=\"T_b0a53_row2_col3\" class=\"data row2 col3\" >2,835</td>\n",
       "      <td id=\"T_b0a53_row2_col4\" class=\"data row2 col4\" >861</td>\n",
       "      <td id=\"T_b0a53_row2_col5\" class=\"data row2 col5\" >547</td>\n",
       "      <td id=\"T_b0a53_row2_col6\" class=\"data row2 col6\" >Manhattan</td>\n",
       "    </tr>\n",
       "    <tr>\n",
       "      <th id=\"T_b0a53_level0_row3\" class=\"row_heading level0 row3\" >3</th>\n",
       "      <td id=\"T_b0a53_row3_col0\" class=\"data row3 col0\" >300,112</td>\n",
       "      <td id=\"T_b0a53_row3_col1\" class=\"data row3 col1\" >329,920</td>\n",
       "      <td id=\"T_b0a53_row3_col2\" class=\"data row3 col2\" >139,665</td>\n",
       "      <td id=\"T_b0a53_row3_col3\" class=\"data row3 col3\" >35,824</td>\n",
       "      <td id=\"T_b0a53_row3_col4\" class=\"data row3 col4\" >8,600</td>\n",
       "      <td id=\"T_b0a53_row3_col5\" class=\"data row3 col5\" >2,738</td>\n",
       "      <td id=\"T_b0a53_row3_col6\" class=\"data row3 col6\" >Queens</td>\n",
       "    </tr>\n",
       "    <tr>\n",
       "      <th id=\"T_b0a53_level0_row4\" class=\"row_heading level0 row4\" >4</th>\n",
       "      <td id=\"T_b0a53_row4_col0\" class=\"data row4 col0\" >25,884</td>\n",
       "      <td id=\"T_b0a53_row4_col1\" class=\"data row4 col1\" >63,820</td>\n",
       "      <td id=\"T_b0a53_row4_col2\" class=\"data row4 col2\" >57,892</td>\n",
       "      <td id=\"T_b0a53_row4_col3\" class=\"data row4 col3\" >16,034</td>\n",
       "      <td id=\"T_b0a53_row4_col4\" class=\"data row4 col4\" >5,020</td>\n",
       "      <td id=\"T_b0a53_row4_col5\" class=\"data row4 col5\" >1,350</td>\n",
       "      <td id=\"T_b0a53_row4_col6\" class=\"data row4 col6\" >Staten Island</td>\n",
       "    </tr>\n",
       "  </tbody>\n",
       "</table>\n"
      ],
      "text/plain": [
       "<pandas.io.formats.style.Styler at 0x7d18c412c310>"
      ]
     },
     "execution_count": 11,
     "metadata": {},
     "output_type": "execute_result"
    }
   ],
   "source": [
    "# let's get the county fips for NYC\n",
    "nyc_counties = counties[(counties.STATEFP == us.states.NY.fips) & (counties.NAME.isin([\"Bronx\", \"Kings\", \"New York\", \"Queens\", \"Richmond\"]))]\n",
    "nyc_cars = df.merge(nyc_counties[[\"COUNTYFP\", \"NAME\"]], left_on=\"county\", right_on=\"COUNTYFP\", how=\"inner\")\n",
    "\n",
    "boros = {\"Bronx\": \"Bronx\", \"Kings\": \"Brooklyn\", \"New York\": \"Manhattan\",\n",
    "         \"Queens\": \"Queens\", \"Richmond\": \"Staten Island\"}\n",
    "\n",
    "nyc_cars[\"Borough\"] = nyc_cars.NAME.map(boros)\n",
    "\n",
    "nyc_cars[\"Zero\"] = nyc_cars.owner_no_vehicle + nyc_cars.renter_no_vehicle\n",
    "nyc_cars[\"One\"] = nyc_cars.owner_1_vehicle + nyc_cars.renter_1_vehicle\n",
    "nyc_cars[\"Two\"] = nyc_cars.owner_2_vehicles + nyc_cars.renter_2_vehicles\n",
    "nyc_cars[\"Three\"] = nyc_cars.owner_3_vehicles + nyc_cars.renter_3_vehicles\n",
    "nyc_cars[\"Four\"] = nyc_cars.owner_4_vehicles + nyc_cars.renter_4_vehicles\n",
    "nyc_cars[\"Five +\"] = nyc_cars.owner_5_or_more_vehicles + nyc_cars.renter_5_or_more_vehicles\n",
    "\n",
    "# we will use this to create formats and bars\n",
    "cols = [\"Zero\", \"One\", \"Two\", \"Three\", \"Four\", \"Five +\"]\n",
    "\n",
    "# select only the new columns for our table\n",
    "nyc_cars = nyc_cars[cols + [\"Borough\"]]\n",
    "\n",
    "# create an empty dictionary to hold our formats\n",
    "styles = {}\n",
    "\n",
    "# for each column, do 2 things:\n",
    "# - convert it to an integer\n",
    "# - create a format string for it and put it in the styles dict\n",
    "for c in cols:\n",
    "    nyc_cars[c] = nyc_cars[c].astype(int)\n",
    "    styles[c] = \"{:,}\"\n",
    "\n",
    "display(styles)\n",
    "\n",
    "table = nyc_cars.style.format(styles)\n",
    "table.set_caption(\"<h3>Car Ownership in NYC Boroughs</h3>\")"
   ]
  },
  {
   "cell_type": "code",
   "execution_count": null,
   "metadata": {},
   "outputs": [
    {
     "data": {
      "application/vnd.plotly.v1+json": {
       "config": {
        "plotlyServerURL": "https://plot.ly"
       },
       "data": [
        {
         "alignmentgroup": "True",
         "hovertemplate": "Vehicles Available=Zero<br>Borough=%{x}<br>No. Households=%{y}<extra></extra>",
         "legendgroup": "Zero",
         "marker": {
          "color": "#636efa",
          "pattern": {
           "shape": ""
          }
         },
         "name": "Zero",
         "offsetgroup": "Zero",
         "orientation": "v",
         "showlegend": true,
         "textposition": "auto",
         "type": "bar",
         "x": [
          "Bronx",
          "Brooklyn",
          "Manhattan",
          "Queens",
          "Staten Island"
         ],
         "xaxis": "x",
         "y": [
          316165,
          552059,
          601621,
          300112,
          25884
         ],
         "yaxis": "y"
        },
        {
         "alignmentgroup": "True",
         "hovertemplate": "Vehicles Available=One<br>Borough=%{x}<br>No. Households=%{y}<extra></extra>",
         "legendgroup": "One",
         "marker": {
          "color": "#EF553B",
          "pattern": {
           "shape": ""
          }
         },
         "name": "One",
         "offsetgroup": "One",
         "orientation": "v",
         "showlegend": true,
         "textposition": "auto",
         "type": "bar",
         "x": [
          "Bronx",
          "Brooklyn",
          "Manhattan",
          "Queens",
          "Staten Island"
         ],
         "xaxis": "x",
         "y": [
          154903,
          350730,
          149874,
          329920,
          63820
         ],
         "yaxis": "y"
        },
        {
         "alignmentgroup": "True",
         "hovertemplate": "Vehicles Available=Two<br>Borough=%{x}<br>No. Households=%{y}<extra></extra>",
         "legendgroup": "Two",
         "marker": {
          "color": "#00cc96",
          "pattern": {
           "shape": ""
          }
         },
         "name": "Two",
         "offsetgroup": "Two",
         "orientation": "v",
         "showlegend": true,
         "textposition": "auto",
         "type": "bar",
         "x": [
          "Bronx",
          "Brooklyn",
          "Manhattan",
          "Queens",
          "Staten Island"
         ],
         "xaxis": "x",
         "y": [
          42587,
          76825,
          16863,
          139665,
          57892
         ],
         "yaxis": "y"
        },
        {
         "alignmentgroup": "True",
         "hovertemplate": "Vehicles Available=Three<br>Borough=%{x}<br>No. Households=%{y}<extra></extra>",
         "legendgroup": "Three",
         "marker": {
          "color": "#ab63fa",
          "pattern": {
           "shape": ""
          }
         },
         "name": "Three",
         "offsetgroup": "Three",
         "orientation": "v",
         "showlegend": true,
         "textposition": "auto",
         "type": "bar",
         "x": [
          "Bronx",
          "Brooklyn",
          "Manhattan",
          "Queens",
          "Staten Island"
         ],
         "xaxis": "x",
         "y": [
          9087,
          14163,
          2835,
          35824,
          16034
         ],
         "yaxis": "y"
        },
        {
         "alignmentgroup": "True",
         "hovertemplate": "Vehicles Available=Four<br>Borough=%{x}<br>No. Households=%{y}<extra></extra>",
         "legendgroup": "Four",
         "marker": {
          "color": "#FFA15A",
          "pattern": {
           "shape": ""
          }
         },
         "name": "Four",
         "offsetgroup": "Four",
         "orientation": "v",
         "showlegend": true,
         "textposition": "auto",
         "type": "bar",
         "x": [
          "Bronx",
          "Brooklyn",
          "Manhattan",
          "Queens",
          "Staten Island"
         ],
         "xaxis": "x",
         "y": [
          1955,
          2793,
          861,
          8600,
          5020
         ],
         "yaxis": "y"
        },
        {
         "alignmentgroup": "True",
         "hovertemplate": "Vehicles Available=Five +<br>Borough=%{x}<br>No. Households=%{y}<extra></extra>",
         "legendgroup": "Five +",
         "marker": {
          "color": "#19d3f3",
          "pattern": {
           "shape": ""
          }
         },
         "name": "Five +",
         "offsetgroup": "Five +",
         "orientation": "v",
         "showlegend": true,
         "textposition": "auto",
         "type": "bar",
         "x": [
          "Bronx",
          "Brooklyn",
          "Manhattan",
          "Queens",
          "Staten Island"
         ],
         "xaxis": "x",
         "y": [
          690,
          1387,
          547,
          2738,
          1350
         ],
         "yaxis": "y"
        }
       ],
       "layout": {
        "barmode": "group",
        "legend": {
         "title": {
          "text": "Vehicles Available"
         },
         "tracegroupgap": 0
        },
        "template": {
         "data": {
          "bar": [
           {
            "error_x": {
             "color": "#2a3f5f"
            },
            "error_y": {
             "color": "#2a3f5f"
            },
            "marker": {
             "line": {
              "color": "#E5ECF6",
              "width": 0.5
             },
             "pattern": {
              "fillmode": "overlay",
              "size": 10,
              "solidity": 0.2
             }
            },
            "type": "bar"
           }
          ],
          "barpolar": [
           {
            "marker": {
             "line": {
              "color": "#E5ECF6",
              "width": 0.5
             },
             "pattern": {
              "fillmode": "overlay",
              "size": 10,
              "solidity": 0.2
             }
            },
            "type": "barpolar"
           }
          ],
          "carpet": [
           {
            "aaxis": {
             "endlinecolor": "#2a3f5f",
             "gridcolor": "white",
             "linecolor": "white",
             "minorgridcolor": "white",
             "startlinecolor": "#2a3f5f"
            },
            "baxis": {
             "endlinecolor": "#2a3f5f",
             "gridcolor": "white",
             "linecolor": "white",
             "minorgridcolor": "white",
             "startlinecolor": "#2a3f5f"
            },
            "type": "carpet"
           }
          ],
          "choropleth": [
           {
            "colorbar": {
             "outlinewidth": 0,
             "ticks": ""
            },
            "type": "choropleth"
           }
          ],
          "contour": [
           {
            "colorbar": {
             "outlinewidth": 0,
             "ticks": ""
            },
            "colorscale": [
             [
              0,
              "#0d0887"
             ],
             [
              0.1111111111111111,
              "#46039f"
             ],
             [
              0.2222222222222222,
              "#7201a8"
             ],
             [
              0.3333333333333333,
              "#9c179e"
             ],
             [
              0.4444444444444444,
              "#bd3786"
             ],
             [
              0.5555555555555556,
              "#d8576b"
             ],
             [
              0.6666666666666666,
              "#ed7953"
             ],
             [
              0.7777777777777778,
              "#fb9f3a"
             ],
             [
              0.8888888888888888,
              "#fdca26"
             ],
             [
              1,
              "#f0f921"
             ]
            ],
            "type": "contour"
           }
          ],
          "contourcarpet": [
           {
            "colorbar": {
             "outlinewidth": 0,
             "ticks": ""
            },
            "type": "contourcarpet"
           }
          ],
          "heatmap": [
           {
            "colorbar": {
             "outlinewidth": 0,
             "ticks": ""
            },
            "colorscale": [
             [
              0,
              "#0d0887"
             ],
             [
              0.1111111111111111,
              "#46039f"
             ],
             [
              0.2222222222222222,
              "#7201a8"
             ],
             [
              0.3333333333333333,
              "#9c179e"
             ],
             [
              0.4444444444444444,
              "#bd3786"
             ],
             [
              0.5555555555555556,
              "#d8576b"
             ],
             [
              0.6666666666666666,
              "#ed7953"
             ],
             [
              0.7777777777777778,
              "#fb9f3a"
             ],
             [
              0.8888888888888888,
              "#fdca26"
             ],
             [
              1,
              "#f0f921"
             ]
            ],
            "type": "heatmap"
           }
          ],
          "heatmapgl": [
           {
            "colorbar": {
             "outlinewidth": 0,
             "ticks": ""
            },
            "colorscale": [
             [
              0,
              "#0d0887"
             ],
             [
              0.1111111111111111,
              "#46039f"
             ],
             [
              0.2222222222222222,
              "#7201a8"
             ],
             [
              0.3333333333333333,
              "#9c179e"
             ],
             [
              0.4444444444444444,
              "#bd3786"
             ],
             [
              0.5555555555555556,
              "#d8576b"
             ],
             [
              0.6666666666666666,
              "#ed7953"
             ],
             [
              0.7777777777777778,
              "#fb9f3a"
             ],
             [
              0.8888888888888888,
              "#fdca26"
             ],
             [
              1,
              "#f0f921"
             ]
            ],
            "type": "heatmapgl"
           }
          ],
          "histogram": [
           {
            "marker": {
             "pattern": {
              "fillmode": "overlay",
              "size": 10,
              "solidity": 0.2
             }
            },
            "type": "histogram"
           }
          ],
          "histogram2d": [
           {
            "colorbar": {
             "outlinewidth": 0,
             "ticks": ""
            },
            "colorscale": [
             [
              0,
              "#0d0887"
             ],
             [
              0.1111111111111111,
              "#46039f"
             ],
             [
              0.2222222222222222,
              "#7201a8"
             ],
             [
              0.3333333333333333,
              "#9c179e"
             ],
             [
              0.4444444444444444,
              "#bd3786"
             ],
             [
              0.5555555555555556,
              "#d8576b"
             ],
             [
              0.6666666666666666,
              "#ed7953"
             ],
             [
              0.7777777777777778,
              "#fb9f3a"
             ],
             [
              0.8888888888888888,
              "#fdca26"
             ],
             [
              1,
              "#f0f921"
             ]
            ],
            "type": "histogram2d"
           }
          ],
          "histogram2dcontour": [
           {
            "colorbar": {
             "outlinewidth": 0,
             "ticks": ""
            },
            "colorscale": [
             [
              0,
              "#0d0887"
             ],
             [
              0.1111111111111111,
              "#46039f"
             ],
             [
              0.2222222222222222,
              "#7201a8"
             ],
             [
              0.3333333333333333,
              "#9c179e"
             ],
             [
              0.4444444444444444,
              "#bd3786"
             ],
             [
              0.5555555555555556,
              "#d8576b"
             ],
             [
              0.6666666666666666,
              "#ed7953"
             ],
             [
              0.7777777777777778,
              "#fb9f3a"
             ],
             [
              0.8888888888888888,
              "#fdca26"
             ],
             [
              1,
              "#f0f921"
             ]
            ],
            "type": "histogram2dcontour"
           }
          ],
          "mesh3d": [
           {
            "colorbar": {
             "outlinewidth": 0,
             "ticks": ""
            },
            "type": "mesh3d"
           }
          ],
          "parcoords": [
           {
            "line": {
             "colorbar": {
              "outlinewidth": 0,
              "ticks": ""
             }
            },
            "type": "parcoords"
           }
          ],
          "pie": [
           {
            "automargin": true,
            "type": "pie"
           }
          ],
          "scatter": [
           {
            "fillpattern": {
             "fillmode": "overlay",
             "size": 10,
             "solidity": 0.2
            },
            "type": "scatter"
           }
          ],
          "scatter3d": [
           {
            "line": {
             "colorbar": {
              "outlinewidth": 0,
              "ticks": ""
             }
            },
            "marker": {
             "colorbar": {
              "outlinewidth": 0,
              "ticks": ""
             }
            },
            "type": "scatter3d"
           }
          ],
          "scattercarpet": [
           {
            "marker": {
             "colorbar": {
              "outlinewidth": 0,
              "ticks": ""
             }
            },
            "type": "scattercarpet"
           }
          ],
          "scattergeo": [
           {
            "marker": {
             "colorbar": {
              "outlinewidth": 0,
              "ticks": ""
             }
            },
            "type": "scattergeo"
           }
          ],
          "scattergl": [
           {
            "marker": {
             "colorbar": {
              "outlinewidth": 0,
              "ticks": ""
             }
            },
            "type": "scattergl"
           }
          ],
          "scattermapbox": [
           {
            "marker": {
             "colorbar": {
              "outlinewidth": 0,
              "ticks": ""
             }
            },
            "type": "scattermapbox"
           }
          ],
          "scatterpolar": [
           {
            "marker": {
             "colorbar": {
              "outlinewidth": 0,
              "ticks": ""
             }
            },
            "type": "scatterpolar"
           }
          ],
          "scatterpolargl": [
           {
            "marker": {
             "colorbar": {
              "outlinewidth": 0,
              "ticks": ""
             }
            },
            "type": "scatterpolargl"
           }
          ],
          "scatterternary": [
           {
            "marker": {
             "colorbar": {
              "outlinewidth": 0,
              "ticks": ""
             }
            },
            "type": "scatterternary"
           }
          ],
          "surface": [
           {
            "colorbar": {
             "outlinewidth": 0,
             "ticks": ""
            },
            "colorscale": [
             [
              0,
              "#0d0887"
             ],
             [
              0.1111111111111111,
              "#46039f"
             ],
             [
              0.2222222222222222,
              "#7201a8"
             ],
             [
              0.3333333333333333,
              "#9c179e"
             ],
             [
              0.4444444444444444,
              "#bd3786"
             ],
             [
              0.5555555555555556,
              "#d8576b"
             ],
             [
              0.6666666666666666,
              "#ed7953"
             ],
             [
              0.7777777777777778,
              "#fb9f3a"
             ],
             [
              0.8888888888888888,
              "#fdca26"
             ],
             [
              1,
              "#f0f921"
             ]
            ],
            "type": "surface"
           }
          ],
          "table": [
           {
            "cells": {
             "fill": {
              "color": "#EBF0F8"
             },
             "line": {
              "color": "white"
             }
            },
            "header": {
             "fill": {
              "color": "#C8D4E3"
             },
             "line": {
              "color": "white"
             }
            },
            "type": "table"
           }
          ]
         },
         "layout": {
          "annotationdefaults": {
           "arrowcolor": "#2a3f5f",
           "arrowhead": 0,
           "arrowwidth": 1
          },
          "autotypenumbers": "strict",
          "coloraxis": {
           "colorbar": {
            "outlinewidth": 0,
            "ticks": ""
           }
          },
          "colorscale": {
           "diverging": [
            [
             0,
             "#8e0152"
            ],
            [
             0.1,
             "#c51b7d"
            ],
            [
             0.2,
             "#de77ae"
            ],
            [
             0.3,
             "#f1b6da"
            ],
            [
             0.4,
             "#fde0ef"
            ],
            [
             0.5,
             "#f7f7f7"
            ],
            [
             0.6,
             "#e6f5d0"
            ],
            [
             0.7,
             "#b8e186"
            ],
            [
             0.8,
             "#7fbc41"
            ],
            [
             0.9,
             "#4d9221"
            ],
            [
             1,
             "#276419"
            ]
           ],
           "sequential": [
            [
             0,
             "#0d0887"
            ],
            [
             0.1111111111111111,
             "#46039f"
            ],
            [
             0.2222222222222222,
             "#7201a8"
            ],
            [
             0.3333333333333333,
             "#9c179e"
            ],
            [
             0.4444444444444444,
             "#bd3786"
            ],
            [
             0.5555555555555556,
             "#d8576b"
            ],
            [
             0.6666666666666666,
             "#ed7953"
            ],
            [
             0.7777777777777778,
             "#fb9f3a"
            ],
            [
             0.8888888888888888,
             "#fdca26"
            ],
            [
             1,
             "#f0f921"
            ]
           ],
           "sequentialminus": [
            [
             0,
             "#0d0887"
            ],
            [
             0.1111111111111111,
             "#46039f"
            ],
            [
             0.2222222222222222,
             "#7201a8"
            ],
            [
             0.3333333333333333,
             "#9c179e"
            ],
            [
             0.4444444444444444,
             "#bd3786"
            ],
            [
             0.5555555555555556,
             "#d8576b"
            ],
            [
             0.6666666666666666,
             "#ed7953"
            ],
            [
             0.7777777777777778,
             "#fb9f3a"
            ],
            [
             0.8888888888888888,
             "#fdca26"
            ],
            [
             1,
             "#f0f921"
            ]
           ]
          },
          "colorway": [
           "#636efa",
           "#EF553B",
           "#00cc96",
           "#ab63fa",
           "#FFA15A",
           "#19d3f3",
           "#FF6692",
           "#B6E880",
           "#FF97FF",
           "#FECB52"
          ],
          "font": {
           "color": "#2a3f5f"
          },
          "geo": {
           "bgcolor": "white",
           "lakecolor": "white",
           "landcolor": "#E5ECF6",
           "showlakes": true,
           "showland": true,
           "subunitcolor": "white"
          },
          "hoverlabel": {
           "align": "left"
          },
          "hovermode": "closest",
          "mapbox": {
           "style": "light"
          },
          "paper_bgcolor": "white",
          "plot_bgcolor": "#E5ECF6",
          "polar": {
           "angularaxis": {
            "gridcolor": "white",
            "linecolor": "white",
            "ticks": ""
           },
           "bgcolor": "#E5ECF6",
           "radialaxis": {
            "gridcolor": "white",
            "linecolor": "white",
            "ticks": ""
           }
          },
          "scene": {
           "xaxis": {
            "backgroundcolor": "#E5ECF6",
            "gridcolor": "white",
            "gridwidth": 2,
            "linecolor": "white",
            "showbackground": true,
            "ticks": "",
            "zerolinecolor": "white"
           },
           "yaxis": {
            "backgroundcolor": "#E5ECF6",
            "gridcolor": "white",
            "gridwidth": 2,
            "linecolor": "white",
            "showbackground": true,
            "ticks": "",
            "zerolinecolor": "white"
           },
           "zaxis": {
            "backgroundcolor": "#E5ECF6",
            "gridcolor": "white",
            "gridwidth": 2,
            "linecolor": "white",
            "showbackground": true,
            "ticks": "",
            "zerolinecolor": "white"
           }
          },
          "shapedefaults": {
           "line": {
            "color": "#2a3f5f"
           }
          },
          "ternary": {
           "aaxis": {
            "gridcolor": "white",
            "linecolor": "white",
            "ticks": ""
           },
           "baxis": {
            "gridcolor": "white",
            "linecolor": "white",
            "ticks": ""
           },
           "bgcolor": "#E5ECF6",
           "caxis": {
            "gridcolor": "white",
            "linecolor": "white",
            "ticks": ""
           }
          },
          "title": {
           "x": 0.05
          },
          "xaxis": {
           "automargin": true,
           "gridcolor": "white",
           "linecolor": "white",
           "ticks": "",
           "title": {
            "standoff": 15
           },
           "zerolinecolor": "white",
           "zerolinewidth": 2
          },
          "yaxis": {
           "automargin": true,
           "gridcolor": "white",
           "linecolor": "white",
           "ticks": "",
           "title": {
            "standoff": 15
           },
           "zerolinecolor": "white",
           "zerolinewidth": 2
          }
         }
        },
        "title": {
         "text": "<b style='color: blue'>Number of Cars Owned by NYC Borough</b>"
        },
        "xaxis": {
         "anchor": "y",
         "domain": [
          0,
          1
         ],
         "title": {
          "text": "Borough"
         }
        },
        "yaxis": {
         "anchor": "x",
         "domain": [
          0,
          1
         ],
         "tickformat": ",",
         "title": {
          "text": "Number of Households"
         }
        }
       }
      }
     },
     "metadata": {},
     "output_type": "display_data"
    }
   ],
   "source": [
    "# put some HTML in the title\n",
    "chart_title = \"<b style='color: blue'>Number of Cars Owned by NYC Borough</b>\"\n",
    "\n",
    "fig = px.bar(nyc_cars, \n",
    "             x=\"Borough\",\n",
    "             y=cols,\n",
    "             labels={\"value\": \"No. Households\", \"variable\": \"Vehicles Available\"}, # for legend and hover\n",
    "             title=chart_title)\n",
    "\n",
    "fig.update_layout(\n",
    "    barmode='group',\n",
    "    yaxis_title=\"Number of Households\",\n",
    "    yaxis_tickformat=',' # use commas to separate thousands\n",
    ")\n",
    "fig"
   ]
  }
 ],
 "metadata": {
  "kernelspec": {
   "display_name": "cartopy",
   "language": "python",
   "name": "python3"
  },
  "language_info": {
   "codemirror_mode": {
    "name": "ipython",
    "version": 3
   },
   "file_extension": ".py",
   "mimetype": "text/x-python",
   "name": "python",
   "nbconvert_exporter": "python",
   "pygments_lexer": "ipython3",
   "version": "3.10.12"
  }
 },
 "nbformat": 4,
 "nbformat_minor": 2
}
