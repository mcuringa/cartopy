{
 "cells": [
  {
   "cell_type": "markdown",
   "metadata": {},
   "source": [
    "Lab 9: Tables & Charts\n",
    "======================\n",
    "In this Notebook, we look at some basic demographic\n",
    "information regarding school districts on Long Island, NY.\n"
   ]
  },
  {
   "cell_type": "code",
   "execution_count": 29,
   "metadata": {},
   "outputs": [],
   "source": [
    "# install this very alpha library directly from github\n",
    "# !pip install https://github.com/mcuringa/cartopy/raw/refs/heads/main/dist/maptools-latest.tar.gz -q\n",
    "\n",
    "!pip install plotly nbformat -q\n",
    "\n",
    "from maptools import census_vars\n",
    "import pandas as pd\n",
    "import plotly.express as px\n",
    "import us\n",
    "from census import Census\n",
    "\n",
    "# from google.colab import userdata\n",
    "# api_key = userdata.get('CENSUS_API_KEY')\n",
    "import os\n",
    "api_key = os.getenv('CENSUS_API_KEY')\n",
    "\n",
    "# creaate one census object we will reuse\n",
    "c = Census(api_key)\n"
   ]
  },
  {
   "cell_type": "code",
   "execution_count": 23,
   "metadata": {},
   "outputs": [
    {
     "data": {
      "text/html": [
       "<style type=\"text/css\">\n",
       "#T_4f184_row0_col1, #T_4f184_row1_col1, #T_4f184_row2_col1, #T_4f184_row3_col1, #T_4f184_row4_col1, #T_4f184_row5_col1, #T_4f184_row6_col1, #T_4f184_row7_col1, #T_4f184_row8_col1, #T_4f184_row9_col1, #T_4f184_row10_col1, #T_4f184_row11_col1, #T_4f184_row12_col1, #T_4f184_row13_col1, #T_4f184_row14_col1, #T_4f184_row15_col1, #T_4f184_row16_col1, #T_4f184_row17_col1, #T_4f184_row18_col1, #T_4f184_row19_col1 {\n",
       "  white-space: pre-wrap;\n",
       "  word-wrap: break-word;\n",
       "}\n",
       "</style>\n",
       "<table id=\"T_4f184\">\n",
       "  <thead>\n",
       "    <tr>\n",
       "      <th class=\"blank level0\" >&nbsp;</th>\n",
       "      <th id=\"T_4f184_level0_col0\" class=\"col_heading level0 col0\" >group</th>\n",
       "      <th id=\"T_4f184_level0_col1\" class=\"col_heading level0 col1\" >concept</th>\n",
       "      <th id=\"T_4f184_level0_col2\" class=\"col_heading level0 col2\" >match</th>\n",
       "    </tr>\n",
       "  </thead>\n",
       "  <tbody>\n",
       "    <tr>\n",
       "      <th id=\"T_4f184_level0_row0\" class=\"row_heading level0 row0\" >17175</th>\n",
       "      <td id=\"T_4f184_row0_col0\" class=\"data row0 col0\" >B25044</td>\n",
       "      <td id=\"T_4f184_row0_col1\" class=\"data row0 col1\" >Tenure By Vehicles Available</td>\n",
       "      <td id=\"T_4f184_row0_col2\" class=\"data row0 col2\" >62.03%</td>\n",
       "    </tr>\n",
       "    <tr>\n",
       "      <th id=\"T_4f184_level0_row1\" class=\"row_heading level0 row1\" >13618</th>\n",
       "      <td id=\"T_4f184_row1_col0\" class=\"data row1 col0\" >B08014</td>\n",
       "      <td id=\"T_4f184_row1_col1\" class=\"data row1 col1\" >Sex Of Workers By Vehicles Available</td>\n",
       "      <td id=\"T_4f184_row1_col2\" class=\"data row1 col2\" >56.19%</td>\n",
       "    </tr>\n",
       "    <tr>\n",
       "      <th id=\"T_4f184_level0_row2\" class=\"row_heading level0 row2\" >2270</th>\n",
       "      <td id=\"T_4f184_row2_col0\" class=\"data row2 col0\" >B99085</td>\n",
       "      <td id=\"T_4f184_row2_col1\" class=\"data row2 col1\" >Allocation Of Vehicles Available For Workers</td>\n",
       "      <td id=\"T_4f184_row2_col2\" class=\"data row2 col2\" >54.98%</td>\n",
       "    </tr>\n",
       "    <tr>\n",
       "      <th id=\"T_4f184_level0_row3\" class=\"row_heading level0 row3\" >991</th>\n",
       "      <td id=\"T_4f184_row3_col0\" class=\"data row3 col0\" >B08201</td>\n",
       "      <td id=\"T_4f184_row3_col1\" class=\"data row3 col1\" >Household Size By Vehicles Available</td>\n",
       "      <td id=\"T_4f184_row3_col2\" class=\"data row3 col2\" >53.72%</td>\n",
       "    </tr>\n",
       "    <tr>\n",
       "      <th id=\"T_4f184_level0_row4\" class=\"row_heading level0 row4\" >26842</th>\n",
       "      <td id=\"T_4f184_row4_col0\" class=\"data row4 col0\" >B25045</td>\n",
       "      <td id=\"T_4f184_row4_col1\" class=\"data row4 col1\" >Tenure By Vehicles Available By Age Of Householder</td>\n",
       "      <td id=\"T_4f184_row4_col2\" class=\"data row4 col2\" >51.14%</td>\n",
       "    </tr>\n",
       "    <tr>\n",
       "      <th id=\"T_4f184_level0_row5\" class=\"row_heading level0 row5\" >5997</th>\n",
       "      <td id=\"T_4f184_row5_col0\" class=\"data row5 col0\" >B25046</td>\n",
       "      <td id=\"T_4f184_row5_col1\" class=\"data row5 col1\" >Aggregate Number Of Vehicles Available By Tenure</td>\n",
       "      <td id=\"T_4f184_row5_col2\" class=\"data row5 col2\" >49.94%</td>\n",
       "    </tr>\n",
       "    <tr>\n",
       "      <th id=\"T_4f184_level0_row6\" class=\"row_heading level0 row6\" >23612</th>\n",
       "      <td id=\"T_4f184_row6_col0\" class=\"data row6 col0\" >B08141</td>\n",
       "      <td id=\"T_4f184_row6_col1\" class=\"data row6 col1\" >Means Of Transportation To Work By Vehicles Available</td>\n",
       "      <td id=\"T_4f184_row6_col2\" class=\"data row6 col2\" >49.20%</td>\n",
       "    </tr>\n",
       "    <tr>\n",
       "      <th id=\"T_4f184_level0_row7\" class=\"row_heading level0 row7\" >12269</th>\n",
       "      <td id=\"T_4f184_row7_col0\" class=\"data row7 col0\" >B08203</td>\n",
       "      <td id=\"T_4f184_row7_col1\" class=\"data row7 col1\" >Number Of Workers In Household By Vehicles Available</td>\n",
       "      <td id=\"T_4f184_row7_col2\" class=\"data row7 col2\" >49.04%</td>\n",
       "    </tr>\n",
       "    <tr>\n",
       "      <th id=\"T_4f184_level0_row8\" class=\"row_heading level0 row8\" >26945</th>\n",
       "      <td id=\"T_4f184_row8_col0\" class=\"data row8 col0\" >B99089</td>\n",
       "      <td id=\"T_4f184_row8_col1\" class=\"data row8 col1\" >Allocation Of Vehicles Available For Workers For Workplace Geography</td>\n",
       "      <td id=\"T_4f184_row8_col2\" class=\"data row8 col2\" >43.81%</td>\n",
       "    </tr>\n",
       "    <tr>\n",
       "      <th id=\"T_4f184_level0_row9\" class=\"row_heading level0 row9\" >4303</th>\n",
       "      <td id=\"T_4f184_row9_col0\" class=\"data row9 col0\" >B08541</td>\n",
       "      <td id=\"T_4f184_row9_col1\" class=\"data row9 col1\" >Means Of Transportation To Work By Vehicles Available For Workplace Geography</td>\n",
       "      <td id=\"T_4f184_row9_col2\" class=\"data row9 col2\" >41.82%</td>\n",
       "    </tr>\n",
       "    <tr>\n",
       "      <th id=\"T_4f184_level0_row10\" class=\"row_heading level0 row10\" >27193</th>\n",
       "      <td id=\"T_4f184_row10_col0\" class=\"data row10 col0\" >B08015</td>\n",
       "      <td id=\"T_4f184_row10_col1\" class=\"data row10 col1\" >Aggregate Number Of Vehicles (Car, Truck, Or Van) Used In Commuting By Workers 16 Years And Over By Sex</td>\n",
       "      <td id=\"T_4f184_row10_col2\" class=\"data row10 col2\" >25.94%</td>\n",
       "    </tr>\n",
       "    <tr>\n",
       "      <th id=\"T_4f184_level0_row11\" class=\"row_heading level0 row11\" >19140</th>\n",
       "      <td id=\"T_4f184_row11_col0\" class=\"data row11 col0\" >B25103</td>\n",
       "      <td id=\"T_4f184_row11_col1\" class=\"data row11 col1\" >Mortgage Status By Median Real Estate Taxes Paid (Dollars)</td>\n",
       "      <td id=\"T_4f184_row11_col2\" class=\"data row11 col2\" >0.00%</td>\n",
       "    </tr>\n",
       "    <tr>\n",
       "      <th id=\"T_4f184_level0_row12\" class=\"row_heading level0 row12\" >9921</th>\n",
       "      <td id=\"T_4f184_row12_col0\" class=\"data row12 col0\" >B25102</td>\n",
       "      <td id=\"T_4f184_row12_col1\" class=\"data row12 col1\" >Mortgage Status By Real Estate Taxes Paid</td>\n",
       "      <td id=\"T_4f184_row12_col2\" class=\"data row12 col2\" >0.00%</td>\n",
       "    </tr>\n",
       "    <tr>\n",
       "      <th id=\"T_4f184_level0_row13\" class=\"row_heading level0 row13\" >1697</th>\n",
       "      <td id=\"T_4f184_row13_col0\" class=\"data row13 col0\" >B25089</td>\n",
       "      <td id=\"T_4f184_row13_col1\" class=\"data row13 col1\" >Aggregate Selected Monthly Owner Costs (Dollars) By Mortgage Status</td>\n",
       "      <td id=\"T_4f184_row13_col2\" class=\"data row13 col2\" >0.00%</td>\n",
       "    </tr>\n",
       "    <tr>\n",
       "      <th id=\"T_4f184_level0_row14\" class=\"row_heading level0 row14\" >19352</th>\n",
       "      <td id=\"T_4f184_row14_col0\" class=\"data row14 col0\" >B25090</td>\n",
       "      <td id=\"T_4f184_row14_col1\" class=\"data row14 col1\" >Mortgage Status By Aggregate Real Estate Taxes Paid (Dollars)</td>\n",
       "      <td id=\"T_4f184_row14_col2\" class=\"data row14 col2\" >0.00%</td>\n",
       "    </tr>\n",
       "    <tr>\n",
       "      <th id=\"T_4f184_level0_row15\" class=\"row_heading level0 row15\" >2504</th>\n",
       "      <td id=\"T_4f184_row15_col0\" class=\"data row15 col0\" >B25101</td>\n",
       "      <td id=\"T_4f184_row15_col1\" class=\"data row15 col1\" >Mortgage Status By Monthly Housing Costs As A Percentage Of Household Income In The Past 12 Months</td>\n",
       "      <td id=\"T_4f184_row15_col2\" class=\"data row15 col2\" >0.00%</td>\n",
       "    </tr>\n",
       "    <tr>\n",
       "      <th id=\"T_4f184_level0_row16\" class=\"row_heading level0 row16\" >21560</th>\n",
       "      <td id=\"T_4f184_row16_col0\" class=\"data row16 col0\" >B25091</td>\n",
       "      <td id=\"T_4f184_row16_col1\" class=\"data row16 col1\" >Mortgage Status By Selected Monthly Owner Costs As A Percentage Of Household Income In The Past 12 Months</td>\n",
       "      <td id=\"T_4f184_row16_col2\" class=\"data row16 col2\" >0.00%</td>\n",
       "    </tr>\n",
       "    <tr>\n",
       "      <th id=\"T_4f184_level0_row17\" class=\"row_heading level0 row17\" >1944</th>\n",
       "      <td id=\"T_4f184_row17_col0\" class=\"data row17 col0\" >B25092</td>\n",
       "      <td id=\"T_4f184_row17_col1\" class=\"data row17 col1\" >Median Selected Monthly Owner Costs As A Percentage Of Household Income In The Past 12 Months</td>\n",
       "      <td id=\"T_4f184_row17_col2\" class=\"data row17 col2\" >0.00%</td>\n",
       "    </tr>\n",
       "    <tr>\n",
       "      <th id=\"T_4f184_level0_row18\" class=\"row_heading level0 row18\" >8564</th>\n",
       "      <td id=\"T_4f184_row18_col0\" class=\"data row18 col0\" >B25093</td>\n",
       "      <td id=\"T_4f184_row18_col1\" class=\"data row18 col1\" >Age Of Householder By Selected Monthly Owner Costs As A Percentage Of Household Income In The Past 12 Months</td>\n",
       "      <td id=\"T_4f184_row18_col2\" class=\"data row18 col2\" >0.00%</td>\n",
       "    </tr>\n",
       "    <tr>\n",
       "      <th id=\"T_4f184_level0_row19\" class=\"row_heading level0 row19\" >16210</th>\n",
       "      <td id=\"T_4f184_row19_col0\" class=\"data row19 col0\" >B25094</td>\n",
       "      <td id=\"T_4f184_row19_col1\" class=\"data row19 col1\" >Selected Monthly Owner Costs</td>\n",
       "      <td id=\"T_4f184_row19_col2\" class=\"data row19 col2\" >0.00%</td>\n",
       "    </tr>\n",
       "  </tbody>\n",
       "</table>\n"
      ],
      "text/plain": [
       "<pandas.io.formats.style.Styler at 0x7568d43d2110>"
      ]
     },
     "execution_count": 23,
     "metadata": {},
     "output_type": "execute_result"
    }
   ],
   "source": [
    "census_vars.search(\"vehicles\")"
   ]
  },
  {
   "cell_type": "markdown",
   "metadata": {},
   "source": [
    "Tenure by Vehicle\n",
    "=================\n",
    "We're going to use table \"B25044\" _Tenure by Vehicle_ as\n",
    "the data set for the examples in this lab. This table,\n",
    "briefly, tells us how many cars a household owns, broken\n",
    "down by renter/home owner status.\n",
    "\n",
    "In this analysis, we will look at census tracts in New York City.\n",
    "To get those tracts, we will look up the counties, first, to get\n",
    "their fips codes, then query the census API for the tracts in\n",
    "those counties.\n",
    "\n"
   ]
  },
  {
   "cell_type": "code",
   "execution_count": 33,
   "metadata": {},
   "outputs": [
    {
     "data": {
      "text/plain": [
       "{'B25044_001E': 'total',\n",
       " 'B25044_002E': 'owner_occupied',\n",
       " 'B25044_003E': 'owner_occupied_no_vehicle_available',\n",
       " 'B25044_004E': 'owner_occupied_1_vehicle_available',\n",
       " 'B25044_005E': 'owner_occupied_2_vehicles_available',\n",
       " 'B25044_006E': 'owner_occupied_3_vehicles_available',\n",
       " 'B25044_007E': 'owner_occupied_4_vehicles_available',\n",
       " 'B25044_008E': 'owner_occupied_5_or_more_vehicles_available',\n",
       " 'B25044_009E': 'renter_occupied',\n",
       " 'B25044_010E': 'renter_occupied_no_vehicle_available',\n",
       " 'B25044_011E': 'renter_occupied_1_vehicle_available',\n",
       " 'B25044_012E': 'renter_occupied_2_vehicles_available',\n",
       " 'B25044_013E': 'renter_occupied_3_vehicles_available',\n",
       " 'B25044_014E': 'renter_occupied_4_vehicles_available',\n",
       " 'B25044_015E': 'renter_occupied_5_or_more_vehicles_available'}"
      ]
     },
     "metadata": {},
     "output_type": "display_data"
    }
   ],
   "source": [
    "field_names = census_vars.get_table(\"B25044\")\n",
    "display(field_names)\n",
    "field_names = {\n",
    "    'B25044_001E': 'total_households',\n",
    "    'B25044_002E': 'owner_occupied',\n",
    "    'B25044_009E': 'renter_occupied',\n",
    "    'B25044_003E': 'owner_no_vehicle',\n",
    "    'B25044_004E': 'owner_1_vehicle',\n",
    "    'B25044_005E': 'owner_2_vehicles',\n",
    "    'B25044_006E': 'owner_3_vehicles',\n",
    "    'B25044_007E': 'owner_4_vehicles',\n",
    "    'B25044_008E': 'owner_5_or_more_vehicles',\n",
    "    'B25044_010E': 'renter_no_vehicle',\n",
    "    'B25044_011E': 'renter_1_vehicle',\n",
    "    'B25044_012E': 'renter_2_vehicles',\n",
    "    'B25044_013E': 'renter_3_vehicles',\n",
    "    'B25044_014E': 'renter_4_vehicles',\n",
    "    'B25044_015E': 'renter_5_or_more_vehicles'\n",
    "}"
   ]
  },
  {
   "cell_type": "code",
   "execution_count": 34,
   "metadata": {},
   "outputs": [
    {
     "data": {
      "text/html": [
       "<div>\n",
       "<style scoped>\n",
       "    .dataframe tbody tr th:only-of-type {\n",
       "        vertical-align: middle;\n",
       "    }\n",
       "\n",
       "    .dataframe tbody tr th {\n",
       "        vertical-align: top;\n",
       "    }\n",
       "\n",
       "    .dataframe thead th {\n",
       "        text-align: right;\n",
       "    }\n",
       "</style>\n",
       "<table border=\"1\" class=\"dataframe\">\n",
       "  <thead>\n",
       "    <tr style=\"text-align: right;\">\n",
       "      <th></th>\n",
       "      <th>total_households</th>\n",
       "      <th>owner_occupied</th>\n",
       "      <th>renter_occupied</th>\n",
       "      <th>owner_no_vehicle</th>\n",
       "      <th>owner_1_vehicle</th>\n",
       "      <th>owner_2_vehicles</th>\n",
       "      <th>owner_3_vehicles</th>\n",
       "      <th>owner_4_vehicles</th>\n",
       "      <th>owner_5_or_more_vehicles</th>\n",
       "      <th>renter_no_vehicle</th>\n",
       "      <th>renter_1_vehicle</th>\n",
       "      <th>renter_2_vehicles</th>\n",
       "      <th>renter_3_vehicles</th>\n",
       "      <th>renter_4_vehicles</th>\n",
       "      <th>renter_5_or_more_vehicles</th>\n",
       "      <th>state</th>\n",
       "      <th>county</th>\n",
       "      <th>statefp</th>\n",
       "    </tr>\n",
       "  </thead>\n",
       "  <tbody>\n",
       "    <tr>\n",
       "      <th>0</th>\n",
       "      <td>132175.0</td>\n",
       "      <td>74707.0</td>\n",
       "      <td>57468.0</td>\n",
       "      <td>2656.0</td>\n",
       "      <td>22386.0</td>\n",
       "      <td>34782.0</td>\n",
       "      <td>10655.0</td>\n",
       "      <td>3132.0</td>\n",
       "      <td>1096.0</td>\n",
       "      <td>13821.0</td>\n",
       "      <td>28432.0</td>\n",
       "      <td>12509.0</td>\n",
       "      <td>2113.0</td>\n",
       "      <td>459.0</td>\n",
       "      <td>134.0</td>\n",
       "      <td>NY</td>\n",
       "      <td>001</td>\n",
       "      <td>36</td>\n",
       "    </tr>\n",
       "    <tr>\n",
       "      <th>1</th>\n",
       "      <td>16813.0</td>\n",
       "      <td>13584.0</td>\n",
       "      <td>3229.0</td>\n",
       "      <td>605.0</td>\n",
       "      <td>4275.0</td>\n",
       "      <td>5956.0</td>\n",
       "      <td>1929.0</td>\n",
       "      <td>517.0</td>\n",
       "      <td>302.0</td>\n",
       "      <td>620.0</td>\n",
       "      <td>1439.0</td>\n",
       "      <td>917.0</td>\n",
       "      <td>232.0</td>\n",
       "      <td>19.0</td>\n",
       "      <td>2.0</td>\n",
       "      <td>NY</td>\n",
       "      <td>003</td>\n",
       "      <td>36</td>\n",
       "    </tr>\n",
       "    <tr>\n",
       "      <th>2</th>\n",
       "      <td>525387.0</td>\n",
       "      <td>104887.0</td>\n",
       "      <td>420500.0</td>\n",
       "      <td>25658.0</td>\n",
       "      <td>46873.0</td>\n",
       "      <td>23467.0</td>\n",
       "      <td>6870.0</td>\n",
       "      <td>1498.0</td>\n",
       "      <td>521.0</td>\n",
       "      <td>290507.0</td>\n",
       "      <td>108030.0</td>\n",
       "      <td>19120.0</td>\n",
       "      <td>2217.0</td>\n",
       "      <td>457.0</td>\n",
       "      <td>169.0</td>\n",
       "      <td>NY</td>\n",
       "      <td>005</td>\n",
       "      <td>36</td>\n",
       "    </tr>\n",
       "    <tr>\n",
       "      <th>3</th>\n",
       "      <td>81339.0</td>\n",
       "      <td>52748.0</td>\n",
       "      <td>28591.0</td>\n",
       "      <td>2205.0</td>\n",
       "      <td>17227.0</td>\n",
       "      <td>22700.0</td>\n",
       "      <td>7460.0</td>\n",
       "      <td>2441.0</td>\n",
       "      <td>715.0</td>\n",
       "      <td>7999.0</td>\n",
       "      <td>13802.0</td>\n",
       "      <td>5086.0</td>\n",
       "      <td>1022.0</td>\n",
       "      <td>365.0</td>\n",
       "      <td>317.0</td>\n",
       "      <td>NY</td>\n",
       "      <td>007</td>\n",
       "      <td>36</td>\n",
       "    </tr>\n",
       "    <tr>\n",
       "      <th>4</th>\n",
       "      <td>31491.0</td>\n",
       "      <td>23220.0</td>\n",
       "      <td>8271.0</td>\n",
       "      <td>1240.0</td>\n",
       "      <td>7111.0</td>\n",
       "      <td>9961.0</td>\n",
       "      <td>3594.0</td>\n",
       "      <td>987.0</td>\n",
       "      <td>327.0</td>\n",
       "      <td>2049.0</td>\n",
       "      <td>3913.0</td>\n",
       "      <td>1939.0</td>\n",
       "      <td>231.0</td>\n",
       "      <td>63.0</td>\n",
       "      <td>76.0</td>\n",
       "      <td>NY</td>\n",
       "      <td>009</td>\n",
       "      <td>36</td>\n",
       "    </tr>\n",
       "    <tr>\n",
       "      <th>5</th>\n",
       "      <td>30910.0</td>\n",
       "      <td>21643.0</td>\n",
       "      <td>9267.0</td>\n",
       "      <td>781.0</td>\n",
       "      <td>6290.0</td>\n",
       "      <td>9816.0</td>\n",
       "      <td>3184.0</td>\n",
       "      <td>1117.0</td>\n",
       "      <td>455.0</td>\n",
       "      <td>2311.0</td>\n",
       "      <td>4727.0</td>\n",
       "      <td>1774.0</td>\n",
       "      <td>281.0</td>\n",
       "      <td>82.0</td>\n",
       "      <td>92.0</td>\n",
       "      <td>NY</td>\n",
       "      <td>011</td>\n",
       "      <td>36</td>\n",
       "    </tr>\n",
       "    <tr>\n",
       "      <th>6</th>\n",
       "      <td>53405.0</td>\n",
       "      <td>36891.0</td>\n",
       "      <td>16514.0</td>\n",
       "      <td>1727.0</td>\n",
       "      <td>11617.0</td>\n",
       "      <td>15672.0</td>\n",
       "      <td>5826.0</td>\n",
       "      <td>1321.0</td>\n",
       "      <td>728.0</td>\n",
       "      <td>4575.0</td>\n",
       "      <td>8121.0</td>\n",
       "      <td>3271.0</td>\n",
       "      <td>453.0</td>\n",
       "      <td>57.0</td>\n",
       "      <td>37.0</td>\n",
       "      <td>NY</td>\n",
       "      <td>013</td>\n",
       "      <td>36</td>\n",
       "    </tr>\n",
       "    <tr>\n",
       "      <th>7</th>\n",
       "      <td>34779.0</td>\n",
       "      <td>23801.0</td>\n",
       "      <td>10978.0</td>\n",
       "      <td>808.0</td>\n",
       "      <td>7617.0</td>\n",
       "      <td>10423.0</td>\n",
       "      <td>3593.0</td>\n",
       "      <td>1019.0</td>\n",
       "      <td>341.0</td>\n",
       "      <td>2730.0</td>\n",
       "      <td>5356.0</td>\n",
       "      <td>2324.0</td>\n",
       "      <td>501.0</td>\n",
       "      <td>52.0</td>\n",
       "      <td>15.0</td>\n",
       "      <td>NY</td>\n",
       "      <td>015</td>\n",
       "      <td>36</td>\n",
       "    </tr>\n",
       "    <tr>\n",
       "      <th>8</th>\n",
       "      <td>19886.0</td>\n",
       "      <td>15170.0</td>\n",
       "      <td>4716.0</td>\n",
       "      <td>534.0</td>\n",
       "      <td>4164.0</td>\n",
       "      <td>6793.0</td>\n",
       "      <td>2373.0</td>\n",
       "      <td>947.0</td>\n",
       "      <td>359.0</td>\n",
       "      <td>1130.0</td>\n",
       "      <td>2219.0</td>\n",
       "      <td>1108.0</td>\n",
       "      <td>235.0</td>\n",
       "      <td>18.0</td>\n",
       "      <td>6.0</td>\n",
       "      <td>NY</td>\n",
       "      <td>017</td>\n",
       "      <td>36</td>\n",
       "    </tr>\n",
       "    <tr>\n",
       "      <th>9</th>\n",
       "      <td>32651.0</td>\n",
       "      <td>22542.0</td>\n",
       "      <td>10109.0</td>\n",
       "      <td>808.0</td>\n",
       "      <td>6284.0</td>\n",
       "      <td>10277.0</td>\n",
       "      <td>3779.0</td>\n",
       "      <td>967.0</td>\n",
       "      <td>427.0</td>\n",
       "      <td>2286.0</td>\n",
       "      <td>4558.0</td>\n",
       "      <td>2728.0</td>\n",
       "      <td>351.0</td>\n",
       "      <td>167.0</td>\n",
       "      <td>19.0</td>\n",
       "      <td>NY</td>\n",
       "      <td>019</td>\n",
       "      <td>36</td>\n",
       "    </tr>\n",
       "  </tbody>\n",
       "</table>\n",
       "</div>"
      ],
      "text/plain": [
       "   total_households  owner_occupied  renter_occupied  owner_no_vehicle  \\\n",
       "0          132175.0         74707.0          57468.0            2656.0   \n",
       "1           16813.0         13584.0           3229.0             605.0   \n",
       "2          525387.0        104887.0         420500.0           25658.0   \n",
       "3           81339.0         52748.0          28591.0            2205.0   \n",
       "4           31491.0         23220.0           8271.0            1240.0   \n",
       "5           30910.0         21643.0           9267.0             781.0   \n",
       "6           53405.0         36891.0          16514.0            1727.0   \n",
       "7           34779.0         23801.0          10978.0             808.0   \n",
       "8           19886.0         15170.0           4716.0             534.0   \n",
       "9           32651.0         22542.0          10109.0             808.0   \n",
       "\n",
       "   owner_1_vehicle  owner_2_vehicles  owner_3_vehicles  owner_4_vehicles  \\\n",
       "0          22386.0           34782.0           10655.0            3132.0   \n",
       "1           4275.0            5956.0            1929.0             517.0   \n",
       "2          46873.0           23467.0            6870.0            1498.0   \n",
       "3          17227.0           22700.0            7460.0            2441.0   \n",
       "4           7111.0            9961.0            3594.0             987.0   \n",
       "5           6290.0            9816.0            3184.0            1117.0   \n",
       "6          11617.0           15672.0            5826.0            1321.0   \n",
       "7           7617.0           10423.0            3593.0            1019.0   \n",
       "8           4164.0            6793.0            2373.0             947.0   \n",
       "9           6284.0           10277.0            3779.0             967.0   \n",
       "\n",
       "   owner_5_or_more_vehicles  renter_no_vehicle  renter_1_vehicle  \\\n",
       "0                    1096.0            13821.0           28432.0   \n",
       "1                     302.0              620.0            1439.0   \n",
       "2                     521.0           290507.0          108030.0   \n",
       "3                     715.0             7999.0           13802.0   \n",
       "4                     327.0             2049.0            3913.0   \n",
       "5                     455.0             2311.0            4727.0   \n",
       "6                     728.0             4575.0            8121.0   \n",
       "7                     341.0             2730.0            5356.0   \n",
       "8                     359.0             1130.0            2219.0   \n",
       "9                     427.0             2286.0            4558.0   \n",
       "\n",
       "   renter_2_vehicles  renter_3_vehicles  renter_4_vehicles  \\\n",
       "0            12509.0             2113.0              459.0   \n",
       "1              917.0              232.0               19.0   \n",
       "2            19120.0             2217.0              457.0   \n",
       "3             5086.0             1022.0              365.0   \n",
       "4             1939.0              231.0               63.0   \n",
       "5             1774.0              281.0               82.0   \n",
       "6             3271.0              453.0               57.0   \n",
       "7             2324.0              501.0               52.0   \n",
       "8             1108.0              235.0               18.0   \n",
       "9             2728.0              351.0              167.0   \n",
       "\n",
       "   renter_5_or_more_vehicles state county statefp  \n",
       "0                      134.0    NY    001      36  \n",
       "1                        2.0    NY    003      36  \n",
       "2                      169.0    NY    005      36  \n",
       "3                      317.0    NY    007      36  \n",
       "4                       76.0    NY    009      36  \n",
       "5                       92.0    NY    011      36  \n",
       "6                       37.0    NY    013      36  \n",
       "7                       15.0    NY    015      36  \n",
       "8                        6.0    NY    017      36  \n",
       "9                       19.0    NY    019      36  "
      ]
     },
     "execution_count": 34,
     "metadata": {},
     "output_type": "execute_result"
    }
   ],
   "source": [
    "\n",
    "fields = list(field_names.keys())\n",
    "\n",
    "data = c.acs5.get(fields=fields, geo={ 'for': 'county:*', 'in': f'state:{us.states.NY.fips}'}, year=2022)\n",
    "\n",
    "df = pd.DataFrame(data)\n",
    "df.rename(columns=field_names, inplace=True)\n",
    "df[\"statefp\"] = df[\"state\"]\n",
    "df[\"state\"] = df.statefp.apply(census_vars.lookup_state)\n",
    "df.head(10)"
   ]
  },
  {
   "cell_type": "markdown",
   "metadata": {},
   "source": [
    "Selecting Columns and Sorting Data\n",
    "----------------------------------\n",
    "Sometimes we don't want to display all of the columns, or we want to change the order of the columns.\n",
    "The code below shows how to select a subset of columns from the data.\n",
    "\n",
    "We can also sort the data by one or more columns. Below there are a couple\n",
    "of examples of how to sort a `DataFrame` by one or more columns\n",
    "using the `sort_values()` method."
   ]
  },
  {
   "cell_type": "code",
   "execution_count": 4,
   "metadata": {},
   "outputs": [
    {
     "data": {
      "text/html": [
       "<div>\n",
       "<style scoped>\n",
       "    .dataframe tbody tr th:only-of-type {\n",
       "        vertical-align: middle;\n",
       "    }\n",
       "\n",
       "    .dataframe tbody tr th {\n",
       "        vertical-align: top;\n",
       "    }\n",
       "\n",
       "    .dataframe thead th {\n",
       "        text-align: right;\n",
       "    }\n",
       "</style>\n",
       "<table border=\"1\" class=\"dataframe\">\n",
       "  <thead>\n",
       "    <tr style=\"text-align: right;\">\n",
       "      <th></th>\n",
       "      <th>District</th>\n",
       "      <th>Total Students</th>\n",
       "    </tr>\n",
       "  </thead>\n",
       "  <tbody>\n",
       "    <tr>\n",
       "      <th>0</th>\n",
       "      <td>Academy Charter School-Uniondale</td>\n",
       "      <td>1272</td>\n",
       "    </tr>\n",
       "    <tr>\n",
       "      <th>1</th>\n",
       "      <td>Amagansett</td>\n",
       "      <td>125</td>\n",
       "    </tr>\n",
       "    <tr>\n",
       "      <th>2</th>\n",
       "      <td>Amityville</td>\n",
       "      <td>2951</td>\n",
       "    </tr>\n",
       "    <tr>\n",
       "      <th>3</th>\n",
       "      <td>Babylon</td>\n",
       "      <td>1558</td>\n",
       "    </tr>\n",
       "    <tr>\n",
       "      <th>4</th>\n",
       "      <td>Baldwin</td>\n",
       "      <td>4476</td>\n",
       "    </tr>\n",
       "    <tr>\n",
       "      <th>...</th>\n",
       "      <td>...</td>\n",
       "      <td>...</td>\n",
       "    </tr>\n",
       "    <tr>\n",
       "      <th>121</th>\n",
       "      <td>West Islip</td>\n",
       "      <td>3913</td>\n",
       "    </tr>\n",
       "    <tr>\n",
       "      <th>122</th>\n",
       "      <td>Westbury</td>\n",
       "      <td>4768</td>\n",
       "    </tr>\n",
       "    <tr>\n",
       "      <th>123</th>\n",
       "      <td>Westhampton Beach</td>\n",
       "      <td>1767</td>\n",
       "    </tr>\n",
       "    <tr>\n",
       "      <th>124</th>\n",
       "      <td>William Floyd</td>\n",
       "      <td>9166</td>\n",
       "    </tr>\n",
       "    <tr>\n",
       "      <th>125</th>\n",
       "      <td>Wyandanch</td>\n",
       "      <td>2743</td>\n",
       "    </tr>\n",
       "  </tbody>\n",
       "</table>\n",
       "<p>121 rows × 2 columns</p>\n",
       "</div>"
      ],
      "text/plain": [
       "                             District  Total Students\n",
       "0    Academy Charter School-Uniondale            1272\n",
       "1                          Amagansett             125\n",
       "2                          Amityville            2951\n",
       "3                             Babylon            1558\n",
       "4                             Baldwin            4476\n",
       "..                                ...             ...\n",
       "121                        West Islip            3913\n",
       "122                          Westbury            4768\n",
       "123                 Westhampton Beach            1767\n",
       "124                     William Floyd            9166\n",
       "125                         Wyandanch            2743\n",
       "\n",
       "[121 rows x 2 columns]"
      ]
     },
     "metadata": {},
     "output_type": "display_data"
    },
    {
     "name": "stdout",
     "output_type": "stream",
     "text": [
      "Now sorting by Total Students:\n"
     ]
    },
    {
     "data": {
      "text/html": [
       "<div>\n",
       "<style scoped>\n",
       "    .dataframe tbody tr th:only-of-type {\n",
       "        vertical-align: middle;\n",
       "    }\n",
       "\n",
       "    .dataframe tbody tr th {\n",
       "        vertical-align: top;\n",
       "    }\n",
       "\n",
       "    .dataframe thead th {\n",
       "        text-align: right;\n",
       "    }\n",
       "</style>\n",
       "<table border=\"1\" class=\"dataframe\">\n",
       "  <thead>\n",
       "    <tr style=\"text-align: right;\">\n",
       "      <th></th>\n",
       "      <th>District</th>\n",
       "      <th>Total Students</th>\n",
       "    </tr>\n",
       "  </thead>\n",
       "  <tbody>\n",
       "    <tr>\n",
       "      <th>11</th>\n",
       "      <td>Brentwood</td>\n",
       "      <td>18323</td>\n",
       "    </tr>\n",
       "    <tr>\n",
       "      <th>96</th>\n",
       "      <td>Sachem Central</td>\n",
       "      <td>11844</td>\n",
       "    </tr>\n",
       "    <tr>\n",
       "      <th>69</th>\n",
       "      <td>Middle Country Central</td>\n",
       "      <td>9507</td>\n",
       "    </tr>\n",
       "    <tr>\n",
       "      <th>124</th>\n",
       "      <td>William Floyd</td>\n",
       "      <td>9166</td>\n",
       "    </tr>\n",
       "    <tr>\n",
       "      <th>63</th>\n",
       "      <td>Longwood Central</td>\n",
       "      <td>8876</td>\n",
       "    </tr>\n",
       "    <tr>\n",
       "      <th>...</th>\n",
       "      <td>...</td>\n",
       "      <td>...</td>\n",
       "    </tr>\n",
       "    <tr>\n",
       "      <th>37</th>\n",
       "      <td>Fishers Island</td>\n",
       "      <td>57</td>\n",
       "    </tr>\n",
       "    <tr>\n",
       "      <th>35</th>\n",
       "      <td>Fire Island</td>\n",
       "      <td>34</td>\n",
       "    </tr>\n",
       "    <tr>\n",
       "      <th>117</th>\n",
       "      <td>Wainscott Common</td>\n",
       "      <td>26</td>\n",
       "    </tr>\n",
       "    <tr>\n",
       "      <th>75</th>\n",
       "      <td>New Suffolk Common</td>\n",
       "      <td>7</td>\n",
       "    </tr>\n",
       "    <tr>\n",
       "      <th>98</th>\n",
       "      <td>Sagaponack Common</td>\n",
       "      <td>5</td>\n",
       "    </tr>\n",
       "  </tbody>\n",
       "</table>\n",
       "<p>121 rows × 2 columns</p>\n",
       "</div>"
      ],
      "text/plain": [
       "                   District  Total Students\n",
       "11                Brentwood           18323\n",
       "96           Sachem Central           11844\n",
       "69   Middle Country Central            9507\n",
       "124           William Floyd            9166\n",
       "63         Longwood Central            8876\n",
       "..                      ...             ...\n",
       "37           Fishers Island              57\n",
       "35              Fire Island              34\n",
       "117        Wainscott Common              26\n",
       "75       New Suffolk Common               7\n",
       "98        Sagaponack Common               5\n",
       "\n",
       "[121 rows x 2 columns]"
      ]
     },
     "metadata": {},
     "output_type": "display_data"
    },
    {
     "data": {
      "text/html": [
       "<div>\n",
       "<style scoped>\n",
       "    .dataframe tbody tr th:only-of-type {\n",
       "        vertical-align: middle;\n",
       "    }\n",
       "\n",
       "    .dataframe tbody tr th {\n",
       "        vertical-align: top;\n",
       "    }\n",
       "\n",
       "    .dataframe thead th {\n",
       "        text-align: right;\n",
       "    }\n",
       "</style>\n",
       "<table border=\"1\" class=\"dataframe\">\n",
       "  <thead>\n",
       "    <tr style=\"text-align: right;\">\n",
       "      <th></th>\n",
       "      <th>District</th>\n",
       "      <th>County</th>\n",
       "      <th>Total Students</th>\n",
       "      <th>Black or African American Students</th>\n",
       "    </tr>\n",
       "  </thead>\n",
       "  <tbody>\n",
       "    <tr>\n",
       "      <th>4</th>\n",
       "      <td>Baldwin</td>\n",
       "      <td>Nassau</td>\n",
       "      <td>4476</td>\n",
       "      <td>2146</td>\n",
       "    </tr>\n",
       "    <tr>\n",
       "      <th>101</th>\n",
       "      <td>Sewanhaka Central High</td>\n",
       "      <td>Nassau</td>\n",
       "      <td>7862</td>\n",
       "      <td>1670</td>\n",
       "    </tr>\n",
       "    <tr>\n",
       "      <th>63</th>\n",
       "      <td>Longwood Central</td>\n",
       "      <td>Suffolk</td>\n",
       "      <td>8876</td>\n",
       "      <td>1534</td>\n",
       "    </tr>\n",
       "    <tr>\n",
       "      <th>124</th>\n",
       "      <td>William Floyd</td>\n",
       "      <td>Suffolk</td>\n",
       "      <td>9166</td>\n",
       "      <td>1465</td>\n",
       "    </tr>\n",
       "    <tr>\n",
       "      <th>116</th>\n",
       "      <td>Valley Stream Central High</td>\n",
       "      <td>Nassau</td>\n",
       "      <td>4714</td>\n",
       "      <td>1436</td>\n",
       "    </tr>\n",
       "    <tr>\n",
       "      <th>...</th>\n",
       "      <td>...</td>\n",
       "      <td>...</td>\n",
       "      <td>...</td>\n",
       "      <td>...</td>\n",
       "    </tr>\n",
       "    <tr>\n",
       "      <th>84</th>\n",
       "      <td>Oysterponds</td>\n",
       "      <td>Suffolk</td>\n",
       "      <td>80</td>\n",
       "      <td>1</td>\n",
       "    </tr>\n",
       "    <tr>\n",
       "      <th>109</th>\n",
       "      <td>Springs</td>\n",
       "      <td>Suffolk</td>\n",
       "      <td>688</td>\n",
       "      <td>1</td>\n",
       "    </tr>\n",
       "    <tr>\n",
       "      <th>102</th>\n",
       "      <td>Shelter Island</td>\n",
       "      <td>Suffolk</td>\n",
       "      <td>176</td>\n",
       "      <td>1</td>\n",
       "    </tr>\n",
       "    <tr>\n",
       "      <th>75</th>\n",
       "      <td>New Suffolk Common</td>\n",
       "      <td>Suffolk</td>\n",
       "      <td>7</td>\n",
       "      <td>0</td>\n",
       "    </tr>\n",
       "    <tr>\n",
       "      <th>117</th>\n",
       "      <td>Wainscott Common</td>\n",
       "      <td>Suffolk</td>\n",
       "      <td>26</td>\n",
       "      <td>0</td>\n",
       "    </tr>\n",
       "  </tbody>\n",
       "</table>\n",
       "<p>121 rows × 4 columns</p>\n",
       "</div>"
      ],
      "text/plain": [
       "                       District   County  Total Students  \\\n",
       "4                       Baldwin   Nassau            4476   \n",
       "101      Sewanhaka Central High   Nassau            7862   \n",
       "63             Longwood Central  Suffolk            8876   \n",
       "124               William Floyd  Suffolk            9166   \n",
       "116  Valley Stream Central High   Nassau            4714   \n",
       "..                          ...      ...             ...   \n",
       "84                  Oysterponds  Suffolk              80   \n",
       "109                     Springs  Suffolk             688   \n",
       "102              Shelter Island  Suffolk             176   \n",
       "75           New Suffolk Common  Suffolk               7   \n",
       "117            Wainscott Common  Suffolk              26   \n",
       "\n",
       "     Black or African American Students  \n",
       "4                                  2146  \n",
       "101                                1670  \n",
       "63                                 1534  \n",
       "124                                1465  \n",
       "116                                1436  \n",
       "..                                  ...  \n",
       "84                                    1  \n",
       "109                                   1  \n",
       "102                                   1  \n",
       "75                                    0  \n",
       "117                                   0  \n",
       "\n",
       "[121 rows x 4 columns]"
      ]
     },
     "metadata": {},
     "output_type": "display_data"
    }
   ],
   "source": [
    "# show just the District and Total Students\n",
    "display(df[[\"District\", \"Total Students\"]])\n",
    "\n",
    "print(\"Now sorting by Total Students:\")\n",
    "# sort by Total Students\n",
    "display(df[[\"District\", \"Total Students\"]].sort_values(\"Total Students\", ascending=False))\n",
    "# reading this table, we can see that Brentwood is the largest district in Long Island (by # of students)\n",
    "\n",
    "# let's add County and Black Students and sort Black Students\n",
    "display(df[[\"District\", \"County\", \"Total Students\", \"Black or African American Students\"]].sort_values(\"Black or African American Students\", ascending=False))"
   ]
  },
  {
   "cell_type": "markdown",
   "metadata": {},
   "source": [
    "Filtering Rows\n",
    "--------------\n",
    "We have seen how we can select just some columns to work with. We can do the same\n",
    "things for rows. In these examples, though, we are going to filter the rows and\n",
    "save the result into a new `DataFrame` using variables that we can use later.\n",
    "\n",
    "We're going to write a few filters that see if column values are\n",
    "greater than (`>`), less than (`<`), or equal (`==`) to a certain value.\n",
    "\n",
    "We're also going to use a **method** called `isin()` that checks if a value is in a list of values.\n",
    "\n",
    "Last, we will use the logical operators `&` (and) to combine conditions.\n"
   ]
  },
  {
   "cell_type": "code",
   "execution_count": 5,
   "metadata": {},
   "outputs": [
    {
     "data": {
      "text/html": [
       "<div>\n",
       "<style scoped>\n",
       "    .dataframe tbody tr th:only-of-type {\n",
       "        vertical-align: middle;\n",
       "    }\n",
       "\n",
       "    .dataframe tbody tr th {\n",
       "        vertical-align: top;\n",
       "    }\n",
       "\n",
       "    .dataframe thead th {\n",
       "        text-align: right;\n",
       "    }\n",
       "</style>\n",
       "<table border=\"1\" class=\"dataframe\">\n",
       "  <thead>\n",
       "    <tr style=\"text-align: right;\">\n",
       "      <th></th>\n",
       "      <th>District</th>\n",
       "      <th>Total Students</th>\n",
       "      <th>Asian or Asian/Pacific Islander Students</th>\n",
       "      <th>Black or African American Students</th>\n",
       "      <th>Hispanic Students</th>\n",
       "      <th>White Students</th>\n",
       "    </tr>\n",
       "  </thead>\n",
       "  <tbody>\n",
       "    <tr>\n",
       "      <th>14</th>\n",
       "      <td>Carle Place</td>\n",
       "      <td>1264</td>\n",
       "      <td>139</td>\n",
       "      <td>20</td>\n",
       "      <td>313</td>\n",
       "      <td>761</td>\n",
       "    </tr>\n",
       "    <tr>\n",
       "      <th>32</th>\n",
       "      <td>Elmont</td>\n",
       "      <td>3394</td>\n",
       "      <td>882</td>\n",
       "      <td>1178</td>\n",
       "      <td>1042</td>\n",
       "      <td>173</td>\n",
       "    </tr>\n",
       "    <tr>\n",
       "      <th>39</th>\n",
       "      <td>Franklin Square</td>\n",
       "      <td>1930</td>\n",
       "      <td>317</td>\n",
       "      <td>53</td>\n",
       "      <td>484</td>\n",
       "      <td>1032</td>\n",
       "    </tr>\n",
       "    <tr>\n",
       "      <th>41</th>\n",
       "      <td>Garden City</td>\n",
       "      <td>3945</td>\n",
       "      <td>419</td>\n",
       "      <td>30</td>\n",
       "      <td>285</td>\n",
       "      <td>3117</td>\n",
       "    </tr>\n",
       "    <tr>\n",
       "      <th>49</th>\n",
       "      <td>Hempstead</td>\n",
       "      <td>6114</td>\n",
       "      <td>67</td>\n",
       "      <td>1268</td>\n",
       "      <td>4571</td>\n",
       "      <td>94</td>\n",
       "    </tr>\n",
       "    <tr>\n",
       "      <th>71</th>\n",
       "      <td>Mineola</td>\n",
       "      <td>2868</td>\n",
       "      <td>419</td>\n",
       "      <td>70</td>\n",
       "      <td>954</td>\n",
       "      <td>1323</td>\n",
       "    </tr>\n",
       "    <tr>\n",
       "      <th>74</th>\n",
       "      <td>New Hyde Park-Garden City Park</td>\n",
       "      <td>1653</td>\n",
       "      <td>1019</td>\n",
       "      <td>10</td>\n",
       "      <td>242</td>\n",
       "      <td>319</td>\n",
       "    </tr>\n",
       "    <tr>\n",
       "      <th>101</th>\n",
       "      <td>Sewanhaka Central High</td>\n",
       "      <td>7862</td>\n",
       "      <td>2094</td>\n",
       "      <td>1670</td>\n",
       "      <td>1816</td>\n",
       "      <td>2183</td>\n",
       "    </tr>\n",
       "    <tr>\n",
       "      <th>120</th>\n",
       "      <td>West Hempstead</td>\n",
       "      <td>1586</td>\n",
       "      <td>131</td>\n",
       "      <td>320</td>\n",
       "      <td>760</td>\n",
       "      <td>319</td>\n",
       "    </tr>\n",
       "  </tbody>\n",
       "</table>\n",
       "</div>"
      ],
      "text/plain": [
       "                           District  Total Students  \\\n",
       "14                      Carle Place            1264   \n",
       "32                           Elmont            3394   \n",
       "39                  Franklin Square            1930   \n",
       "41                      Garden City            3945   \n",
       "49                        Hempstead            6114   \n",
       "71                          Mineola            2868   \n",
       "74   New Hyde Park-Garden City Park            1653   \n",
       "101          Sewanhaka Central High            7862   \n",
       "120                  West Hempstead            1586   \n",
       "\n",
       "     Asian or Asian/Pacific Islander Students  \\\n",
       "14                                        139   \n",
       "32                                        882   \n",
       "39                                        317   \n",
       "41                                        419   \n",
       "49                                         67   \n",
       "71                                        419   \n",
       "74                                       1019   \n",
       "101                                      2094   \n",
       "120                                       131   \n",
       "\n",
       "     Black or African American Students  Hispanic Students  White Students  \n",
       "14                                   20                313             761  \n",
       "32                                 1178               1042             173  \n",
       "39                                   53                484            1032  \n",
       "41                                   30                285            3117  \n",
       "49                                 1268               4571              94  \n",
       "71                                   70                954            1323  \n",
       "74                                   10                242             319  \n",
       "101                                1670               1816            2183  \n",
       "120                                 320                760             319  "
      ]
     },
     "execution_count": 5,
     "metadata": {},
     "output_type": "execute_result"
    }
   ],
   "source": [
    "# get just the districts with more than 6,000 students\n",
    "# let's call this big_districts\n",
    "big_districts = df[df[\"Total Students\"] > 6000]\n",
    "big_districts\n",
    "\n",
    "# only Suffolk County\n",
    "suffolk = df[df[\"County\"] == \"Suffolk\"]\n",
    "suffolk\n",
    "\n",
    "# get big Nassau districts using &\n",
    "big_nassau = df[(df[\"County\"] == \"Nassau\") & (df[\"Total Students\"] > 6000)]\n",
    "big_nassau\n",
    "\n",
    "# let's get just the Garden City and the districts around it\n",
    "# first we will create a list of the school districts we want\n",
    "districts = ['Garden City',\n",
    "             'Carle Place',\n",
    "             'Elmont',\n",
    "             'Franklin Square',\n",
    "             'Hempstead',\n",
    "             'Mineola',\n",
    "             'New Hyde Park-Garden City Park',\n",
    "             'Sewanhaka Central High',\n",
    "             'West Hempstead']\n",
    "# create an new variable called gc (for Garden City)\n",
    "gc = df[df[\"District\"].isin(districts)]\n",
    "gc[[\"District\", \"Total Students\",\n",
    "                \"Asian or Asian/Pacific Islander Students\", \"Black or African American Students\", \"Hispanic Students\", \"White Students\"]]"
   ]
  },
  {
   "cell_type": "markdown",
   "metadata": {},
   "source": [
    "Making Bar Charts\n",
    "=================\n",
    "We are going to use a python library called `plotly` to make\n",
    "interactive bar charts. We will use the `px.bar()` function.\n",
    "\n",
    "A few things to note:\n",
    "\n",
    "- the x-axis labels the values going across the bottom of the chart\n",
    "- the y-axis labels the values going up the side of the chart\n",
    "- we're going to work with the `gc` variable, which is a subset of the data\n",
    "  to make these example charts\n",
    "- if we sort our data, we will get bard in a different order"
   ]
  },
  {
   "cell_type": "code",
   "execution_count": 6,
   "metadata": {},
   "outputs": [
    {
     "data": {
      "application/vnd.plotly.v1+json": {
       "config": {
        "plotlyServerURL": "https://plot.ly"
       },
       "data": [
        {
         "alignmentgroup": "True",
         "hovertemplate": "District=%{x}<br>Total Students=%{y}<extra></extra>",
         "legendgroup": "",
         "marker": {
          "color": "#636efa",
          "pattern": {
           "shape": ""
          }
         },
         "name": "",
         "offsetgroup": "",
         "orientation": "v",
         "showlegend": false,
         "textposition": "auto",
         "type": "bar",
         "x": [
          "Carle Place",
          "West Hempstead",
          "New Hyde Park-Garden City Park",
          "Franklin Square",
          "Mineola",
          "Elmont",
          "Garden City",
          "Hempstead",
          "Sewanhaka Central High"
         ],
         "xaxis": "x",
         "y": [
          1264,
          1586,
          1653,
          1930,
          2868,
          3394,
          3945,
          6114,
          7862
         ],
         "yaxis": "y"
        }
       ],
       "layout": {
        "barmode": "relative",
        "legend": {
         "tracegroupgap": 0
        },
        "template": {
         "data": {
          "bar": [
           {
            "error_x": {
             "color": "#2a3f5f"
            },
            "error_y": {
             "color": "#2a3f5f"
            },
            "marker": {
             "line": {
              "color": "#E5ECF6",
              "width": 0.5
             },
             "pattern": {
              "fillmode": "overlay",
              "size": 10,
              "solidity": 0.2
             }
            },
            "type": "bar"
           }
          ],
          "barpolar": [
           {
            "marker": {
             "line": {
              "color": "#E5ECF6",
              "width": 0.5
             },
             "pattern": {
              "fillmode": "overlay",
              "size": 10,
              "solidity": 0.2
             }
            },
            "type": "barpolar"
           }
          ],
          "carpet": [
           {
            "aaxis": {
             "endlinecolor": "#2a3f5f",
             "gridcolor": "white",
             "linecolor": "white",
             "minorgridcolor": "white",
             "startlinecolor": "#2a3f5f"
            },
            "baxis": {
             "endlinecolor": "#2a3f5f",
             "gridcolor": "white",
             "linecolor": "white",
             "minorgridcolor": "white",
             "startlinecolor": "#2a3f5f"
            },
            "type": "carpet"
           }
          ],
          "choropleth": [
           {
            "colorbar": {
             "outlinewidth": 0,
             "ticks": ""
            },
            "type": "choropleth"
           }
          ],
          "contour": [
           {
            "colorbar": {
             "outlinewidth": 0,
             "ticks": ""
            },
            "colorscale": [
             [
              0,
              "#0d0887"
             ],
             [
              0.1111111111111111,
              "#46039f"
             ],
             [
              0.2222222222222222,
              "#7201a8"
             ],
             [
              0.3333333333333333,
              "#9c179e"
             ],
             [
              0.4444444444444444,
              "#bd3786"
             ],
             [
              0.5555555555555556,
              "#d8576b"
             ],
             [
              0.6666666666666666,
              "#ed7953"
             ],
             [
              0.7777777777777778,
              "#fb9f3a"
             ],
             [
              0.8888888888888888,
              "#fdca26"
             ],
             [
              1,
              "#f0f921"
             ]
            ],
            "type": "contour"
           }
          ],
          "contourcarpet": [
           {
            "colorbar": {
             "outlinewidth": 0,
             "ticks": ""
            },
            "type": "contourcarpet"
           }
          ],
          "heatmap": [
           {
            "colorbar": {
             "outlinewidth": 0,
             "ticks": ""
            },
            "colorscale": [
             [
              0,
              "#0d0887"
             ],
             [
              0.1111111111111111,
              "#46039f"
             ],
             [
              0.2222222222222222,
              "#7201a8"
             ],
             [
              0.3333333333333333,
              "#9c179e"
             ],
             [
              0.4444444444444444,
              "#bd3786"
             ],
             [
              0.5555555555555556,
              "#d8576b"
             ],
             [
              0.6666666666666666,
              "#ed7953"
             ],
             [
              0.7777777777777778,
              "#fb9f3a"
             ],
             [
              0.8888888888888888,
              "#fdca26"
             ],
             [
              1,
              "#f0f921"
             ]
            ],
            "type": "heatmap"
           }
          ],
          "heatmapgl": [
           {
            "colorbar": {
             "outlinewidth": 0,
             "ticks": ""
            },
            "colorscale": [
             [
              0,
              "#0d0887"
             ],
             [
              0.1111111111111111,
              "#46039f"
             ],
             [
              0.2222222222222222,
              "#7201a8"
             ],
             [
              0.3333333333333333,
              "#9c179e"
             ],
             [
              0.4444444444444444,
              "#bd3786"
             ],
             [
              0.5555555555555556,
              "#d8576b"
             ],
             [
              0.6666666666666666,
              "#ed7953"
             ],
             [
              0.7777777777777778,
              "#fb9f3a"
             ],
             [
              0.8888888888888888,
              "#fdca26"
             ],
             [
              1,
              "#f0f921"
             ]
            ],
            "type": "heatmapgl"
           }
          ],
          "histogram": [
           {
            "marker": {
             "pattern": {
              "fillmode": "overlay",
              "size": 10,
              "solidity": 0.2
             }
            },
            "type": "histogram"
           }
          ],
          "histogram2d": [
           {
            "colorbar": {
             "outlinewidth": 0,
             "ticks": ""
            },
            "colorscale": [
             [
              0,
              "#0d0887"
             ],
             [
              0.1111111111111111,
              "#46039f"
             ],
             [
              0.2222222222222222,
              "#7201a8"
             ],
             [
              0.3333333333333333,
              "#9c179e"
             ],
             [
              0.4444444444444444,
              "#bd3786"
             ],
             [
              0.5555555555555556,
              "#d8576b"
             ],
             [
              0.6666666666666666,
              "#ed7953"
             ],
             [
              0.7777777777777778,
              "#fb9f3a"
             ],
             [
              0.8888888888888888,
              "#fdca26"
             ],
             [
              1,
              "#f0f921"
             ]
            ],
            "type": "histogram2d"
           }
          ],
          "histogram2dcontour": [
           {
            "colorbar": {
             "outlinewidth": 0,
             "ticks": ""
            },
            "colorscale": [
             [
              0,
              "#0d0887"
             ],
             [
              0.1111111111111111,
              "#46039f"
             ],
             [
              0.2222222222222222,
              "#7201a8"
             ],
             [
              0.3333333333333333,
              "#9c179e"
             ],
             [
              0.4444444444444444,
              "#bd3786"
             ],
             [
              0.5555555555555556,
              "#d8576b"
             ],
             [
              0.6666666666666666,
              "#ed7953"
             ],
             [
              0.7777777777777778,
              "#fb9f3a"
             ],
             [
              0.8888888888888888,
              "#fdca26"
             ],
             [
              1,
              "#f0f921"
             ]
            ],
            "type": "histogram2dcontour"
           }
          ],
          "mesh3d": [
           {
            "colorbar": {
             "outlinewidth": 0,
             "ticks": ""
            },
            "type": "mesh3d"
           }
          ],
          "parcoords": [
           {
            "line": {
             "colorbar": {
              "outlinewidth": 0,
              "ticks": ""
             }
            },
            "type": "parcoords"
           }
          ],
          "pie": [
           {
            "automargin": true,
            "type": "pie"
           }
          ],
          "scatter": [
           {
            "fillpattern": {
             "fillmode": "overlay",
             "size": 10,
             "solidity": 0.2
            },
            "type": "scatter"
           }
          ],
          "scatter3d": [
           {
            "line": {
             "colorbar": {
              "outlinewidth": 0,
              "ticks": ""
             }
            },
            "marker": {
             "colorbar": {
              "outlinewidth": 0,
              "ticks": ""
             }
            },
            "type": "scatter3d"
           }
          ],
          "scattercarpet": [
           {
            "marker": {
             "colorbar": {
              "outlinewidth": 0,
              "ticks": ""
             }
            },
            "type": "scattercarpet"
           }
          ],
          "scattergeo": [
           {
            "marker": {
             "colorbar": {
              "outlinewidth": 0,
              "ticks": ""
             }
            },
            "type": "scattergeo"
           }
          ],
          "scattergl": [
           {
            "marker": {
             "colorbar": {
              "outlinewidth": 0,
              "ticks": ""
             }
            },
            "type": "scattergl"
           }
          ],
          "scattermapbox": [
           {
            "marker": {
             "colorbar": {
              "outlinewidth": 0,
              "ticks": ""
             }
            },
            "type": "scattermapbox"
           }
          ],
          "scatterpolar": [
           {
            "marker": {
             "colorbar": {
              "outlinewidth": 0,
              "ticks": ""
             }
            },
            "type": "scatterpolar"
           }
          ],
          "scatterpolargl": [
           {
            "marker": {
             "colorbar": {
              "outlinewidth": 0,
              "ticks": ""
             }
            },
            "type": "scatterpolargl"
           }
          ],
          "scatterternary": [
           {
            "marker": {
             "colorbar": {
              "outlinewidth": 0,
              "ticks": ""
             }
            },
            "type": "scatterternary"
           }
          ],
          "surface": [
           {
            "colorbar": {
             "outlinewidth": 0,
             "ticks": ""
            },
            "colorscale": [
             [
              0,
              "#0d0887"
             ],
             [
              0.1111111111111111,
              "#46039f"
             ],
             [
              0.2222222222222222,
              "#7201a8"
             ],
             [
              0.3333333333333333,
              "#9c179e"
             ],
             [
              0.4444444444444444,
              "#bd3786"
             ],
             [
              0.5555555555555556,
              "#d8576b"
             ],
             [
              0.6666666666666666,
              "#ed7953"
             ],
             [
              0.7777777777777778,
              "#fb9f3a"
             ],
             [
              0.8888888888888888,
              "#fdca26"
             ],
             [
              1,
              "#f0f921"
             ]
            ],
            "type": "surface"
           }
          ],
          "table": [
           {
            "cells": {
             "fill": {
              "color": "#EBF0F8"
             },
             "line": {
              "color": "white"
             }
            },
            "header": {
             "fill": {
              "color": "#C8D4E3"
             },
             "line": {
              "color": "white"
             }
            },
            "type": "table"
           }
          ]
         },
         "layout": {
          "annotationdefaults": {
           "arrowcolor": "#2a3f5f",
           "arrowhead": 0,
           "arrowwidth": 1
          },
          "autotypenumbers": "strict",
          "coloraxis": {
           "colorbar": {
            "outlinewidth": 0,
            "ticks": ""
           }
          },
          "colorscale": {
           "diverging": [
            [
             0,
             "#8e0152"
            ],
            [
             0.1,
             "#c51b7d"
            ],
            [
             0.2,
             "#de77ae"
            ],
            [
             0.3,
             "#f1b6da"
            ],
            [
             0.4,
             "#fde0ef"
            ],
            [
             0.5,
             "#f7f7f7"
            ],
            [
             0.6,
             "#e6f5d0"
            ],
            [
             0.7,
             "#b8e186"
            ],
            [
             0.8,
             "#7fbc41"
            ],
            [
             0.9,
             "#4d9221"
            ],
            [
             1,
             "#276419"
            ]
           ],
           "sequential": [
            [
             0,
             "#0d0887"
            ],
            [
             0.1111111111111111,
             "#46039f"
            ],
            [
             0.2222222222222222,
             "#7201a8"
            ],
            [
             0.3333333333333333,
             "#9c179e"
            ],
            [
             0.4444444444444444,
             "#bd3786"
            ],
            [
             0.5555555555555556,
             "#d8576b"
            ],
            [
             0.6666666666666666,
             "#ed7953"
            ],
            [
             0.7777777777777778,
             "#fb9f3a"
            ],
            [
             0.8888888888888888,
             "#fdca26"
            ],
            [
             1,
             "#f0f921"
            ]
           ],
           "sequentialminus": [
            [
             0,
             "#0d0887"
            ],
            [
             0.1111111111111111,
             "#46039f"
            ],
            [
             0.2222222222222222,
             "#7201a8"
            ],
            [
             0.3333333333333333,
             "#9c179e"
            ],
            [
             0.4444444444444444,
             "#bd3786"
            ],
            [
             0.5555555555555556,
             "#d8576b"
            ],
            [
             0.6666666666666666,
             "#ed7953"
            ],
            [
             0.7777777777777778,
             "#fb9f3a"
            ],
            [
             0.8888888888888888,
             "#fdca26"
            ],
            [
             1,
             "#f0f921"
            ]
           ]
          },
          "colorway": [
           "#636efa",
           "#EF553B",
           "#00cc96",
           "#ab63fa",
           "#FFA15A",
           "#19d3f3",
           "#FF6692",
           "#B6E880",
           "#FF97FF",
           "#FECB52"
          ],
          "font": {
           "color": "#2a3f5f"
          },
          "geo": {
           "bgcolor": "white",
           "lakecolor": "white",
           "landcolor": "#E5ECF6",
           "showlakes": true,
           "showland": true,
           "subunitcolor": "white"
          },
          "hoverlabel": {
           "align": "left"
          },
          "hovermode": "closest",
          "mapbox": {
           "style": "light"
          },
          "paper_bgcolor": "white",
          "plot_bgcolor": "#E5ECF6",
          "polar": {
           "angularaxis": {
            "gridcolor": "white",
            "linecolor": "white",
            "ticks": ""
           },
           "bgcolor": "#E5ECF6",
           "radialaxis": {
            "gridcolor": "white",
            "linecolor": "white",
            "ticks": ""
           }
          },
          "scene": {
           "xaxis": {
            "backgroundcolor": "#E5ECF6",
            "gridcolor": "white",
            "gridwidth": 2,
            "linecolor": "white",
            "showbackground": true,
            "ticks": "",
            "zerolinecolor": "white"
           },
           "yaxis": {
            "backgroundcolor": "#E5ECF6",
            "gridcolor": "white",
            "gridwidth": 2,
            "linecolor": "white",
            "showbackground": true,
            "ticks": "",
            "zerolinecolor": "white"
           },
           "zaxis": {
            "backgroundcolor": "#E5ECF6",
            "gridcolor": "white",
            "gridwidth": 2,
            "linecolor": "white",
            "showbackground": true,
            "ticks": "",
            "zerolinecolor": "white"
           }
          },
          "shapedefaults": {
           "line": {
            "color": "#2a3f5f"
           }
          },
          "ternary": {
           "aaxis": {
            "gridcolor": "white",
            "linecolor": "white",
            "ticks": ""
           },
           "baxis": {
            "gridcolor": "white",
            "linecolor": "white",
            "ticks": ""
           },
           "bgcolor": "#E5ECF6",
           "caxis": {
            "gridcolor": "white",
            "linecolor": "white",
            "ticks": ""
           }
          },
          "title": {
           "x": 0.05
          },
          "xaxis": {
           "automargin": true,
           "gridcolor": "white",
           "linecolor": "white",
           "ticks": "",
           "title": {
            "standoff": 15
           },
           "zerolinecolor": "white",
           "zerolinewidth": 2
          },
          "yaxis": {
           "automargin": true,
           "gridcolor": "white",
           "linecolor": "white",
           "ticks": "",
           "title": {
            "standoff": 15
           },
           "zerolinecolor": "white",
           "zerolinewidth": 2
          }
         }
        },
        "title": {
         "text": "Garden City and Neighbors: Total Students per District"
        },
        "xaxis": {
         "anchor": "y",
         "domain": [
          0,
          1
         ],
         "title": {
          "text": "District"
         }
        },
        "yaxis": {
         "anchor": "x",
         "domain": [
          0,
          1
         ],
         "title": {
          "text": "Total Students"
         }
        }
       }
      }
     },
     "metadata": {},
     "output_type": "display_data"
    }
   ],
   "source": [
    "# a basic bar chart showing the total students in each district\n",
    "chart_title = \"Garden City and Neighbors: Total Students per District\"\n",
    "gc = gc.sort_values(\"Total Students\")\n",
    "fig = px.bar(gc, x='District', y=\"Total Students\", title=chart_title)\n",
    "fig"
   ]
  },
  {
   "cell_type": "code",
   "execution_count": 7,
   "metadata": {},
   "outputs": [
    {
     "data": {
      "application/vnd.plotly.v1+json": {
       "config": {
        "plotlyServerURL": "https://plot.ly"
       },
       "data": [
        {
         "alignmentgroup": "True",
         "hovertemplate": "variable=Asian or Asian/Pacific Islander Students<br>District=%{x}<br>value=%{y}<extra></extra>",
         "legendgroup": "Asian or Asian/Pacific Islander Students",
         "marker": {
          "color": "#636efa",
          "pattern": {
           "shape": ""
          }
         },
         "name": "Asian or Asian/Pacific Islander Students",
         "offsetgroup": "Asian or Asian/Pacific Islander Students",
         "orientation": "v",
         "showlegend": true,
         "textposition": "auto",
         "type": "bar",
         "x": [
          "Garden City"
         ],
         "xaxis": "x",
         "y": [
          419
         ],
         "yaxis": "y"
        },
        {
         "alignmentgroup": "True",
         "hovertemplate": "variable=Black or African American Students<br>District=%{x}<br>value=%{y}<extra></extra>",
         "legendgroup": "Black or African American Students",
         "marker": {
          "color": "#EF553B",
          "pattern": {
           "shape": ""
          }
         },
         "name": "Black or African American Students",
         "offsetgroup": "Black or African American Students",
         "orientation": "v",
         "showlegend": true,
         "textposition": "auto",
         "type": "bar",
         "x": [
          "Garden City"
         ],
         "xaxis": "x",
         "y": [
          30
         ],
         "yaxis": "y"
        },
        {
         "alignmentgroup": "True",
         "hovertemplate": "variable=Hispanic Students<br>District=%{x}<br>value=%{y}<extra></extra>",
         "legendgroup": "Hispanic Students",
         "marker": {
          "color": "#00cc96",
          "pattern": {
           "shape": ""
          }
         },
         "name": "Hispanic Students",
         "offsetgroup": "Hispanic Students",
         "orientation": "v",
         "showlegend": true,
         "textposition": "auto",
         "type": "bar",
         "x": [
          "Garden City"
         ],
         "xaxis": "x",
         "y": [
          285
         ],
         "yaxis": "y"
        },
        {
         "alignmentgroup": "True",
         "hovertemplate": "variable=White Students<br>District=%{x}<br>value=%{y}<extra></extra>",
         "legendgroup": "White Students",
         "marker": {
          "color": "#ab63fa",
          "pattern": {
           "shape": ""
          }
         },
         "name": "White Students",
         "offsetgroup": "White Students",
         "orientation": "v",
         "showlegend": true,
         "textposition": "auto",
         "type": "bar",
         "x": [
          "Garden City"
         ],
         "xaxis": "x",
         "y": [
          3117
         ],
         "yaxis": "y"
        }
       ],
       "layout": {
        "barmode": "group",
        "legend": {
         "title": {
          "text": "variable"
         },
         "tracegroupgap": 0
        },
        "template": {
         "data": {
          "bar": [
           {
            "error_x": {
             "color": "#2a3f5f"
            },
            "error_y": {
             "color": "#2a3f5f"
            },
            "marker": {
             "line": {
              "color": "#E5ECF6",
              "width": 0.5
             },
             "pattern": {
              "fillmode": "overlay",
              "size": 10,
              "solidity": 0.2
             }
            },
            "type": "bar"
           }
          ],
          "barpolar": [
           {
            "marker": {
             "line": {
              "color": "#E5ECF6",
              "width": 0.5
             },
             "pattern": {
              "fillmode": "overlay",
              "size": 10,
              "solidity": 0.2
             }
            },
            "type": "barpolar"
           }
          ],
          "carpet": [
           {
            "aaxis": {
             "endlinecolor": "#2a3f5f",
             "gridcolor": "white",
             "linecolor": "white",
             "minorgridcolor": "white",
             "startlinecolor": "#2a3f5f"
            },
            "baxis": {
             "endlinecolor": "#2a3f5f",
             "gridcolor": "white",
             "linecolor": "white",
             "minorgridcolor": "white",
             "startlinecolor": "#2a3f5f"
            },
            "type": "carpet"
           }
          ],
          "choropleth": [
           {
            "colorbar": {
             "outlinewidth": 0,
             "ticks": ""
            },
            "type": "choropleth"
           }
          ],
          "contour": [
           {
            "colorbar": {
             "outlinewidth": 0,
             "ticks": ""
            },
            "colorscale": [
             [
              0,
              "#0d0887"
             ],
             [
              0.1111111111111111,
              "#46039f"
             ],
             [
              0.2222222222222222,
              "#7201a8"
             ],
             [
              0.3333333333333333,
              "#9c179e"
             ],
             [
              0.4444444444444444,
              "#bd3786"
             ],
             [
              0.5555555555555556,
              "#d8576b"
             ],
             [
              0.6666666666666666,
              "#ed7953"
             ],
             [
              0.7777777777777778,
              "#fb9f3a"
             ],
             [
              0.8888888888888888,
              "#fdca26"
             ],
             [
              1,
              "#f0f921"
             ]
            ],
            "type": "contour"
           }
          ],
          "contourcarpet": [
           {
            "colorbar": {
             "outlinewidth": 0,
             "ticks": ""
            },
            "type": "contourcarpet"
           }
          ],
          "heatmap": [
           {
            "colorbar": {
             "outlinewidth": 0,
             "ticks": ""
            },
            "colorscale": [
             [
              0,
              "#0d0887"
             ],
             [
              0.1111111111111111,
              "#46039f"
             ],
             [
              0.2222222222222222,
              "#7201a8"
             ],
             [
              0.3333333333333333,
              "#9c179e"
             ],
             [
              0.4444444444444444,
              "#bd3786"
             ],
             [
              0.5555555555555556,
              "#d8576b"
             ],
             [
              0.6666666666666666,
              "#ed7953"
             ],
             [
              0.7777777777777778,
              "#fb9f3a"
             ],
             [
              0.8888888888888888,
              "#fdca26"
             ],
             [
              1,
              "#f0f921"
             ]
            ],
            "type": "heatmap"
           }
          ],
          "heatmapgl": [
           {
            "colorbar": {
             "outlinewidth": 0,
             "ticks": ""
            },
            "colorscale": [
             [
              0,
              "#0d0887"
             ],
             [
              0.1111111111111111,
              "#46039f"
             ],
             [
              0.2222222222222222,
              "#7201a8"
             ],
             [
              0.3333333333333333,
              "#9c179e"
             ],
             [
              0.4444444444444444,
              "#bd3786"
             ],
             [
              0.5555555555555556,
              "#d8576b"
             ],
             [
              0.6666666666666666,
              "#ed7953"
             ],
             [
              0.7777777777777778,
              "#fb9f3a"
             ],
             [
              0.8888888888888888,
              "#fdca26"
             ],
             [
              1,
              "#f0f921"
             ]
            ],
            "type": "heatmapgl"
           }
          ],
          "histogram": [
           {
            "marker": {
             "pattern": {
              "fillmode": "overlay",
              "size": 10,
              "solidity": 0.2
             }
            },
            "type": "histogram"
           }
          ],
          "histogram2d": [
           {
            "colorbar": {
             "outlinewidth": 0,
             "ticks": ""
            },
            "colorscale": [
             [
              0,
              "#0d0887"
             ],
             [
              0.1111111111111111,
              "#46039f"
             ],
             [
              0.2222222222222222,
              "#7201a8"
             ],
             [
              0.3333333333333333,
              "#9c179e"
             ],
             [
              0.4444444444444444,
              "#bd3786"
             ],
             [
              0.5555555555555556,
              "#d8576b"
             ],
             [
              0.6666666666666666,
              "#ed7953"
             ],
             [
              0.7777777777777778,
              "#fb9f3a"
             ],
             [
              0.8888888888888888,
              "#fdca26"
             ],
             [
              1,
              "#f0f921"
             ]
            ],
            "type": "histogram2d"
           }
          ],
          "histogram2dcontour": [
           {
            "colorbar": {
             "outlinewidth": 0,
             "ticks": ""
            },
            "colorscale": [
             [
              0,
              "#0d0887"
             ],
             [
              0.1111111111111111,
              "#46039f"
             ],
             [
              0.2222222222222222,
              "#7201a8"
             ],
             [
              0.3333333333333333,
              "#9c179e"
             ],
             [
              0.4444444444444444,
              "#bd3786"
             ],
             [
              0.5555555555555556,
              "#d8576b"
             ],
             [
              0.6666666666666666,
              "#ed7953"
             ],
             [
              0.7777777777777778,
              "#fb9f3a"
             ],
             [
              0.8888888888888888,
              "#fdca26"
             ],
             [
              1,
              "#f0f921"
             ]
            ],
            "type": "histogram2dcontour"
           }
          ],
          "mesh3d": [
           {
            "colorbar": {
             "outlinewidth": 0,
             "ticks": ""
            },
            "type": "mesh3d"
           }
          ],
          "parcoords": [
           {
            "line": {
             "colorbar": {
              "outlinewidth": 0,
              "ticks": ""
             }
            },
            "type": "parcoords"
           }
          ],
          "pie": [
           {
            "automargin": true,
            "type": "pie"
           }
          ],
          "scatter": [
           {
            "fillpattern": {
             "fillmode": "overlay",
             "size": 10,
             "solidity": 0.2
            },
            "type": "scatter"
           }
          ],
          "scatter3d": [
           {
            "line": {
             "colorbar": {
              "outlinewidth": 0,
              "ticks": ""
             }
            },
            "marker": {
             "colorbar": {
              "outlinewidth": 0,
              "ticks": ""
             }
            },
            "type": "scatter3d"
           }
          ],
          "scattercarpet": [
           {
            "marker": {
             "colorbar": {
              "outlinewidth": 0,
              "ticks": ""
             }
            },
            "type": "scattercarpet"
           }
          ],
          "scattergeo": [
           {
            "marker": {
             "colorbar": {
              "outlinewidth": 0,
              "ticks": ""
             }
            },
            "type": "scattergeo"
           }
          ],
          "scattergl": [
           {
            "marker": {
             "colorbar": {
              "outlinewidth": 0,
              "ticks": ""
             }
            },
            "type": "scattergl"
           }
          ],
          "scattermapbox": [
           {
            "marker": {
             "colorbar": {
              "outlinewidth": 0,
              "ticks": ""
             }
            },
            "type": "scattermapbox"
           }
          ],
          "scatterpolar": [
           {
            "marker": {
             "colorbar": {
              "outlinewidth": 0,
              "ticks": ""
             }
            },
            "type": "scatterpolar"
           }
          ],
          "scatterpolargl": [
           {
            "marker": {
             "colorbar": {
              "outlinewidth": 0,
              "ticks": ""
             }
            },
            "type": "scatterpolargl"
           }
          ],
          "scatterternary": [
           {
            "marker": {
             "colorbar": {
              "outlinewidth": 0,
              "ticks": ""
             }
            },
            "type": "scatterternary"
           }
          ],
          "surface": [
           {
            "colorbar": {
             "outlinewidth": 0,
             "ticks": ""
            },
            "colorscale": [
             [
              0,
              "#0d0887"
             ],
             [
              0.1111111111111111,
              "#46039f"
             ],
             [
              0.2222222222222222,
              "#7201a8"
             ],
             [
              0.3333333333333333,
              "#9c179e"
             ],
             [
              0.4444444444444444,
              "#bd3786"
             ],
             [
              0.5555555555555556,
              "#d8576b"
             ],
             [
              0.6666666666666666,
              "#ed7953"
             ],
             [
              0.7777777777777778,
              "#fb9f3a"
             ],
             [
              0.8888888888888888,
              "#fdca26"
             ],
             [
              1,
              "#f0f921"
             ]
            ],
            "type": "surface"
           }
          ],
          "table": [
           {
            "cells": {
             "fill": {
              "color": "#EBF0F8"
             },
             "line": {
              "color": "white"
             }
            },
            "header": {
             "fill": {
              "color": "#C8D4E3"
             },
             "line": {
              "color": "white"
             }
            },
            "type": "table"
           }
          ]
         },
         "layout": {
          "annotationdefaults": {
           "arrowcolor": "#2a3f5f",
           "arrowhead": 0,
           "arrowwidth": 1
          },
          "autotypenumbers": "strict",
          "coloraxis": {
           "colorbar": {
            "outlinewidth": 0,
            "ticks": ""
           }
          },
          "colorscale": {
           "diverging": [
            [
             0,
             "#8e0152"
            ],
            [
             0.1,
             "#c51b7d"
            ],
            [
             0.2,
             "#de77ae"
            ],
            [
             0.3,
             "#f1b6da"
            ],
            [
             0.4,
             "#fde0ef"
            ],
            [
             0.5,
             "#f7f7f7"
            ],
            [
             0.6,
             "#e6f5d0"
            ],
            [
             0.7,
             "#b8e186"
            ],
            [
             0.8,
             "#7fbc41"
            ],
            [
             0.9,
             "#4d9221"
            ],
            [
             1,
             "#276419"
            ]
           ],
           "sequential": [
            [
             0,
             "#0d0887"
            ],
            [
             0.1111111111111111,
             "#46039f"
            ],
            [
             0.2222222222222222,
             "#7201a8"
            ],
            [
             0.3333333333333333,
             "#9c179e"
            ],
            [
             0.4444444444444444,
             "#bd3786"
            ],
            [
             0.5555555555555556,
             "#d8576b"
            ],
            [
             0.6666666666666666,
             "#ed7953"
            ],
            [
             0.7777777777777778,
             "#fb9f3a"
            ],
            [
             0.8888888888888888,
             "#fdca26"
            ],
            [
             1,
             "#f0f921"
            ]
           ],
           "sequentialminus": [
            [
             0,
             "#0d0887"
            ],
            [
             0.1111111111111111,
             "#46039f"
            ],
            [
             0.2222222222222222,
             "#7201a8"
            ],
            [
             0.3333333333333333,
             "#9c179e"
            ],
            [
             0.4444444444444444,
             "#bd3786"
            ],
            [
             0.5555555555555556,
             "#d8576b"
            ],
            [
             0.6666666666666666,
             "#ed7953"
            ],
            [
             0.7777777777777778,
             "#fb9f3a"
            ],
            [
             0.8888888888888888,
             "#fdca26"
            ],
            [
             1,
             "#f0f921"
            ]
           ]
          },
          "colorway": [
           "#636efa",
           "#EF553B",
           "#00cc96",
           "#ab63fa",
           "#FFA15A",
           "#19d3f3",
           "#FF6692",
           "#B6E880",
           "#FF97FF",
           "#FECB52"
          ],
          "font": {
           "color": "#2a3f5f"
          },
          "geo": {
           "bgcolor": "white",
           "lakecolor": "white",
           "landcolor": "#E5ECF6",
           "showlakes": true,
           "showland": true,
           "subunitcolor": "white"
          },
          "hoverlabel": {
           "align": "left"
          },
          "hovermode": "closest",
          "mapbox": {
           "style": "light"
          },
          "paper_bgcolor": "white",
          "plot_bgcolor": "#E5ECF6",
          "polar": {
           "angularaxis": {
            "gridcolor": "white",
            "linecolor": "white",
            "ticks": ""
           },
           "bgcolor": "#E5ECF6",
           "radialaxis": {
            "gridcolor": "white",
            "linecolor": "white",
            "ticks": ""
           }
          },
          "scene": {
           "xaxis": {
            "backgroundcolor": "#E5ECF6",
            "gridcolor": "white",
            "gridwidth": 2,
            "linecolor": "white",
            "showbackground": true,
            "ticks": "",
            "zerolinecolor": "white"
           },
           "yaxis": {
            "backgroundcolor": "#E5ECF6",
            "gridcolor": "white",
            "gridwidth": 2,
            "linecolor": "white",
            "showbackground": true,
            "ticks": "",
            "zerolinecolor": "white"
           },
           "zaxis": {
            "backgroundcolor": "#E5ECF6",
            "gridcolor": "white",
            "gridwidth": 2,
            "linecolor": "white",
            "showbackground": true,
            "ticks": "",
            "zerolinecolor": "white"
           }
          },
          "shapedefaults": {
           "line": {
            "color": "#2a3f5f"
           }
          },
          "ternary": {
           "aaxis": {
            "gridcolor": "white",
            "linecolor": "white",
            "ticks": ""
           },
           "baxis": {
            "gridcolor": "white",
            "linecolor": "white",
            "ticks": ""
           },
           "bgcolor": "#E5ECF6",
           "caxis": {
            "gridcolor": "white",
            "linecolor": "white",
            "ticks": ""
           }
          },
          "title": {
           "x": 0.05
          },
          "xaxis": {
           "automargin": true,
           "gridcolor": "white",
           "linecolor": "white",
           "ticks": "",
           "title": {
            "standoff": 15
           },
           "zerolinecolor": "white",
           "zerolinewidth": 2
          },
          "yaxis": {
           "automargin": true,
           "gridcolor": "white",
           "linecolor": "white",
           "ticks": "",
           "title": {
            "standoff": 15
           },
           "zerolinecolor": "white",
           "zerolinewidth": 2
          }
         }
        },
        "title": {
         "text": "Garden City: Student Demographics"
        },
        "xaxis": {
         "anchor": "y",
         "domain": [
          0,
          1
         ],
         "title": {
          "text": "District"
         }
        },
        "yaxis": {
         "anchor": "x",
         "domain": [
          0,
          1
         ],
         "tickformat": ",",
         "title": {
          "text": "Number of Students"
         }
        }
       }
      }
     },
     "metadata": {},
     "output_type": "display_data"
    }
   ],
   "source": [
    "# let's make a bar chart showing the largest demographic groups, just in Garden City\n",
    "# first, create a list with the columns we want to chart\n",
    "cols = [\"Asian or Asian/Pacific Islander Students\", \"Black or African American Students\", \"Hispanic Students\", \"White Students\"]\n",
    "# get just the one district\n",
    "just_gc = gc[gc[\"District\"] == \"Garden City\"]\n",
    "chart_title = \"Garden City: Student Demographics\"\n",
    "fig = px.bar(just_gc, x='District', y=cols, title=chart_title)\n",
    "fig.update_layout(\n",
    "    barmode='group',\n",
    "    yaxis_title=\"Number of Students\",\n",
    "    yaxis_tickformat=','\n",
    ")\n",
    "fig"
   ]
  },
  {
   "cell_type": "code",
   "execution_count": 8,
   "metadata": {},
   "outputs": [
    {
     "data": {
      "application/vnd.plotly.v1+json": {
       "config": {
        "plotlyServerURL": "https://plot.ly"
       },
       "data": [
        {
         "alignmentgroup": "True",
         "hovertemplate": "variable=Asian or Asian/Pacific Islander Students<br>District=%{x}<br>value=%{y}<extra></extra>",
         "legendgroup": "Asian or Asian/Pacific Islander Students",
         "marker": {
          "color": "#636efa",
          "pattern": {
           "shape": ""
          }
         },
         "name": "Asian or Asian/Pacific Islander Students",
         "offsetgroup": "Asian or Asian/Pacific Islander Students",
         "orientation": "v",
         "showlegend": true,
         "textposition": "auto",
         "type": "bar",
         "x": [
          "Carle Place",
          "Elmont",
          "Franklin Square",
          "Garden City",
          "Hempstead",
          "Mineola",
          "New Hyde Park-Garden City Park",
          "Sewanhaka Central High",
          "West Hempstead"
         ],
         "xaxis": "x",
         "y": [
          139,
          882,
          317,
          419,
          67,
          419,
          1019,
          2094,
          131
         ],
         "yaxis": "y"
        },
        {
         "alignmentgroup": "True",
         "hovertemplate": "variable=Black or African American Students<br>District=%{x}<br>value=%{y}<extra></extra>",
         "legendgroup": "Black or African American Students",
         "marker": {
          "color": "#EF553B",
          "pattern": {
           "shape": ""
          }
         },
         "name": "Black or African American Students",
         "offsetgroup": "Black or African American Students",
         "orientation": "v",
         "showlegend": true,
         "textposition": "auto",
         "type": "bar",
         "x": [
          "Carle Place",
          "Elmont",
          "Franklin Square",
          "Garden City",
          "Hempstead",
          "Mineola",
          "New Hyde Park-Garden City Park",
          "Sewanhaka Central High",
          "West Hempstead"
         ],
         "xaxis": "x",
         "y": [
          20,
          1178,
          53,
          30,
          1268,
          70,
          10,
          1670,
          320
         ],
         "yaxis": "y"
        },
        {
         "alignmentgroup": "True",
         "hovertemplate": "variable=Hispanic Students<br>District=%{x}<br>value=%{y}<extra></extra>",
         "legendgroup": "Hispanic Students",
         "marker": {
          "color": "#00cc96",
          "pattern": {
           "shape": ""
          }
         },
         "name": "Hispanic Students",
         "offsetgroup": "Hispanic Students",
         "orientation": "v",
         "showlegend": true,
         "textposition": "auto",
         "type": "bar",
         "x": [
          "Carle Place",
          "Elmont",
          "Franklin Square",
          "Garden City",
          "Hempstead",
          "Mineola",
          "New Hyde Park-Garden City Park",
          "Sewanhaka Central High",
          "West Hempstead"
         ],
         "xaxis": "x",
         "y": [
          313,
          1042,
          484,
          285,
          4571,
          954,
          242,
          1816,
          760
         ],
         "yaxis": "y"
        },
        {
         "alignmentgroup": "True",
         "hovertemplate": "variable=White Students<br>District=%{x}<br>value=%{y}<extra></extra>",
         "legendgroup": "White Students",
         "marker": {
          "color": "#ab63fa",
          "pattern": {
           "shape": ""
          }
         },
         "name": "White Students",
         "offsetgroup": "White Students",
         "orientation": "v",
         "showlegend": true,
         "textposition": "auto",
         "type": "bar",
         "x": [
          "Carle Place",
          "Elmont",
          "Franklin Square",
          "Garden City",
          "Hempstead",
          "Mineola",
          "New Hyde Park-Garden City Park",
          "Sewanhaka Central High",
          "West Hempstead"
         ],
         "xaxis": "x",
         "y": [
          761,
          173,
          1032,
          3117,
          94,
          1323,
          319,
          2183,
          319
         ],
         "yaxis": "y"
        }
       ],
       "layout": {
        "barmode": "group",
        "legend": {
         "title": {
          "text": "variable"
         },
         "tracegroupgap": 0
        },
        "template": {
         "data": {
          "bar": [
           {
            "error_x": {
             "color": "#2a3f5f"
            },
            "error_y": {
             "color": "#2a3f5f"
            },
            "marker": {
             "line": {
              "color": "#E5ECF6",
              "width": 0.5
             },
             "pattern": {
              "fillmode": "overlay",
              "size": 10,
              "solidity": 0.2
             }
            },
            "type": "bar"
           }
          ],
          "barpolar": [
           {
            "marker": {
             "line": {
              "color": "#E5ECF6",
              "width": 0.5
             },
             "pattern": {
              "fillmode": "overlay",
              "size": 10,
              "solidity": 0.2
             }
            },
            "type": "barpolar"
           }
          ],
          "carpet": [
           {
            "aaxis": {
             "endlinecolor": "#2a3f5f",
             "gridcolor": "white",
             "linecolor": "white",
             "minorgridcolor": "white",
             "startlinecolor": "#2a3f5f"
            },
            "baxis": {
             "endlinecolor": "#2a3f5f",
             "gridcolor": "white",
             "linecolor": "white",
             "minorgridcolor": "white",
             "startlinecolor": "#2a3f5f"
            },
            "type": "carpet"
           }
          ],
          "choropleth": [
           {
            "colorbar": {
             "outlinewidth": 0,
             "ticks": ""
            },
            "type": "choropleth"
           }
          ],
          "contour": [
           {
            "colorbar": {
             "outlinewidth": 0,
             "ticks": ""
            },
            "colorscale": [
             [
              0,
              "#0d0887"
             ],
             [
              0.1111111111111111,
              "#46039f"
             ],
             [
              0.2222222222222222,
              "#7201a8"
             ],
             [
              0.3333333333333333,
              "#9c179e"
             ],
             [
              0.4444444444444444,
              "#bd3786"
             ],
             [
              0.5555555555555556,
              "#d8576b"
             ],
             [
              0.6666666666666666,
              "#ed7953"
             ],
             [
              0.7777777777777778,
              "#fb9f3a"
             ],
             [
              0.8888888888888888,
              "#fdca26"
             ],
             [
              1,
              "#f0f921"
             ]
            ],
            "type": "contour"
           }
          ],
          "contourcarpet": [
           {
            "colorbar": {
             "outlinewidth": 0,
             "ticks": ""
            },
            "type": "contourcarpet"
           }
          ],
          "heatmap": [
           {
            "colorbar": {
             "outlinewidth": 0,
             "ticks": ""
            },
            "colorscale": [
             [
              0,
              "#0d0887"
             ],
             [
              0.1111111111111111,
              "#46039f"
             ],
             [
              0.2222222222222222,
              "#7201a8"
             ],
             [
              0.3333333333333333,
              "#9c179e"
             ],
             [
              0.4444444444444444,
              "#bd3786"
             ],
             [
              0.5555555555555556,
              "#d8576b"
             ],
             [
              0.6666666666666666,
              "#ed7953"
             ],
             [
              0.7777777777777778,
              "#fb9f3a"
             ],
             [
              0.8888888888888888,
              "#fdca26"
             ],
             [
              1,
              "#f0f921"
             ]
            ],
            "type": "heatmap"
           }
          ],
          "heatmapgl": [
           {
            "colorbar": {
             "outlinewidth": 0,
             "ticks": ""
            },
            "colorscale": [
             [
              0,
              "#0d0887"
             ],
             [
              0.1111111111111111,
              "#46039f"
             ],
             [
              0.2222222222222222,
              "#7201a8"
             ],
             [
              0.3333333333333333,
              "#9c179e"
             ],
             [
              0.4444444444444444,
              "#bd3786"
             ],
             [
              0.5555555555555556,
              "#d8576b"
             ],
             [
              0.6666666666666666,
              "#ed7953"
             ],
             [
              0.7777777777777778,
              "#fb9f3a"
             ],
             [
              0.8888888888888888,
              "#fdca26"
             ],
             [
              1,
              "#f0f921"
             ]
            ],
            "type": "heatmapgl"
           }
          ],
          "histogram": [
           {
            "marker": {
             "pattern": {
              "fillmode": "overlay",
              "size": 10,
              "solidity": 0.2
             }
            },
            "type": "histogram"
           }
          ],
          "histogram2d": [
           {
            "colorbar": {
             "outlinewidth": 0,
             "ticks": ""
            },
            "colorscale": [
             [
              0,
              "#0d0887"
             ],
             [
              0.1111111111111111,
              "#46039f"
             ],
             [
              0.2222222222222222,
              "#7201a8"
             ],
             [
              0.3333333333333333,
              "#9c179e"
             ],
             [
              0.4444444444444444,
              "#bd3786"
             ],
             [
              0.5555555555555556,
              "#d8576b"
             ],
             [
              0.6666666666666666,
              "#ed7953"
             ],
             [
              0.7777777777777778,
              "#fb9f3a"
             ],
             [
              0.8888888888888888,
              "#fdca26"
             ],
             [
              1,
              "#f0f921"
             ]
            ],
            "type": "histogram2d"
           }
          ],
          "histogram2dcontour": [
           {
            "colorbar": {
             "outlinewidth": 0,
             "ticks": ""
            },
            "colorscale": [
             [
              0,
              "#0d0887"
             ],
             [
              0.1111111111111111,
              "#46039f"
             ],
             [
              0.2222222222222222,
              "#7201a8"
             ],
             [
              0.3333333333333333,
              "#9c179e"
             ],
             [
              0.4444444444444444,
              "#bd3786"
             ],
             [
              0.5555555555555556,
              "#d8576b"
             ],
             [
              0.6666666666666666,
              "#ed7953"
             ],
             [
              0.7777777777777778,
              "#fb9f3a"
             ],
             [
              0.8888888888888888,
              "#fdca26"
             ],
             [
              1,
              "#f0f921"
             ]
            ],
            "type": "histogram2dcontour"
           }
          ],
          "mesh3d": [
           {
            "colorbar": {
             "outlinewidth": 0,
             "ticks": ""
            },
            "type": "mesh3d"
           }
          ],
          "parcoords": [
           {
            "line": {
             "colorbar": {
              "outlinewidth": 0,
              "ticks": ""
             }
            },
            "type": "parcoords"
           }
          ],
          "pie": [
           {
            "automargin": true,
            "type": "pie"
           }
          ],
          "scatter": [
           {
            "fillpattern": {
             "fillmode": "overlay",
             "size": 10,
             "solidity": 0.2
            },
            "type": "scatter"
           }
          ],
          "scatter3d": [
           {
            "line": {
             "colorbar": {
              "outlinewidth": 0,
              "ticks": ""
             }
            },
            "marker": {
             "colorbar": {
              "outlinewidth": 0,
              "ticks": ""
             }
            },
            "type": "scatter3d"
           }
          ],
          "scattercarpet": [
           {
            "marker": {
             "colorbar": {
              "outlinewidth": 0,
              "ticks": ""
             }
            },
            "type": "scattercarpet"
           }
          ],
          "scattergeo": [
           {
            "marker": {
             "colorbar": {
              "outlinewidth": 0,
              "ticks": ""
             }
            },
            "type": "scattergeo"
           }
          ],
          "scattergl": [
           {
            "marker": {
             "colorbar": {
              "outlinewidth": 0,
              "ticks": ""
             }
            },
            "type": "scattergl"
           }
          ],
          "scattermapbox": [
           {
            "marker": {
             "colorbar": {
              "outlinewidth": 0,
              "ticks": ""
             }
            },
            "type": "scattermapbox"
           }
          ],
          "scatterpolar": [
           {
            "marker": {
             "colorbar": {
              "outlinewidth": 0,
              "ticks": ""
             }
            },
            "type": "scatterpolar"
           }
          ],
          "scatterpolargl": [
           {
            "marker": {
             "colorbar": {
              "outlinewidth": 0,
              "ticks": ""
             }
            },
            "type": "scatterpolargl"
           }
          ],
          "scatterternary": [
           {
            "marker": {
             "colorbar": {
              "outlinewidth": 0,
              "ticks": ""
             }
            },
            "type": "scatterternary"
           }
          ],
          "surface": [
           {
            "colorbar": {
             "outlinewidth": 0,
             "ticks": ""
            },
            "colorscale": [
             [
              0,
              "#0d0887"
             ],
             [
              0.1111111111111111,
              "#46039f"
             ],
             [
              0.2222222222222222,
              "#7201a8"
             ],
             [
              0.3333333333333333,
              "#9c179e"
             ],
             [
              0.4444444444444444,
              "#bd3786"
             ],
             [
              0.5555555555555556,
              "#d8576b"
             ],
             [
              0.6666666666666666,
              "#ed7953"
             ],
             [
              0.7777777777777778,
              "#fb9f3a"
             ],
             [
              0.8888888888888888,
              "#fdca26"
             ],
             [
              1,
              "#f0f921"
             ]
            ],
            "type": "surface"
           }
          ],
          "table": [
           {
            "cells": {
             "fill": {
              "color": "#EBF0F8"
             },
             "line": {
              "color": "white"
             }
            },
            "header": {
             "fill": {
              "color": "#C8D4E3"
             },
             "line": {
              "color": "white"
             }
            },
            "type": "table"
           }
          ]
         },
         "layout": {
          "annotationdefaults": {
           "arrowcolor": "#2a3f5f",
           "arrowhead": 0,
           "arrowwidth": 1
          },
          "autotypenumbers": "strict",
          "coloraxis": {
           "colorbar": {
            "outlinewidth": 0,
            "ticks": ""
           }
          },
          "colorscale": {
           "diverging": [
            [
             0,
             "#8e0152"
            ],
            [
             0.1,
             "#c51b7d"
            ],
            [
             0.2,
             "#de77ae"
            ],
            [
             0.3,
             "#f1b6da"
            ],
            [
             0.4,
             "#fde0ef"
            ],
            [
             0.5,
             "#f7f7f7"
            ],
            [
             0.6,
             "#e6f5d0"
            ],
            [
             0.7,
             "#b8e186"
            ],
            [
             0.8,
             "#7fbc41"
            ],
            [
             0.9,
             "#4d9221"
            ],
            [
             1,
             "#276419"
            ]
           ],
           "sequential": [
            [
             0,
             "#0d0887"
            ],
            [
             0.1111111111111111,
             "#46039f"
            ],
            [
             0.2222222222222222,
             "#7201a8"
            ],
            [
             0.3333333333333333,
             "#9c179e"
            ],
            [
             0.4444444444444444,
             "#bd3786"
            ],
            [
             0.5555555555555556,
             "#d8576b"
            ],
            [
             0.6666666666666666,
             "#ed7953"
            ],
            [
             0.7777777777777778,
             "#fb9f3a"
            ],
            [
             0.8888888888888888,
             "#fdca26"
            ],
            [
             1,
             "#f0f921"
            ]
           ],
           "sequentialminus": [
            [
             0,
             "#0d0887"
            ],
            [
             0.1111111111111111,
             "#46039f"
            ],
            [
             0.2222222222222222,
             "#7201a8"
            ],
            [
             0.3333333333333333,
             "#9c179e"
            ],
            [
             0.4444444444444444,
             "#bd3786"
            ],
            [
             0.5555555555555556,
             "#d8576b"
            ],
            [
             0.6666666666666666,
             "#ed7953"
            ],
            [
             0.7777777777777778,
             "#fb9f3a"
            ],
            [
             0.8888888888888888,
             "#fdca26"
            ],
            [
             1,
             "#f0f921"
            ]
           ]
          },
          "colorway": [
           "#636efa",
           "#EF553B",
           "#00cc96",
           "#ab63fa",
           "#FFA15A",
           "#19d3f3",
           "#FF6692",
           "#B6E880",
           "#FF97FF",
           "#FECB52"
          ],
          "font": {
           "color": "#2a3f5f"
          },
          "geo": {
           "bgcolor": "white",
           "lakecolor": "white",
           "landcolor": "#E5ECF6",
           "showlakes": true,
           "showland": true,
           "subunitcolor": "white"
          },
          "hoverlabel": {
           "align": "left"
          },
          "hovermode": "closest",
          "mapbox": {
           "style": "light"
          },
          "paper_bgcolor": "white",
          "plot_bgcolor": "#E5ECF6",
          "polar": {
           "angularaxis": {
            "gridcolor": "white",
            "linecolor": "white",
            "ticks": ""
           },
           "bgcolor": "#E5ECF6",
           "radialaxis": {
            "gridcolor": "white",
            "linecolor": "white",
            "ticks": ""
           }
          },
          "scene": {
           "xaxis": {
            "backgroundcolor": "#E5ECF6",
            "gridcolor": "white",
            "gridwidth": 2,
            "linecolor": "white",
            "showbackground": true,
            "ticks": "",
            "zerolinecolor": "white"
           },
           "yaxis": {
            "backgroundcolor": "#E5ECF6",
            "gridcolor": "white",
            "gridwidth": 2,
            "linecolor": "white",
            "showbackground": true,
            "ticks": "",
            "zerolinecolor": "white"
           },
           "zaxis": {
            "backgroundcolor": "#E5ECF6",
            "gridcolor": "white",
            "gridwidth": 2,
            "linecolor": "white",
            "showbackground": true,
            "ticks": "",
            "zerolinecolor": "white"
           }
          },
          "shapedefaults": {
           "line": {
            "color": "#2a3f5f"
           }
          },
          "ternary": {
           "aaxis": {
            "gridcolor": "white",
            "linecolor": "white",
            "ticks": ""
           },
           "baxis": {
            "gridcolor": "white",
            "linecolor": "white",
            "ticks": ""
           },
           "bgcolor": "#E5ECF6",
           "caxis": {
            "gridcolor": "white",
            "linecolor": "white",
            "ticks": ""
           }
          },
          "title": {
           "x": 0.05
          },
          "xaxis": {
           "automargin": true,
           "gridcolor": "white",
           "linecolor": "white",
           "ticks": "",
           "title": {
            "standoff": 15
           },
           "zerolinecolor": "white",
           "zerolinewidth": 2
          },
          "yaxis": {
           "automargin": true,
           "gridcolor": "white",
           "linecolor": "white",
           "ticks": "",
           "title": {
            "standoff": 15
           },
           "zerolinecolor": "white",
           "zerolinewidth": 2
          }
         }
        },
        "title": {
         "text": "Garden City and Neighbors: Student Demographics"
        },
        "xaxis": {
         "anchor": "y",
         "domain": [
          0,
          1
         ],
         "title": {
          "text": "District"
         }
        },
        "yaxis": {
         "anchor": "x",
         "domain": [
          0,
          1
         ],
         "tickformat": ",",
         "title": {
          "text": "Number of Students"
         }
        }
       }
      }
     },
     "metadata": {},
     "output_type": "display_data"
    }
   ],
   "source": [
    "# last, we will make a bar chart showing the student demographic groups in each district\n",
    "gc = gc.sort_values(\"District\")\n",
    "\n",
    "chart_title = \"Garden City and Neighbors: Student Demographics\"\n",
    "\n",
    "fig = px.bar(gc, x='District', y=cols, title=chart_title)\n",
    "fig.update_layout(\n",
    "    barmode='group',\n",
    "    yaxis_title=\"Number of Students\",\n",
    "    yaxis_tickformat=','\n",
    ")\n",
    "\n",
    "fig"
   ]
  }
 ],
 "metadata": {
  "kernelspec": {
   "display_name": "cartopy",
   "language": "python",
   "name": "python3"
  },
  "language_info": {
   "codemirror_mode": {
    "name": "ipython",
    "version": 3
   },
   "file_extension": ".py",
   "mimetype": "text/x-python",
   "name": "python",
   "nbconvert_exporter": "python",
   "pygments_lexer": "ipython3",
   "version": "3.10.12"
  }
 },
 "nbformat": 4,
 "nbformat_minor": 2
}
