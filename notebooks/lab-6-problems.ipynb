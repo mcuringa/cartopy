{
 "cells": [
  {
   "cell_type": "markdown",
   "metadata": {},
   "source": [
    "Lab 6 Problems\n",
    "==============\n",
    "A few merging and grouping problems.\n",
    "\n",
    "The code block below loads the required libraries\n",
    "and loads the data sets that you will need for\n",
    "these problems.\n",
    "\n",
    "You should only have to run this block once -- use\n",
    "`copy()` if you need to so that you don't alter\n",
    "the original data. **Don't** copy and paste the\n",
    "import statements or `read_` calls into your code\n",
    "blocks. Your Notebook should be clear and easy to\n",
    "read when you submit it."
   ]
  },
  {
   "cell_type": "code",
   "execution_count": 1,
   "metadata": {},
   "outputs": [],
   "source": [
    "# do not copy and paste this into your own work...just run it\n",
    "!pip install mapclassify -q\n",
    "import pandas as pd\n",
    "import geopandas as gpd\n",
    "from IPython.display import display, HTML, Markdown as md\n",
    "import xyzservices.providers as xyz\n",
    "import math\n",
    "import matplotlib.pyplot as plt\n",
    "from matplotlib import colors\n",
    "\n",
    "state_data_url = \"https://raw.githubusercontent.com/mcuringa/cartopy/refs/heads/main/notebooks/data/state_demographics.csv\"\n",
    "shape_url = \"https://raw.githubusercontent.com/mcuringa/cartopy/refs/heads/main/notebooks/data/us-states.geojson\"\n",
    "city_data_url = \"https://github.com/mcuringa/cartopy/raw/main/notebooks/data/us-city-demographics.geojson\"\n",
    "\n",
    "states_df = pd.read_csv(state_data_url)\n",
    "shapes = gpd.read_file(shape_url)\n",
    "cities_df = gpd.read_file(city_data_url)"
   ]
  },
  {
   "cell_type": "markdown",
   "metadata": {},
   "source": [
    "Problem 1: Merge shapes\n",
    "=======================\n",
    "\n",
    "The code below uses the US state demographic data from `states_df`.\n",
    "It also has the state shape geometries as a geopandas GeoDataFrame called `state_shapes`.\n",
    "\n",
    "Merge the data sets and use the `explore()` method to plot state population using a sequential color map.\n",
    "\n",
    "_There are several steps to this problem. If it's not clear, ask for help._\n",
    "\n",
    "**Note:** make sure to call `merge()` on `state_shapes`, not `states_df` or else you will not be able to map the data/- \n"
   ]
  },
  {
   "cell_type": "code",
   "execution_count": 18,
   "metadata": {},
   "outputs": [],
   "source": [
    "# problem 1 code"
   ]
  },
  {
   "cell_type": "markdown",
   "metadata": {},
   "source": [
    "Problem 2:\n",
    "==========\n",
    "Working with the data from `cities_df`, group the data by state and make a table of the results\n",
    "with columns showing the state, the number of urban residents living in poverty and the percent\n",
    "of urban residents living in poverty."
   ]
  }
 ],
 "metadata": {
  "kernelspec": {
   "display_name": "cartopy",
   "language": "python",
   "name": "python3"
  },
  "language_info": {
   "codemirror_mode": {
    "name": "ipython",
    "version": 3
   },
   "file_extension": ".py",
   "mimetype": "text/x-python",
   "name": "python",
   "nbconvert_exporter": "python",
   "pygments_lexer": "ipython3",
   "version": "3.10.12"
  }
 },
 "nbformat": 4,
 "nbformat_minor": 2
}
